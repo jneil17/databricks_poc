{
 "cells": [
  {
   "cell_type": "code",
   "execution_count": 0,
   "metadata": {
    "application/vnd.databricks.v1+cell": {
     "cellMetadata": {},
     "inputWidgets": {},
     "nuid": "b8888e8f-c808-4c8b-9e21-d9f4322c8388",
     "showTitle": false,
     "tableResultSettingsMap": {},
     "title": ""
    }
   },
   "outputs": [],
   "source": [
    "# 4. Visualizing Your Data with Dashboards and AI\n",
    "\n",
    "Once your data is cleaned and aggregated, the final step is to build visualizations and dashboards to uncover insights. Databricks offers a powerful built-in dashboarding tool and also connects seamlessly to any external BI tool you already use."
   ]
  },
  {
   "cell_type": "markdown",
   "metadata": {},
   "source": [
    "## Method 1: In-House Dashboards with AI/BI (Genie)\n",
    "\n",
    "Databricks Dashboards are powered by **Genie**, an AI assistant that helps you build visualizations and uncover insights without writing complex queries. You can create charts from your data and ask questions in plain English.\n",
    "\n",
    "The `aibi-portfolio-assistant` demo created a sophisticated dashboard for you to explore.\n",
    "\n",
    "### To Explore the AI-Powered Dashboard:\n",
    "\n",
    "1. Open the **`aibi-portfolio-assistant`** dashboard using the link from the setup script.\n",
    "2. On the right-hand panel, you'll see the **Databricks Assistant**. Try asking it a question about the data, like: `\"Which stocks have the highest volatility?\"` or `\"Show me a breakdown of the portfolio by sector.\"`\n",
    "\n",
    "[![Video Thumbnail](https://img.youtube.com/vi/bOaV52e2n5c/0.jpg)](https://www.youtube.com/watch?v=bOaV52e2n5c \"Introducing Databricks Assistant for Dashboards\")\n",
    "\n",
    "### 📖 Additional Resources:\n",
    "* [AI/BI Dashboards Documentation](https://docs.databricks.com/en/dashboards/index.html)\n",
    "* [Best Practices for Dashboards](https://www.databricks.com/blog/best-practices-building-effective-and-scalable-dashboards.html)"
   ]
  },
  {
   "cell_type": "markdown",
   "metadata": {},
   "source": [
    "## Method 2: Connecting to External BI Tools (Power BI, Tableau, etc.)\n",
    "\n",
    "Databricks is an open platform, allowing you to connect your favorite BI tool to the Lakehouse. The Serverless SQL Warehouse provides a high-performance engine for all your BI queries, and **Partner Connect** makes the setup process simple and fast.\n",
    "\n",
    "[![Video Thumbnail](https://img.youtube.com/vi/QJ-TUXyGV4c/0.jpg)](https://www.youtube.com/watch?v=QJ-TUXyGV4c \"How to Connect Tableau to Databricks\")\n",
    "\n",
    "### To Connect Your BI Tool:\n",
    "\n",
    "1. In the left navigation bar, go to **Partner Connect**.\n",
    "2. Find your BI tool (e.g., Tableau or Power BI) and follow the wizard.\n",
    "3. Partner Connect will handle the configuration and provide a connection file to open directly in your BI tool.\n",
    "\n",
    "### 📖 Documentation Links:\n",
    "* [Connect to Power BI](https://docs.databricks.com/en/integrations/bi/power-bi.html)\n",
    "* [Connect to Tableau](https://docs.databricks.com/en/integrations/bi/tableau.html)\n",
    "* [Connect via JDBC/ODBC for other tools](https://docs.databricks.com/en/integrations/bi/jdbc-odbc-bi.html)"
   ]
  },
  {
   "cell_type": "markdown",
   "metadata": {},
   "source": [
    "## Method 3: Advanced Visualization Techniques\n",
    "\n",
    "### Creating Interactive Dashboards with Code"
   ]
  },
  {
   "cell_type": "code",
   "execution_count": null,
   "metadata": {},
   "outputs": [],
   "source": [
    "# Example: Creating interactive visualizations with Plotly\n",
    "import plotly.express as px\n",
    "import pandas as pd\n",
    "\n",
    "# Sample data\n",
    "df = spark.sql(\"SELECT * FROM main.dbdemos_pipeline_bike.bike_trips_gold LIMIT 1000\").toPandas()\n",
    "\n",
    "# Create an interactive scatter plot\n",
    "fig = px.scatter(df, x='trip_duration', y='distance', \n",
    "                 color='user_type', size='trip_duration',\n",
    "                 title='Bike Trip Analysis: Duration vs Distance')\n",
    "\n",
    "# Display in notebook\n",
    "fig.show()\n",
    "\n",
    "# Save for dashboard embedding\n",
    "fig.write_html(\"/dbfs/FileStore/shared_uploads/bike_analysis.html\")"
   ]
  },
  {
   "cell_type": "markdown",
   "metadata": {},
   "source": [
    "### Using Built-in Display Functions"
   ]
  },
  {
   "cell_type": "code",
   "execution_count": null,
   "metadata": {},
   "outputs": [],
   "source": [
    "# Databricks built-in visualization functions\n",
    "df = spark.sql(\"SELECT user_type, COUNT(*) as trip_count FROM main.dbdemos_pipeline_bike.bike_trips_gold GROUP BY user_type\")\n",
    "\n",
    "# Simple display with automatic chart options\n",
    "display(df)\n",
    "\n",
    "# You can also use displayHTML for custom HTML content\n",
    "displayHTML(\"\"\"\n",
    "<div style='background: linear-gradient(135deg, #1e3c72, #2a5298); padding: 20px; border-radius: 10px; color: white;'>\n",
    "    <h2>📊 Dashboard Insights</h2>\n",
    "    <p>This data represents bike sharing patterns across different user types.</p>\n",
    "    <p>Use the chart options above to explore different visualizations!</p>\n",
    "</div>\n",
    "\"\"\")"
   ]
  },
  {
   "cell_type": "markdown",
   "metadata": {},
   "source": [
    "## AI-Powered Analytics and Insights\n",
    "\n",
    "### Using Databricks Assistant for Analysis"
   ]
  },
  {
   "cell_type": "markdown",
   "metadata": {},
   "source": [
    "The **Databricks Assistant** can help you with:\n",
    "\n",
    "1. **Query Generation**: Ask \"Show me the top 10 customers by revenue\" and get SQL automatically\n",
    "2. **Data Exploration**: \"What are the trends in this dataset?\"\n",
    "3. **Visualization Suggestions**: \"What's the best way to visualize this data?\"\n",
    "4. **Code Generation**: \"Create a bar chart showing sales by region\"\n",
    "\n",
    "### Example AI Prompts to Try:\n",
    "- `\"Create a time series chart showing daily bike trips\"`\n",
    "- `\"Find outliers in the trip duration data\"`\n",
    "- `\"Show me the busiest bike stations\"`\n",
    "- `\"Generate a summary of user behavior patterns\"`\n",
    "\n",
    "[![Video Thumbnail](https://img.youtube.com/vi/o5qP4FeIUU4/0.jpg)](https://www.youtube.com/watch?v=o5qP4FeIUU4 \"AI-Powered Analytics with Databricks Assistant\")"
   ]
  },
  {
   "cell_type": "markdown",
   "metadata": {},
   "source": [
    "## Comprehensive Resource Library\n",
    "\n",
    "### 📚 **Official Documentation**\n",
    "* [AI/BI Dashboards Complete Guide](https://docs.databricks.com/en/dashboards/index.html)\n",
    "* [Databricks Assistant Documentation](https://docs.databricks.com/en/dashboards/ai-bi-assistant.html)\n",
    "* [Visualization and Charts Guide](https://docs.databricks.com/en/visualizations/index.html)\n",
    "* [Business Intelligence Integrations](https://docs.databricks.com/en/integrations/bi/index.html)\n",
    "* [SQL Warehouses for BI](https://docs.databricks.com/en/compute/sql-warehouse/index.html)\n",
    "* [Dashboard APIs and Automation](https://docs.databricks.com/en/dev-tools/api/latest/dashboards.html)\n",
    "\n",
    "### 🎥 **Video Learning Resources**\n",
    "* [AI/BI Dashboards Masterclass](https://www.youtube.com/watch?v=7QVW3IJtZtE)\n",
    "* [Databricks Assistant for Dashboards](https://www.youtube.com/watch?v=bOaV52e2n5c)\n",
    "* [Building Modern BI with Databricks](https://www.youtube.com/watch?v=qWKrNI_-j3E)\n",
    "* [Power BI Integration Tutorial](https://www.youtube.com/watch?v=bHfM6wryRVY)\n",
    "* [Tableau Best Practices](https://www.youtube.com/watch?v=QJ-TUXyGV4c)\n",
    "* [Advanced Visualization Techniques](https://www.youtube.com/watch?v=LnFI6ZxgxlU)\n",
    "\n",
    "### 🛠️ **Hands-On Tutorials and Workshops**\n",
    "* [AI/BI Dashboard Quickstart](https://docs.databricks.com/en/dashboards/dashboard-quickstart.html)\n",
    "* [Building Your First Dashboard](https://academy.databricks.com/path/data-analyst)\n",
    "* [Advanced Dashboard Design Workshop](https://github.com/databricks-academy/dashboards-and-visualization)\n",
    "* [Python Visualization Libraries Tutorial](https://docs.databricks.com/en/visualizations/matplotlib-and-ggplot.html)\n",
    "\n",
    "### 📖 **Advanced Reading and Best Practices**\n",
    "* [Dashboard Design Best Practices](https://www.databricks.com/blog/best-practices-building-effective-and-scalable-dashboards.html)\n",
    "* [Performance Optimization for BI](https://www.databricks.com/blog/2021/08/11/high-performance-sql-analytics-with-databricks-sql.html)\n",
    "* [Self-Service Analytics Strategy](https://www.databricks.com/blog/2021/11/02/self-service-analytics-databricks-lakehouse-platform.html)\n",
    "* [Data Storytelling with Visualizations](https://www.databricks.com/blog/2021/06/24/telling-stories-with-data-on-databricks.html)\n",
    "\n",
    "### 🔌 **BI Tool Integration Guides**\n",
    "* **Power BI:**\n",
    "  - [Complete Setup Guide](https://docs.databricks.com/en/integrations/bi/power-bi.html)\n",
    "  - [Advanced Features Tutorial](https://www.databricks.com/blog/2021/03/25/announcing-databricks-partner-connect-for-microsoft-power-bi.html)\n",
    "* **Tableau:**\n",
    "  - [Tableau Desktop Integration](https://docs.databricks.com/en/integrations/bi/tableau.html)\n",
    "  - [Tableau Server Setup](https://help.tableau.com/current/pro/desktop/en-us/examples_databricks.htm)\n",
    "* **Looker:**\n",
    "  - [Looker Integration Guide](https://docs.databricks.com/en/integrations/bi/looker.html)\n",
    "* **Qlik:**\n",
    "  - [QlikView/QlikSense Setup](https://docs.databricks.com/en/integrations/bi/qlik.html)\n",
    "* **Generic JDBC/ODBC:**\n",
    "  - [Universal BI Tool Connection](https://docs.databricks.com/en/integrations/bi/jdbc-odbc-bi.html)\n",
    "\n",
    "### 🎨 **Visualization Libraries and Tools**\n",
    "* [Plotly with Databricks](https://docs.databricks.com/en/visualizations/plotly.html)\n",
    "* [Matplotlib and Seaborn](https://docs.databricks.com/en/visualizations/matplotlib-and-ggplot.html)\n",
    "* [R Visualization Libraries](https://docs.databricks.com/en/visualizations/r-visualizations.html)\n",
    "* [D3.js Custom Visualizations](https://docs.databricks.com/en/visualizations/d3.html)\n",
    "\n",
    "### 🤖 **AI and Machine Learning for Analytics**\n",
    "* [AutoML for Business Insights](https://docs.databricks.com/en/machine-learning/automl/index.html)\n",
    "* [Feature Store for Analytics](https://docs.databricks.com/en/machine-learning/feature-store/index.html)\n",
    "* [MLflow for Model Tracking](https://docs.databricks.com/en/mlflow/index.html)\n",
    "* [Model Serving for Real-time Analytics](https://docs.databricks.com/en/machine-learning/model-serving/index.html)\n",
    "\n",
    "### 🏗️ **Architecture and Governance**\n",
    "* [BI Architecture on Databricks](https://www.databricks.com/blog/2020/06/24/introducing-databricks-sql-analytics.html)\n",
    "* [Data Governance for BI](https://docs.databricks.com/en/data-governance/index.html)\n",
    "* [Security Best Practices](https://docs.databricks.com/en/security/index.html)\n",
    "* [Performance Monitoring](https://docs.databricks.com/en/administration-guide/system-tables/index.html)\n",
    "\n",
    "### 💡 **Community and Support**\n",
    "* [Databricks Community - Dashboards](https://community.databricks.com/s/topic/0TO0w000000MrWIGA0/dashboards)\n",
    "* [BI and Analytics Discussions](https://community.databricks.com/s/topic/0TO0w000000MqzEGAS/sql-analytics)\n",
    "* [Stack Overflow - Databricks Visualization](https://stackoverflow.com/questions/tagged/databricks+visualization)\n",
    "* [Reddit - r/BusinessIntelligence](https://www.reddit.com/r/BusinessIntelligence/)\n",
    "* [Tableau Community Forums](https://community.tableau.com/s/topic/0TO4T000000QF8qWAG/databricks)\n",
    "\n",
    "### 📱 **Mobile and Embedded Analytics**\n",
    "* [Embedding Dashboards](https://docs.databricks.com/en/dashboards/embedding.html)\n",
    "* [Mobile Dashboard Best Practices](https://www.databricks.com/blog/2021/11/15/mobile-analytics-databricks-lakehouse-platform.html)\n",
    "* [API-driven Dashboard Automation](https://docs.databricks.com/en/dev-tools/api/latest/dashboards.html)"
   ]
  }
 ],
 "metadata": {
  "application/vnd.databricks.v1+notebook": {
   "computePreferences": null,
   "dashboards": [],
   "environmentMetadata": {
    "base_environment": "",
    "environment_version": "3"
   },
   "inputWidgetPreferences": null,
   "language": "python",
   "notebookMetadata": {
    "pythonIndentUnit": 4
   },
   "notebookName": "4. Dashboarding and AI",
   "widgets": {}
  },
  "language_info": {
   "name": "python"
  }
 },
 "nbformat": 4,
 "nbformat_minor": 0
}
