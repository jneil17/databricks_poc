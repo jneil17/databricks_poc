{
 "cells": [
  {
   "cell_type": "markdown",
   "metadata": {
    "application/vnd.databricks.v1+cell": {
     "cellMetadata": {},
     "inputWidgets": {},
     "nuid": "b8888e8f-c808-4c8b-9e21-d9f4322c8388",
     "showTitle": false,
     "tableResultSettingsMap": {},
     "title": ""
    }
   },
   "source": [
    "# 4. Visualizing Your Data with Dashboards and AI\n",
    "\n",
    "Once your data is cleaned and aggregated, the final step is to build visualizations and dashboards to uncover insights. Databricks offers a powerful built-in dashboarding tool and also connects seamlessly to any external BI tool you already use."
   ]
  },
  {
   "cell_type": "markdown",
   "metadata": {
    "application/vnd.databricks.v1+cell": {
     "cellMetadata": {},
     "inputWidgets": {},
     "nuid": "212e9fa3-3049-4d4a-b3ae-2a241e51a55c",
     "showTitle": false,
     "tableResultSettingsMap": {},
     "title": ""
    }
   },
   "source": [
    "## Method 1: In-House Dashboards with AI/BI (Genie)\n",
    "\n",
    "Databricks Dashboards are powered by **Genie**, an AI assistant that helps you build visualizations and uncover insights without writing complex queries. You can create charts from your data and ask questions in plain English.\n",
    "\n",
    "The `aibi-portfolio-assistant` demo created a sophisticated dashboard for you to explore.\n",
    "\n",
    "### To Explore the AI-Powered Dashboard:\n",
    "\n",
    "1. Open the **`aibi-portfolio-assistant`** dashboard using the link from the setup script.\n",
    "2. On the right-hand panel, you'll see the **Databricks Assistant**. Try asking it a question about the data, like: `\"Which stocks have the highest volatility?\"` or `\"Show me a breakdown of the portfolio by sector.\"`\n",
    "\n",
    "### Introducing Databricks Assistant for Dashboards (Video)\n",
    "\n",
    "[![Video Thumbnail](https://img.youtube.com/vi/5ctfW6Ac0Ws/0.jpg)](https://www.youtube.com/watch?v=5ctfW6Ac0Ws \"Introducing Databricks Assistant for Dashboards\")\n",
    "\n",
    "### 📖 Additional Resources:\n",
    "* [AI/BI Dashboards Documentation](https://docs.databricks.com/en/dashboards/index.html)"
   ]
  },
  {
   "cell_type": "markdown",
   "metadata": {
    "application/vnd.databricks.v1+cell": {
     "cellMetadata": {},
     "inputWidgets": {},
     "nuid": "f4a06732-b198-4df6-a848-062bae8cbd26",
     "showTitle": false,
     "tableResultSettingsMap": {},
     "title": ""
    }
   },
   "source": [
    "## Method 2: Connecting to External BI Tools (Power BI, Tableau, etc.)\n",
    "\n",
    "Databricks is an open platform, allowing you to connect your favorite BI tool to the Lakehouse. The Serverless SQL Warehouse provides a high-performance engine for all your BI queries, and **Partner Connect** makes the setup process simple and fast.\n",
    "\n",
    "## How to Connect Tableau to Databricks (Video)\n",
    "\n",
    "[![Video Thumbnail](https://img.youtube.com/vi/7iVYVwhvwtc/0.jpg)](https://www.youtube.com/watch?v=7iVYVwhvwtc \"How to Connect Tableau to Databricks\")\n",
    "\n",
    "### To Connect Your BI Tool:\n",
    "\n",
    "1. In the left navigation bar, go to **Partner Connect**.\n",
    "2. Find your BI tool (e.g., Tableau or Power BI) and follow the wizard.\n",
    "3. Partner Connect will handle the configuration and provide a connection file to open directly in your BI tool.\n",
    "\n",
    "### 📖 Documentation Links:\n",
    "* [Connect to Power BI](https://docs.databricks.com/en/integrations/bi/power-bi.html)\n",
    "* [Connect to Tableau](https://docs.databricks.com/en/integrations/bi/tableau.html)\n",
    "* [Connect via JDBC/ODBC for other tools](https://docs.databricks.com/en/integrations/bi/jdbc-odbc-bi.html)"
   ]
  },
  {
   "cell_type": "markdown",
   "metadata": {
    "application/vnd.databricks.v1+cell": {
     "cellMetadata": {},
     "inputWidgets": {},
     "nuid": "d794531d-8c82-46e6-85a2-018d4957ba20",
     "showTitle": false,
     "tableResultSettingsMap": {},
     "title": ""
    }
   },
   "source": [
    "## Method 3: Advanced Visualization Techniques\n",
    "\n",
    "### Creating Interactive Dashboards with Code"
   ]
  },
  {
   "cell_type": "code",
   "execution_count": 0,
   "metadata": {
    "application/vnd.databricks.v1+cell": {
     "cellMetadata": {
      "byteLimit": 2048000,
      "rowLimit": 10000
     },
     "inputWidgets": {},
     "nuid": "c7860647-e31d-42f9-9ea6-c0d1fe6168ad",
     "showTitle": false,
     "tableResultSettingsMap": {},
     "title": ""
    }
   },
   "outputs": [],
   "source": [
    "# Example: Creating interactive visualizations with Plotly\n",
    "import plotly.express as px\n",
    "import pandas as pd\n",
    "\n",
    "# Sample data\n",
    "df = spark.read.table(\"main.dbdemos_pipeline_bike.rides\").limit(1000).toPandas()\n",
    "# Convert 'ride_revenue' to numeric, coercing errors to NaN\n",
    "df['ride_revenue'] = pd.to_numeric(df['ride_revenue'], errors='coerce')\n",
    "\n",
    "# Create an interactive scatter plot\n",
    "fig = px.scatter(df, x='end_time', y='ride_revenue', \n",
    "                 color='user_type', size='ride_revenue',\n",
    "                 title='Bike Ride Analysis: Revenue vs End Time')\n",
    "\n",
    "# Render Plotly plot in Databricks notebook\n",
    "import plotly.offline as pyo\n",
    "plot_html = pyo.plot(fig, output_type='div', include_plotlyjs='cdn')\n",
    "displayHTML(plot_html)"
   ]
  },
  {
   "cell_type": "markdown",
   "metadata": {
    "application/vnd.databricks.v1+cell": {
     "cellMetadata": {},
     "inputWidgets": {},
     "nuid": "adb275cf-6eeb-4f64-8fd9-1f5df8ccf583",
     "showTitle": false,
     "tableResultSettingsMap": {},
     "title": ""
    }
   },
   "source": [
    "### Using Built-in Display Functions"
   ]
  },
  {
   "cell_type": "code",
   "execution_count": 0,
   "metadata": {
    "application/vnd.databricks.v1+cell": {
     "cellMetadata": {
      "byteLimit": 2048000,
      "rowLimit": 10000
     },
     "inputWidgets": {},
     "nuid": "b8c86d68-94d6-420c-acef-7a0267c6f02a",
     "showTitle": false,
     "tableResultSettingsMap": {},
     "title": ""
    }
   },
   "outputs": [],
   "source": [
    "# Databricks built-in visualization functions\n",
    "df = spark.sql(\"SELECT user_type, COUNT(*) as trip_count FROM main.dbdemos_pipeline_bike.rides GROUP BY user_type\")\n",
    "\n",
    "# Simple display with automatic chart options\n",
    "display(df)\n",
    "\n",
    "# You can also use displayHTML for custom HTML content\n",
    "displayHTML(\"\"\"\n",
    "<div style='background: linear-gradient(135deg, #1e3c72, #2a5298); padding: 20px; border-radius: 10px; color: white;'>\n",
    "    <h2>📊 Dashboard Insights</h2>\n",
    "    <p>This data represents bike sharing patterns across different user types.</p>\n",
    "    <p>Use the chart options above to explore different visualizations!</p>\n",
    "</div>\n",
    "\"\"\")"
   ]
  },
  {
   "cell_type": "markdown",
   "metadata": {
    "application/vnd.databricks.v1+cell": {
     "cellMetadata": {},
     "inputWidgets": {},
     "nuid": "327fcb48-862c-4ec7-86c9-075ce737c1a7",
     "showTitle": false,
     "tableResultSettingsMap": {},
     "title": ""
    }
   },
   "source": [
    "## AI-Powered Analytics and Insights\n",
    "\n",
    "### Using Databricks Assistant for Analysis"
   ]
  },
  {
   "cell_type": "markdown",
   "metadata": {
    "application/vnd.databricks.v1+cell": {
     "cellMetadata": {},
     "inputWidgets": {},
     "nuid": "58db16e1-f4e0-4de3-b03f-b8f33e6e04bc",
     "showTitle": false,
     "tableResultSettingsMap": {},
     "title": ""
    }
   },
   "source": [
    "The **Databricks Assistant** can help you with:\n",
    "\n",
    "1. **Query Generation**: Ask \"Show me the top 10 customers by revenue\" and get SQL automatically\n",
    "2. **Data Exploration**: \"What are the trends in this dataset?\"\n",
    "3. **Visualization Suggestions**: \"What's the best way to visualize this data?\"\n",
    "4. **Code Generation**: \"Create a bar chart showing sales by region\"\n",
    "\n",
    "### Example AI Prompts to Try:\n",
    "- `\"Create a time series chart showing daily bike trips\"`\n",
    "- `\"Find outliers in the trip duration data\"`\n",
    "- `\"Show me the busiest bike stations\"`\n",
    "- `\"Generate a summary of user behavior patterns\"`\n",
    "\n",
    "## AI-Powered Analytics with Databricks Assistant (Video)\n",
    "[![Video Thumbnail](https://img.youtube.com/vi/gw_1_Y_Qep4/0.jpg)](https://www.youtube.com/watch?v=gw_1_Y_Qep4 \"AI-Powered Analytics with Databricks Assistant\")"
   ]
  },
  {
   "cell_type": "markdown",
   "metadata": {
    "application/vnd.databricks.v1+cell": {
     "cellMetadata": {},
     "inputWidgets": {},
     "nuid": "f9b4cda9-f48d-4d21-83da-4d4fae9967da",
     "showTitle": false,
     "tableResultSettingsMap": {},
     "title": ""
    }
   },
   "source": [
    "## Comprehensive Resource Library\n",
    "\n",
    "### 📚 **Official Documentation**\n",
    "* [AI/BI Dashboards Complete Guide](https://docs.databricks.com/en/dashboards/index.html)\n",
    "* [Databricks Assistant Documentation](https://docs.databricks.com/en/dashboards/ai-bi-assistant.html)\n",
    "* [Visualization and Charts Guide](https://docs.databricks.com/en/visualizations/index.html)\n",
    "* [Business Intelligence Integrations](https://docs.databricks.com/en/integrations/bi/index.html)\n",
    "* [SQL Warehouses for BI](https://docs.databricks.com/en/compute/sql-warehouse/index.html)\n",
    "* [Dashboard APIs and Automation](https://docs.databricks.com/en/dev-tools/api/latest/dashboards.html)\n",
    "\n",
    "### 🔌 **BI Tool Integration Guides**\n",
    "* **Power BI:**\n",
    "  - [Complete Setup Guide](https://docs.databricks.com/en/integrations/bi/power-bi.html)\n",
    "* **Tableau:**\n",
    "  - [Tableau Desktop Integration](https://docs.databricks.com/en/integrations/bi/tableau.html)\n",
    "* **Looker:**\n",
    "  - [Looker Integration Guide](https://docs.databricks.com/en/integrations/bi/looker.html)\n",
    "* **Generic JDBC/ODBC:**\n",
    "  - [Universal BI Tool Connection](https://docs.databricks.com/en/integrations/bi/jdbc-odbc-bi.html)\n",
    "\n",
    "### 🎨 **Visualization Libraries and Tools**\n",
    "* [Plotly with Databricks](https://docs.databricks.com/en/visualizations/plotly.html)\n",
    "\n",
    "### 🤖 **AI and Machine Learning for Analytics**\n",
    "* [AutoML for Business Insights](https://docs.databricks.com/en/machine-learning/automl/index.html)\n",
    "* [Feature Store for Analytics](https://docs.databricks.com/en/machine-learning/feature-store/index.html)\n",
    "* [MLflow for Model Tracking](https://docs.databricks.com/en/mlflow/index.html)\n",
    "* [Model Serving for Real-time Analytics](https://docs.databricks.com/en/machine-learning/model-serving/index.html)\n",
    "\n",
    "### 🏗️ **Architecture and Governance**\n",
    "* [Data Governance for BI](https://docs.databricks.com/en/data-governance/index.html)\n",
    "* [Security Best Practices](https://docs.databricks.com/en/security/index.html)\n",
    "* [Performance Monitoring](https://docs.databricks.com/en/administration-guide/system-tables/index.html)\n",
    "\n",
    "### 📱 **Embedded Analytics**\n",
    "* [Embedding Dashboards](https://docs.databricks.com/en/dashboards/embedding.html)"
   ]
  }
 ],
 "metadata": {
  "application/vnd.databricks.v1+notebook": {
   "computePreferences": null,
   "dashboards": [],
   "environmentMetadata": {
    "base_environment": "",
    "environment_version": "3"
   },
   "inputWidgetPreferences": null,
   "language": "python",
   "notebookMetadata": {
    "pythonIndentUnit": 4
   },
   "notebookName": "4. Dashboarding and AI",
   "widgets": {}
  },
  "language_info": {
   "name": "python"
  }
 },
 "nbformat": 4,
 "nbformat_minor": 0
}
