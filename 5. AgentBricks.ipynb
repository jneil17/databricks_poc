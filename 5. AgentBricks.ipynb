{
 "cells": [
  {
   "cell_type": "markdown",
   "metadata": {
    "application/vnd.databricks.v1+cell": {
     "cellMetadata": {},
     "inputWidgets": {},
     "nuid": "1f8e715a-f5c1-4336-8f23-f3d9970ecf30",
     "showTitle": false,
     "tableResultSettingsMap": {},
     "title": ""
    }
   },
   "source": [
    "# 5. Building with Generative AI: An Introduction to AgentBricks\n",
    "\n",
    "Databricks is the premier platform for building production-quality Generative AI applications. While AI/ML is a deep topic, this notebook will give you a high-level overview of **AgentBricks**, Databricks' framework and set of capabilities for building AI agents that can reason and use tools to accomplish complex tasks."
   ]
  },
  {
   "cell_type": "markdown",
   "metadata": {
    "application/vnd.databricks.v1+cell": {
     "cellMetadata": {},
     "inputWidgets": {},
     "nuid": "19f803bc-7f0c-419d-86ba-c4a0af98de4d",
     "showTitle": false,
     "tableResultSettingsMap": {},
     "title": ""
    }
   },
   "source": [
    "## What is an AI Agent?\n",
    "\n",
    "An AI Agent is a system that can understand a high-level goal, break it down into steps, and use tools (like querying a database, searching the web, or calling an API) to achieve that goal. The video below explains how Databricks makes this possible with your own enterprise data.\n",
    "\n",
    "[![Video Thumbnail](https://img.youtube.com/vi/a4XFm8tP_Lw/0.jpg)](https://www.youtube.com/watch?v=a4XFm8tP_Lw \"Building AI Agents on Databricks\")"
   ]
  },
  {
   "cell_type": "markdown",
   "metadata": {
    "application/vnd.databricks.v1+cell": {
     "cellMetadata": {},
     "inputWidgets": {},
     "nuid": "cf236708-e9eb-4070-8c6c-e44985bc7f7e",
     "showTitle": false,
     "tableResultSettingsMap": {},
     "title": ""
    }
   },
   "source": [
    "## Common AI Agent Patterns to Explore\n",
    "\n",
    "Building a custom AI agent can be complex, so Databricks provides several pre-built patterns and capabilities that you can explore and customize.\n",
    "\n",
    "--- \n",
    "\n",
    "### 1. Knowledge Assistant (Retrieval-Augmented Generation - RAG)\n",
    "\n",
    "This is the most common pattern. A RAG agent can \"chat\" with your documents or structured data, providing answers grounded in your proprietary information. This is powered by **Databricks Vector Search**.\n",
    "\n",
    "📖 **Resources:**\n",
    "* [Best Practices for RAG on Databricks](https://www.databricks.com/blog/2023/10/25/best-practices-for-llm-evaluation-of-rag-applications.html)\n",
    "* [Vector Search Documentation](https://docs.databricks.com/en/generative-ai/vector-search.html)\n",
    "\n",
    "--- \n",
    "\n",
    "### 2. Information Extraction Agent\n",
    "\n",
    "This agent can read unstructured documents (like PDFs, emails, or images) and extract structured data (like invoice numbers, dates, and amounts), saving it to a Delta table for analysis.\n",
    "\n",
    "📖 **Resource:** [Intelligent Document Processing with Databricks](https://www.databricks.com/solutions/accelerators/intelligent-document-processing)\n",
    "\n",
    "---\n",
    "\n",
    "### 3. Custom LLMs (Finetuning)\n",
    "\n",
    "For advanced use cases, you can use the Finetuning API to adapt an open-source LLM on your private data. This creates a model that is an expert in your specific domain, using your company's terminology and style.\n",
    "\n",
    "📖 **Resource:** [Finetuning API Documentation](https://docs.databricks.com/en/large-language-models/foundation-model-training/index.html)\n",
    "\n",
    "---"
   ]
  },
  {
   "cell_type": "markdown",
   "metadata": {
    "application/vnd.databricks.v1+cell": {
     "cellMetadata": {},
     "inputWidgets": {},
     "nuid": "53c71d1c-0ea9-4ab5-a0de-eea813b2d5d1",
     "showTitle": false,
     "tableResultSettingsMap": {},
     "title": ""
    }
   },
   "source": [
    "## Where to Go Next: Explore AgentBricks on GitHub\n",
    "\n",
    "The best way to get started with building agents is to explore the official **AgentBricks repository on GitHub**. It provides hands-on examples, labs, and tutorials for the patterns discussed above.\n",
    "\n",
    "### ➡️ [**Click here to visit the AgentBricks GitHub Repository**](https://github.com/databricks/agentbricks)"
   ]
  },
  {
   "cell_type": "markdown",
   "metadata": {
    "application/vnd.databricks.v1+cell": {
     "cellMetadata": {},
     "inputWidgets": {},
     "nuid": "2d762120-6165-4ca8-82f7-c861f40d41c0",
     "showTitle": false,
     "tableResultSettingsMap": {},
     "title": ""
    }
   },
   "source": [
    "## Hands-On Code Examples\n",
    "\n",
    "### Simple RAG Implementation with Vector Search"
   ]
  },
  {
   "cell_type": "code",
   "execution_count": 0,
   "metadata": {
    "application/vnd.databricks.v1+cell": {
     "cellMetadata": {},
     "inputWidgets": {},
     "nuid": "5c3e7ecf-e654-436f-8331-440c469a5bba",
     "showTitle": false,
     "tableResultSettingsMap": {},
     "title": ""
    }
   },
   "outputs": [],
   "source": [
    "# Example: Building a simple knowledge assistant with Vector Search\n",
    "from databricks.vector_search.client import VectorSearchClient\n",
    "from databricks.sdk import WorkspaceClient\n",
    "import openai\n",
    "\n",
    "# Initialize clients\n",
    "vsc = VectorSearchClient()\n",
    "workspace = WorkspaceClient()\n",
    "\n",
    "# Create a vector search index for your documents\n",
    "def create_knowledge_base(catalog, schema, table_name):\n",
    "    \"\"\"\n",
    "    Create a vector search index for document embeddings\n",
    "    \"\"\"\n",
    "    index = vsc.create_delta_sync_index(\n",
    "        endpoint_name=\"your_vector_search_endpoint\",\n",
    "        index_name=f\"{catalog}.{schema}.{table_name}_index\",\n",
    "        source_table_name=f\"{catalog}.{schema}.{table_name}\",\n",
    "        pipeline_type=\"TRIGGERED\",\n",
    "        primary_key=\"id\",\n",
    "        embedding_source_column=\"text\",\n",
    "        embedding_model_endpoint_name=\"databricks-bge-large-en\"\n",
    "    )\n",
    "    return index\n",
    "\n",
    "# Search for relevant context\n",
    "def search_knowledge_base(query, index_name, k=5):\n",
    "    \"\"\"\n",
    "    Search for relevant documents based on user query\n",
    "    \"\"\"\n",
    "    results = vsc.similarity_search(\n",
    "        index_name=index_name,\n",
    "        query_text=query,\n",
    "        columns=[\"text\", \"metadata\"],\n",
    "        num_results=k\n",
    "    )\n",
    "    return results\n",
    "\n",
    "# Generate response using RAG pattern\n",
    "def generate_response(user_query, context_docs):\n",
    "    \"\"\"\n",
    "    Generate a response using retrieved context\n",
    "    \"\"\"\n",
    "    context = \"\\n\".join([doc[\"text\"] for doc in context_docs])\n",
    "    \n",
    "    prompt = f\"\"\"\n",
    "    Based on the following context, answer the user's question:\n",
    "    \n",
    "    Context: {context}\n",
    "    \n",
    "    Question: {user_query}\n",
    "    \n",
    "    Answer:\n",
    "    \"\"\"\n",
    "    \n",
    "    # Using Foundation Model API\n",
    "    response = workspace.serving_endpoints.query(\n",
    "        name=\"databricks-llama-2-70b-chat\",\n",
    "        dataframe_records=[{\"prompt\": prompt}]\n",
    "    )\n",
    "    \n",
    "    return response.predictions[0]\n",
    "\n",
    "# Example usage\n",
    "# query = \"What are the best practices for data engineering?\"\n",
    "# docs = search_knowledge_base(query, \"main.knowledge.docs_index\")\n",
    "# answer = generate_response(query, docs)\n",
    "# print(answer)"
   ]
  },
  {
   "cell_type": "markdown",
   "metadata": {
    "application/vnd.databricks.v1+cell": {
     "cellMetadata": {},
     "inputWidgets": {},
     "nuid": "322fa1ca-39f9-4322-847b-3a37e00a75c3",
     "showTitle": false,
     "tableResultSettingsMap": {},
     "title": ""
    }
   },
   "source": [
    "### Function Calling Agent Example"
   ]
  },
  {
   "cell_type": "code",
   "execution_count": 0,
   "metadata": {
    "application/vnd.databricks.v1+cell": {
     "cellMetadata": {},
     "inputWidgets": {},
     "nuid": "56a431a5-af0d-4794-a08a-e6c5926dcb5b",
     "showTitle": false,
     "tableResultSettingsMap": {},
     "title": ""
    }
   },
   "outputs": [],
   "source": [
    "# Example: Agent with function calling capabilities\n",
    "import json\n",
    "from typing import List, Dict\n",
    "\n",
    "class DataAnalysisAgent:\n",
    "    \"\"\"\n",
    "    An agent that can analyze data using various tools\n",
    "    \"\"\"\n",
    "    \n",
    "    def __init__(self, workspace_client):\n",
    "        self.workspace = workspace_client\n",
    "        self.available_functions = {\n",
    "            \"run_sql_query\": self.run_sql_query,\n",
    "            \"create_visualization\": self.create_visualization,\n",
    "            \"get_table_schema\": self.get_table_schema\n",
    "        }\n",
    "    \n",
    "    def run_sql_query(self, query: str) -> Dict:\n",
    "        \"\"\"Execute SQL query and return results\"\"\"\n",
    "        try:\n",
    "            result = spark.sql(query).toPandas()\n",
    "            return {\n",
    "                \"success\": True,\n",
    "                \"data\": result.to_dict('records'),\n",
    "                \"row_count\": len(result)\n",
    "            }\n",
    "        except Exception as e:\n",
    "            return {\"success\": False, \"error\": str(e)}\n",
    "    \n",
    "    def create_visualization(self, data_query: str, chart_type: str = \"bar\") -> Dict:\n",
    "        \"\"\"Create a visualization from data\"\"\"\n",
    "        # This would integrate with plotting libraries\n",
    "        return {\n",
    "            \"success\": True,\n",
    "            \"chart_type\": chart_type,\n",
    "            \"message\": f\"Created {chart_type} chart for query: {data_query}\"\n",
    "        }\n",
    "    \n",
    "    def get_table_schema(self, table_name: str) -> Dict:\n",
    "        \"\"\"Get schema information for a table\"\"\"\n",
    "        try:\n",
    "            schema = spark.table(table_name).schema\n",
    "            return {\n",
    "                \"success\": True,\n",
    "                \"schema\": str(schema),\n",
    "                \"columns\": [field.name for field in schema.fields]\n",
    "            }\n",
    "        except Exception as e:\n",
    "            return {\"success\": False, \"error\": str(e)}\n",
    "    \n",
    "    def process_request(self, user_message: str) -> str:\n",
    "        \"\"\"\n",
    "        Process user request and determine which functions to call\n",
    "        \"\"\"\n",
    "        # This would use an LLM to determine function calls\n",
    "        # For demo purposes, we'll use simple logic\n",
    "        \n",
    "        if \"schema\" in user_message.lower():\n",
    "            # Extract table name and get schema\n",
    "            table_name = \"main.dbdemos_pipeline_bike.bike_trips_gold\"  # example\n",
    "            result = self.get_table_schema(table_name)\n",
    "            return f\"Table schema: {result}\"\n",
    "        \n",
    "        elif \"query\" in user_message.lower() or \"sql\" in user_message.lower():\n",
    "            # Execute a sample query\n",
    "            query = \"SELECT user_type, COUNT(*) as count FROM main.dbdemos_pipeline_bike.bike_trips_gold GROUP BY user_type LIMIT 10\"\n",
    "            result = self.run_sql_query(query)\n",
    "            return f\"Query results: {result}\"\n",
    "        \n",
    "        else:\n",
    "            return \"I can help you with SQL queries, table schemas, and visualizations. What would you like to explore?\"\n",
    "\n",
    "# Example usage\n",
    "# agent = DataAnalysisAgent(workspace)\n",
    "# response = agent.process_request(\"Show me the schema for the bike trips table\")\n",
    "# print(response)"
   ]
  },
  {
   "cell_type": "markdown",
   "metadata": {
    "application/vnd.databricks.v1+cell": {
     "cellMetadata": {},
     "inputWidgets": {},
     "nuid": "d538b8ea-bc11-4402-9791-e82592dd48d4",
     "showTitle": false,
     "tableResultSettingsMap": {},
     "title": ""
    }
   },
   "source": [
    "## Comprehensive Resource Library\n",
    "\n",
    "### 📚 **Official Documentation**\n",
    "* [Generative AI on Databricks - Complete Guide](https://docs.databricks.com/en/generative-ai/index.html)\n",
    "* [Vector Search Documentation](https://docs.databricks.com/en/generative-ai/vector-search.html)\n",
    "* [Foundation Model APIs](https://docs.databricks.com/en/machine-learning/foundation-models/index.html)\n",
    "* [Model Serving for AI Applications](https://docs.databricks.com/en/machine-learning/model-serving/index.html)\n",
    "* [MLflow for GenAI](https://docs.databricks.com/en/mlflow/llms/index.html)\n",
    "\n",
    "### 🎥 **Video Learning Resources**\n",
    "* [Building AI Agents on Databricks](https://www.youtube.com/watch?v=a4XFm8tP_Lw)\n",
    "\n",
    "### 🛠️ **Hands-On Tutorials and Labs**\n",
    "* [RAG Application Tutorial](https://docs.databricks.com/en/generative-ai/tutorials/ai-cookbook/index.html)\n",
    "* [Building AI Agents Workshop](https://github.com/databricks/agentbricks)\n",
    "* [Vector Search Quickstart](https://docs.databricks.com/en/generative-ai/vector-search-quickstart.html)\n",
    "* [Generative AI Academy Course](https://academy.databricks.com/path/generative-ai-engineer)\n",
    "\n",
    "### 📖 **Advanced Reading**\n",
    "* [RAG Best Practices Guide](https://www.databricks.com/blog/2023/10/25/best-practices-for-llm-evaluation-of-rag-applications.html)\n",
    "* [Enterprise RAG Architecture](https://www.databricks.com/solutions/accelerators/retrieval-augmented-generation)\n",
    "\n",
    "### 🧠 **Framework Integration**\n",
    "* [LangChain with Databricks](https://python.langchain.com/docs/integrations/platforms/databricks)\n",
    "* [Hugging Face on Databricks](https://docs.databricks.com/en/machine-learning/train-model/huggingface.html)\n",
    "\n",
    "### 💡 **Community Resources**\n",
    "* [Databricks Community - GenAI](https://community.databricks.com/s/topic/0TO5w00000094LGGAY/generative-ai)\n",
    "* [Reddit - r/databricks](https://www.reddit.com/r/databricks/)"
   ]
  }
 ],
 "metadata": {
  "application/vnd.databricks.v1+notebook": {
   "computePreferences": null,
   "dashboards": [],
   "environmentMetadata": {
    "base_environment": "",
    "environment_version": "3"
   },
   "inputWidgetPreferences": null,
   "language": "python",
   "notebookMetadata": {
    "pythonIndentUnit": 4
   },
   "notebookName": "5. AgentBricks",
   "widgets": {}
  },
  "language_info": {
   "name": "python"
  }
 },
 "nbformat": 4,
 "nbformat_minor": 0
}
