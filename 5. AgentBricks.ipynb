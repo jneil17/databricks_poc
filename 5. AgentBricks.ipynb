{
 "cells": [
  {
   "cell_type": "markdown",
   "metadata": {
    "application/vnd.databricks.v1+cell": {
     "cellMetadata": {},
     "inputWidgets": {},
     "nuid": "1f8e715a-f5c1-4336-8f23-f3d9970ecf30",
     "showTitle": false,
     "tableResultSettingsMap": {},
     "title": ""
    }
   },
   "source": [
    "# 5. Building with Generative AI: An Introduction to AgentBricks\n",
    "\n",
    "Databricks is the premier platform for building production-quality Generative AI applications. While AI/ML is a deep topic, this notebook will give you a high-level overview of **AgentBricks**, Databricks' framework and set of capabilities for building AI agents that can reason and use tools to accomplish complex tasks."
   ]
  },
  {
   "cell_type": "markdown",
   "metadata": {
    "application/vnd.databricks.v1+cell": {
     "cellMetadata": {},
     "inputWidgets": {},
     "nuid": "19f803bc-7f0c-419d-86ba-c4a0af98de4d",
     "showTitle": false,
     "tableResultSettingsMap": {},
     "title": ""
    }
   },
   "source": [
    "## What is an AI Agent?\n",
    "\n",
    "An AI Agent is a system that can understand a high-level goal, break it down into steps, and use tools (like querying a database, searching the web, or calling an API) to achieve that goal. The video below explains how Databricks makes this possible with your own enterprise data.\n",
    "\n",
    "\n",
    "## Building AI Agents on Databricks (Video)\n",
    "[![Video Thumbnail](https://img.youtube.com/vi/BZ9SYMVXnnM/0.jpg)](https://www.youtube.com/watch?v=BZ9SYMVXnnM \"Building AI Agents on Databricks\")"
   ]
  },
  {
   "cell_type": "markdown",
   "metadata": {
    "application/vnd.databricks.v1+cell": {
     "cellMetadata": {},
     "inputWidgets": {},
     "nuid": "cf236708-e9eb-4070-8c6c-e44985bc7f7e",
     "showTitle": false,
     "tableResultSettingsMap": {},
     "title": ""
    }
   },
   "source": [
    "## Common AI Agent Patterns to Explore\n",
    "\n",
    "Building a custom AI agent can be complex, so Databricks provides several pre-built patterns and capabilities that you can explore and customize.\n",
    "\n",
    "--- \n",
    "\n",
    "### 1. Knowledge Assistant (Retrieval-Augmented Generation - RAG)\n",
    "\n",
    "This is the most common pattern. A RAG agent can \"chat\" with your documents or structured data, providing answers grounded in your proprietary information. This is powered by **Databricks Vector Search**.\n",
    "\n",
    "📖 **Resources:**\n",
    "* [Vector Search Documentation](https://docs.databricks.com/en/generative-ai/vector-search.html)\n",
    "\n",
    "--- \n",
    "\n",
    "### 2. Information Extraction Agent\n",
    "\n",
    "This agent can read unstructured documents (like PDFs, emails, or images) and extract structured data (like invoice numbers, dates, and amounts), saving it to a Delta table for analysis.\n",
    "\n",
    "---\n",
    "\n",
    "### 3. Custom LLMs (Finetuning)\n",
    "\n",
    "For advanced use cases, you can use the Finetuning API to adapt an open-source LLM on your private data. This creates a model that is an expert in your specific domain, using your company's terminology and style.\n",
    "\n",
    "---"
   ]
  },
  {
   "cell_type": "markdown",
   "metadata": {
    "application/vnd.databricks.v1+cell": {
     "cellMetadata": {},
     "inputWidgets": {},
     "nuid": "322fa1ca-39f9-4322-847b-3a37e00a75c3",
     "showTitle": false,
     "tableResultSettingsMap": {},
     "title": ""
    }
   },
   "source": [
    "### Function Calling Agent Example"
   ]
  }
 ],
 "metadata": {
  "application/vnd.databricks.v1+notebook": {
   "computePreferences": null,
   "dashboards": [],
   "environmentMetadata": {
    "base_environment": "",
    "environment_version": "3"
   },
   "inputWidgetPreferences": null,
   "language": "python",
   "notebookMetadata": {
    "pythonIndentUnit": 4
   },
   "notebookName": "5. AgentBricks",
   "widgets": {}
  },
  "language_info": {
   "name": "python"
  }
 },
 "nbformat": 4,
 "nbformat_minor": 0
}
