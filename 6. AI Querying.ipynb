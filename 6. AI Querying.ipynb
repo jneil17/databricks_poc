{
 "cells": [
  {
   "cell_type": "markdown",
   "metadata": {
    "application/vnd.databricks.v1+cell": {
     "cellMetadata": {
      "byteLimit": 2048000,
      "rowLimit": 10000
     },
     "inputWidgets": {},
     "nuid": "0b689f84-038d-4067-93a7-16cf3de14859",
     "showTitle": false,
     "tableResultSettingsMap": {},
     "title": ""
    }
   },
   "source": [
    "# 6. AI Querying with Databricks SQL\n",
    "\n",
    "Databricks SQL includes powerful AI functions that let you integrate large language models directly into your SQL queries. The `ai_query` function allows you to send natural language prompts to AI models and get responses back as part of your SQL workflow.\n",
    "\n",
    "This notebook will show you simple, practical examples of how to use AI querying to enhance your data analysis."
   ]
  },
  {
   "cell_type": "markdown",
   "metadata": {
    "application/vnd.databricks.v1+cell": {
     "cellMetadata": {
      "byteLimit": 2048000,
      "rowLimit": 10000
     },
     "inputWidgets": {},
     "nuid": "fec62357-bde7-4205-9856-98b4e2bc2e59",
     "showTitle": false,
     "tableResultSettingsMap": {},
     "title": ""
    }
   },
   "source": [
    "## What is ai_query?\n",
    "\n",
    "The `ai_query` function lets you call large language models (LLMs) directly from SQL. You can:\n",
    "\n",
    "- ✨ **Analyze text data** with natural language prompts\n",
    "- 🔍 **Extract insights** from unstructured content\n",
    "- 📝 **Generate summaries** of data\n",
    "- 🏷️ **Classify and categorize** information\n",
    "- 💬 **Create conversational interfaces** over your data\n",
    "\n",
    "### Basic Syntax:\n",
    "```sql\n",
    "SELECT ai_query('your_endpoint_name', 'Your prompt here')\n",
    "```\n",
    "\n",
    "📖 **Complete Reference:** [ai_query Function Documentation](https://docs.databricks.com/en/sql/language-manual/functions/ai_query.html)"
   ]
  },
  {
   "cell_type": "markdown",
   "metadata": {
    "application/vnd.databricks.v1+cell": {
     "cellMetadata": {
      "byteLimit": 2048000,
      "rowLimit": 10000
     },
     "inputWidgets": {},
     "nuid": "2fbea091-76f0-43d2-b22a-2d8014c78cdf",
     "showTitle": false,
     "tableResultSettingsMap": {},
     "title": ""
    }
   },
   "source": [
    "## Prerequisites\n",
    "\n",
    "Before you can use `ai_query`, you need:\n",
    "\n",
    "1. **A model serving endpoint** deployed in your workspace\n",
    "2. **Permissions** to access the endpoint\n",
    "3. **Unity Catalog** enabled (recommended)\n",
    "\n",
    "💡 **Tip:** Your workspace may already have foundation model endpoints available like `databricks-gpt-oss-120b` or similar. Check with your admin or look in the \"Serving\" section of your workspace."
   ]
  },
  {
   "cell_type": "markdown",
   "metadata": {
    "application/vnd.databricks.v1+cell": {
     "cellMetadata": {
      "byteLimit": 2048000,
      "rowLimit": 10000
     },
     "inputWidgets": {},
     "nuid": "1a70e8e3-656c-4498-901e-ab07f4a3e7c5",
     "showTitle": false,
     "tableResultSettingsMap": {},
     "title": ""
    }
   },
   "source": [
    "## Example 1: Simple Text Analysis"
   ]
  },
  {
   "cell_type": "code",
   "execution_count": 0,
   "metadata": {
    "application/vnd.databricks.v1+cell": {
     "cellMetadata": {
      "byteLimit": 2048000,
      "implicitDf": true,
      "rowLimit": 10000
     },
     "inputWidgets": {},
     "nuid": "c7a3ddf3-795d-46a5-b313-162bd698b038",
     "showTitle": false,
     "tableResultSettingsMap": {},
     "title": ""
    },
    "vscode": {
     "languageId": "sql"
    }
   },
   "outputs": [],
   "source": [
    "%sql\n",
    "-- Basic example: Analyze the sentiment of a text\n",
    "SELECT ai_query(\n",
    "  'databricks-gpt-oss-120b',\n",
    "  'Analyze the sentiment of this text and respond with just one word (positive, negative, or neutral): \n",
    "   \"I love using Databricks for data analysis! It makes my work so much easier.\"'\n",
    ") as sentiment_analysis"
   ]
  },
  {
   "cell_type": "markdown",
   "metadata": {
    "application/vnd.databricks.v1+cell": {
     "cellMetadata": {
      "byteLimit": 2048000,
      "rowLimit": 10000
     },
     "inputWidgets": {},
     "nuid": "4ccfe06b-6b80-4872-8b72-4fa2c9bc3374",
     "showTitle": false,
     "tableResultSettingsMap": {},
     "title": ""
    }
   },
   "source": [
    "## Example 2: Data Classification"
   ]
  },
  {
   "cell_type": "code",
   "execution_count": 0,
   "metadata": {
    "application/vnd.databricks.v1+cell": {
     "cellMetadata": {
      "byteLimit": 2048000,
      "implicitDf": true,
      "rowLimit": 10000
     },
     "inputWidgets": {},
     "nuid": "0c6c003a-6979-4724-9c11-d98c9f5d1a56",
     "showTitle": false,
     "tableResultSettingsMap": {},
     "title": ""
    },
    "vscode": {
     "languageId": "sql"
    }
   },
   "outputs": [],
   "source": [
    "%sql\n",
    "-- Classify customer feedback into categories\n",
    "WITH sample_feedback AS (\n",
    "  SELECT 'The product arrived quickly and works perfectly!' as feedback\n",
    "  UNION ALL\n",
    "  SELECT 'Shipping was delayed and the package was damaged'\n",
    "  UNION ALL  \n",
    "  SELECT 'Great customer service, very helpful staff'\n",
    "  UNION ALL\n",
    "  SELECT 'The website is confusing and hard to navigate'\n",
    ")\n",
    "SELECT \n",
    "  feedback,\n",
    "  ai_query(\n",
    "    'databricks-gpt-oss-120b',\n",
    "    CONCAT('Classify this customer feedback into one category: Product, Shipping, Service, or Website. \n",
    "            Only respond with the category name: ', feedback)\n",
    "  ) as category\n",
    "FROM sample_feedback;"
   ]
  },
  {
   "cell_type": "markdown",
   "metadata": {
    "application/vnd.databricks.v1+cell": {
     "cellMetadata": {
      "byteLimit": 2048000,
      "rowLimit": 10000
     },
     "inputWidgets": {},
     "nuid": "f29460eb-7ea8-4f1c-81c3-5f61cd64e607",
     "showTitle": false,
     "tableResultSettingsMap": {},
     "title": ""
    }
   },
   "source": [
    "## Example 3: Data Summarization"
   ]
  },
  {
   "cell_type": "code",
   "execution_count": 0,
   "metadata": {
    "application/vnd.databricks.v1+cell": {
     "cellMetadata": {
      "byteLimit": 2048000,
      "implicitDf": true,
      "rowLimit": 10000
     },
     "inputWidgets": {},
     "nuid": "f2ce75aa-fb23-40c0-ba1d-d42708236ba6",
     "showTitle": false,
     "tableResultSettingsMap": {},
     "title": ""
    },
    "vscode": {
     "languageId": "sql"
    }
   },
   "outputs": [],
   "source": [
    "%sql\n",
    "-- Create summaries of longer text content\n",
    "WITH sample_reports AS (\n",
    "  SELECT 'Q1 2024 Sales Report: Revenue increased by 15% compared to Q1 2023. \n",
    "          New customer acquisitions were up 22%, while customer retention remained stable at 89%. \n",
    "          Product line A performed exceptionally well with 35% growth, while Product line B saw a 5% decline. \n",
    "          Marketing spend increased by 10% with improved ROI of 3.2x.' as report_text\n",
    ")\n",
    "SELECT \n",
    "  ai_query(\n",
    "    'databricks-gpt-oss-120b',\n",
    "    CONCAT('Summarize this business report in 2-3 bullet points: ', report_text)\n",
    "  ) as summary\n",
    "FROM sample_reports;"
   ]
  },
  {
   "cell_type": "markdown",
   "metadata": {
    "application/vnd.databricks.v1+cell": {
     "cellMetadata": {
      "byteLimit": 2048000,
      "rowLimit": 10000
     },
     "inputWidgets": {},
     "nuid": "d37e7fba-0ed1-41ed-9922-08b8b7a6fe00",
     "showTitle": false,
     "tableResultSettingsMap": {},
     "title": ""
    }
   },
   "source": [
    "## Example 4: Working with Real Data\n",
    "\n",
    "Let's use AI querying with actual data from your workspace. We'll use the bike trips data that was created during setup."
   ]
  },
  {
   "cell_type": "code",
   "execution_count": 0,
   "metadata": {
    "application/vnd.databricks.v1+cell": {
     "cellMetadata": {
      "byteLimit": 2048000,
      "implicitDf": true,
      "rowLimit": 10000
     },
     "inputWidgets": {},
     "nuid": "02a54c39-ae2f-47e9-8633-fd9005587b0c",
     "showTitle": false,
     "tableResultSettingsMap": {},
     "title": ""
    },
    "vscode": {
     "languageId": "sql"
    }
   },
   "outputs": [],
   "source": [
    "%sql\n",
    "-- Analyze patterns in bike trip data using AI\n",
    "WITH trip_summary AS (\n",
    "  SELECT \n",
    "    COUNT(*) as total_trips,\n",
    "    AVG(ride_revenue) as avg_ride_revenue,\n",
    "    COUNT(DISTINCT user_type) as user_types\n",
    "  FROM main.dbdemos_pipeline_bike.rides\n",
    "  LIMIT 1\n",
    ")\n",
    "SELECT \n",
    "  ai_query(\n",
    "    'databricks-gpt-oss-120b',\n",
    "    CONCAT('Analyze this bike sharing data and provide 2-3 insights: ',\n",
    "           'Total trips: ', total_trips, \n",
    "           ', Average duration: ', ROUND(avg_ride_revenue, 1), ' minutes',\n",
    "           ', User types: ', user_types)\n",
    "  ) as data_insights\n",
    "FROM trip_summary;"
   ]
  },
  {
   "cell_type": "markdown",
   "metadata": {
    "application/vnd.databricks.v1+cell": {
     "cellMetadata": {
      "byteLimit": 2048000,
      "rowLimit": 10000
     },
     "inputWidgets": {},
     "nuid": "c382c115-a978-4f7b-9842-1e2a70a4d5ec",
     "showTitle": false,
     "tableResultSettingsMap": {},
     "title": ""
    }
   },
   "source": [
    "## Example 5: Creating Dynamic Reports"
   ]
  },
  {
   "cell_type": "code",
   "execution_count": 0,
   "metadata": {
    "application/vnd.databricks.v1+cell": {
     "cellMetadata": {
      "byteLimit": 2048000,
      "implicitDf": true,
      "rowLimit": 10000
     },
     "inputWidgets": {},
     "nuid": "ef3192fd-6af0-40ab-95ab-80299b29bc3a",
     "showTitle": false,
     "tableResultSettingsMap": {},
     "title": ""
    },
    "vscode": {
     "languageId": "sql"
    }
   },
   "outputs": [],
   "source": [
    "%sql\n",
    "-- Generate a natural language report from aggregated data\n",
    "WITH monthly_stats AS (\n",
    "  SELECT \n",
    "    DATE_FORMAT(start_time, 'yyyy-MM') as month,\n",
    "    COUNT(*) as trip_count,\n",
    "    AVG(ride_revenue) as avg_ride_revenue,\n",
    "    COUNT(DISTINCT start_station_id) as stations_used\n",
    "  FROM main.dbdemos_pipeline_bike.rides\n",
    "  WHERE start_time >= '2024-01-01'\n",
    "  GROUP BY DATE_FORMAT(start_time, 'yyyy-MM')\n",
    "  ORDER BY month DESC\n",
    "  LIMIT 3\n",
    ")\n",
    "SELECT \n",
    "  month,\n",
    "  trip_count,\n",
    "  ROUND(avg_ride_revenue, 2) as avg_ride_revenue,\n",
    "  ai_query(\n",
    "    'databricks-gpt-oss-120b',\n",
    "    CONCAT('Write a brief business summary for this month: ',\n",
    "           month, ' had ', trip_count, ' bike trips with average revenue of $', \n",
    "           ROUND(avg_ride_revenue, 2), ' across ', stations_used, ' stations.')\n",
    "  ) as monthly_report\n",
    "FROM monthly_stats;"
   ]
  },
  {
   "cell_type": "markdown",
   "metadata": {
    "application/vnd.databricks.v1+cell": {
     "cellMetadata": {
      "byteLimit": 2048000,
      "rowLimit": 10000
     },
     "inputWidgets": {},
     "nuid": "1475da58-2972-4fdd-abb9-4c425a342e75",
     "showTitle": false,
     "tableResultSettingsMap": {},
     "title": ""
    }
   },
   "source": [
    "## Best Practices for AI Querying\n",
    "\n",
    "### 🎯 **Prompt Engineering Tips:**\n",
    "1. **Be specific** in your prompts - clear instructions get better results\n",
    "2. **Limit response length** when needed (e.g., \"respond in one word\")\n",
    "3. **Provide context** about the data you're analyzing\n",
    "4. **Use consistent formatting** for structured outputs\n",
    "\n",
    "### ⚡ **Performance Considerations:**\n",
    "1. **Batch processing** - Process multiple rows efficiently rather than single calls\n",
    "2. **Cache results** when possible to avoid repeated API calls\n",
    "3. **Filter data first** - Apply WHERE clauses before using ai_query\n",
    "4. **Monitor costs** - AI model calls consume compute resources\n",
    "\n",
    "### 🔒 **Security Notes:**\n",
    "1. **Don't send sensitive data** to external models unless approved\n",
    "2. **Use appropriate endpoints** - some models may have data residency requirements\n",
    "3. **Review outputs** - AI responses should be validated for business use"
   ]
  },
  {
   "cell_type": "markdown",
   "metadata": {
    "application/vnd.databricks.v1+cell": {
     "cellMetadata": {
      "byteLimit": 2048000,
      "rowLimit": 10000
     },
     "inputWidgets": {},
     "nuid": "c6f028a6-5a09-4b61-a62c-e406472212e1",
     "showTitle": false,
     "tableResultSettingsMap": {},
     "title": ""
    }
   },
   "source": [
    "## Common Use Cases\n",
    "\n",
    "### 📊 **Analytics & Reporting:**\n",
    "- Generate natural language summaries of KPIs\n",
    "- Create automated insights from trend analysis\n",
    "- Explain complex data patterns in simple terms\n",
    "\n",
    "### 🏷️ **Data Processing:**\n",
    "- Classify and categorize text data\n",
    "- Extract entities from unstructured content\n",
    "- Standardize data formats and values\n",
    "\n",
    "### 💼 **Business Intelligence:**\n",
    "- Create conversational dashboards\n",
    "- Generate executive summaries\n",
    "- Provide context for data visualizations\n",
    "\n",
    "### 🔍 **Data Quality:**\n",
    "- Detect anomalies in text data\n",
    "- Validate data consistency\n",
    "- Identify potential data issues"
   ]
  },
  {
   "cell_type": "markdown",
   "metadata": {
    "application/vnd.databricks.v1+cell": {
     "cellMetadata": {
      "byteLimit": 2048000,
      "rowLimit": 10000
     },
     "inputWidgets": {},
     "nuid": "acbafeb1-b604-406a-b456-cc598726dbfa",
     "showTitle": false,
     "tableResultSettingsMap": {},
     "title": ""
    }
   },
   "source": [
    "## Troubleshooting Common Issues\n",
    "\n",
    "### Model Endpoint Not Found:\n",
    "```sql\n",
    "-- Check available endpoints\n",
    "SHOW ENDPOINTS;\n",
    "```\n",
    "\n",
    "### Permission Issues:\n",
    "- Ensure you have `CAN QUERY` permissions on the model endpoint\n",
    "- Contact your workspace admin if you can't access endpoints\n",
    "\n",
    "### Timeout Errors:\n",
    "- Simplify your prompts\n",
    "- Process smaller batches of data\n",
    "- Consider using asynchronous processing for large datasets\n",
    "\n",
    "### Unexpected Responses:\n",
    "- Review and refine your prompt wording\n",
    "- Add more specific instructions\n",
    "- Test with smaller datasets first"
   ]
  },
  {
   "cell_type": "markdown",
   "metadata": {
    "application/vnd.databricks.v1+cell": {
     "cellMetadata": {
      "byteLimit": 2048000,
      "rowLimit": 10000
     },
     "inputWidgets": {},
     "nuid": "10ae86d7-f4ca-432e-a9f4-9afa5947bd4c",
     "showTitle": false,
     "tableResultSettingsMap": {},
     "title": ""
    }
   },
   "source": [
    "## Next Steps\n",
    "\n",
    "### 🚀 **Explore Further:**\n",
    "1. **Try different models** - Experiment with various foundation models\n",
    "2. **Build applications** - Create notebooks that combine AI with your data workflows  \n",
    "3. **Create dashboards** - Use AI-generated insights in your visualizations\n",
    "4. **Automate reports** - Schedule jobs that include AI analysis\n",
    "\n",
    "### 📚 **Learn More:**\n",
    "* [Model Serving Documentation](https://docs.databricks.com/en/machine-learning/model-serving/index.html)\n",
    "* [Foundation Models on Databricks](https://docs.databricks.com/en/machine-learning/foundation-models/index.html)\n",
    "* [Generative AI Solutions](https://docs.databricks.com/en/generative-ai/index.html)\n",
    "\n",
    "### 💡 **Community Resources:**\n",
    "* [Databricks Community - AI/ML](https://community.databricks.com/s/topic/0TO5w00000094LGGAY/generative-ai)\n",
    "* [SQL AI Functions Examples](https://docs.databricks.com/en/sql/language-manual/sql-ref-functions.html#ai-functions)"
   ]
  },
  {
   "cell_type": "markdown",
   "metadata": {
    "application/vnd.databricks.v1+cell": {
     "cellMetadata": {
      "byteLimit": 2048000,
      "rowLimit": 10000
     },
     "inputWidgets": {},
     "nuid": "5f437a1c-1dca-4073-8438-8a2f35c5a4ec",
     "showTitle": false,
     "tableResultSettingsMap": {},
     "title": ""
    }
   },
   "source": [
    "# 6. AI Querying with Databricks SQL\n",
    "\n",
    "Databricks SQL includes powerful AI functions that let you integrate large language models directly into your SQL queries. The `ai_query` function allows you to send natural language prompts to AI models and get responses back as part of your SQL workflow.\n",
    "\n",
    "This notebook will show you simple, practical examples of how to use AI querying to enhance your data analysis."
   ]
  },
  {
   "cell_type": "markdown",
   "metadata": {
    "application/vnd.databricks.v1+cell": {
     "cellMetadata": {
      "byteLimit": 2048000,
      "rowLimit": 10000
     },
     "inputWidgets": {},
     "nuid": "ee5d430a-36c6-405a-afeb-2436365720a1",
     "showTitle": false,
     "tableResultSettingsMap": {},
     "title": ""
    }
   },
   "source": [
    "## What is ai_query?\n",
    "\n",
    "The `ai_query` function lets you call large language models (LLMs) directly from SQL. You can:\n",
    "\n",
    "- ✨ **Analyze text data** with natural language prompts\n",
    "- 🔍 **Extract insights** from unstructured content\n",
    "- 📝 **Generate summaries** of data\n",
    "- 🏷️ **Classify and categorize** information\n",
    "- 💬 **Create conversational interfaces** over your data\n",
    "\n",
    "### Basic Syntax:\n",
    "```sql\n",
    "SELECT ai_query('your_endpoint_name', 'Your prompt here')\n",
    "```\n",
    "\n",
    "📖 **Complete Reference:** [ai_query Function Documentation](https://docs.databricks.com/en/sql/language-manual/functions/ai_query.html)"
   ]
  },
  {
   "cell_type": "markdown",
   "metadata": {
    "application/vnd.databricks.v1+cell": {
     "cellMetadata": {
      "byteLimit": 2048000,
      "rowLimit": 10000
     },
     "inputWidgets": {},
     "nuid": "021d2cc2-12ec-450b-b66d-808c2998e665",
     "showTitle": false,
     "tableResultSettingsMap": {},
     "title": ""
    }
   },
   "source": [
    "## Prerequisites\n",
    "\n",
    "Before you can use `ai_query`, you need:\n",
    "\n",
    "1. **A model serving endpoint** deployed in your workspace\n",
    "2. **Permissions** to access the endpoint\n",
    "3. **Unity Catalog** enabled (recommended)\n",
    "\n",
    "💡 **Tip:** Your workspace may already have foundation model endpoints available like `databricks-gpt-oss-120b` or similar. Check with your admin or look in the \"Serving\" section of your workspace."
   ]
  },
  {
   "cell_type": "markdown",
   "metadata": {
    "application/vnd.databricks.v1+cell": {
     "cellMetadata": {
      "byteLimit": 2048000,
      "rowLimit": 10000
     },
     "inputWidgets": {},
     "nuid": "ff318029-41d1-4ea0-b629-476adc1a0bd1",
     "showTitle": false,
     "tableResultSettingsMap": {},
     "title": ""
    }
   },
   "source": [
    "## Example 1: Simple Text Analysis"
   ]
  },
  {
   "cell_type": "code",
   "execution_count": 0,
   "metadata": {
    "application/vnd.databricks.v1+cell": {
     "cellMetadata": {
      "byteLimit": 2048000,
      "implicitDf": true,
      "rowLimit": 10000
     },
     "inputWidgets": {},
     "nuid": "ac3847d6-0531-4696-929e-2e5dc2dea272",
     "showTitle": false,
     "tableResultSettingsMap": {},
     "title": ""
    },
    "vscode": {
     "languageId": "sql"
    }
   },
   "outputs": [],
   "source": [
    "%sql\n",
    "-- Basic example: Analyze the sentiment of a text\n",
    "SELECT ai_query(\n",
    "  'databricks-gpt-oss-120b',\n",
    "  'Analyze the sentiment of this text and respond with just one word (positive, negative, or neutral): \n",
    "   \"I love using Databricks for data analysis! It makes my work so much easier.\"'\n",
    ") as sentiment_analysis"
   ]
  },
  {
   "cell_type": "markdown",
   "metadata": {
    "application/vnd.databricks.v1+cell": {
     "cellMetadata": {
      "byteLimit": 2048000,
      "rowLimit": 10000
     },
     "inputWidgets": {},
     "nuid": "4c1aa7db-ff7d-4e03-8b2a-ef671b49ed64",
     "showTitle": false,
     "tableResultSettingsMap": {},
     "title": ""
    }
   },
   "source": [
    "## Example 2: Data Classification"
   ]
  },
  {
   "cell_type": "code",
   "execution_count": 0,
   "metadata": {
    "application/vnd.databricks.v1+cell": {
     "cellMetadata": {
      "byteLimit": 2048000,
      "implicitDf": true,
      "rowLimit": 10000
     },
     "inputWidgets": {},
     "nuid": "e6f3744b-2101-4bad-82a9-220961ff3664",
     "showTitle": false,
     "tableResultSettingsMap": {},
     "title": ""
    },
    "vscode": {
     "languageId": "sql"
    }
   },
   "outputs": [],
   "source": [
    "%sql\n",
    "-- Classify customer feedback into categories\n",
    "WITH sample_feedback AS (\n",
    "  SELECT 'The product arrived quickly and works perfectly!' as feedback\n",
    "  UNION ALL\n",
    "  SELECT 'Shipping was delayed and the package was damaged'\n",
    "  UNION ALL  \n",
    "  SELECT 'Great customer service, very helpful staff'\n",
    "  UNION ALL\n",
    "  SELECT 'The website is confusing and hard to navigate'\n",
    ")\n",
    "SELECT \n",
    "  feedback,\n",
    "  ai_query(\n",
    "    'databricks-gpt-oss-120b',\n",
    "    CONCAT('Classify this customer feedback into one category: Product, Shipping, Service, or Website. \n",
    "            Only respond with the category name: ', feedback)\n",
    "  ) as category\n",
    "FROM sample_feedback;"
   ]
  },
  {
   "cell_type": "markdown",
   "metadata": {
    "application/vnd.databricks.v1+cell": {
     "cellMetadata": {
      "byteLimit": 2048000,
      "rowLimit": 10000
     },
     "inputWidgets": {},
     "nuid": "030b8a07-bde1-44d1-8158-cd0e7e82ea5a",
     "showTitle": false,
     "tableResultSettingsMap": {},
     "title": ""
    }
   },
   "source": [
    "## Example 3: Data Summarization"
   ]
  },
  {
   "cell_type": "code",
   "execution_count": 0,
   "metadata": {
    "application/vnd.databricks.v1+cell": {
     "cellMetadata": {
      "byteLimit": 2048000,
      "implicitDf": true,
      "rowLimit": 10000
     },
     "inputWidgets": {},
     "nuid": "970bc997-7bbc-4bf7-8263-185eaca2c788",
     "showTitle": false,
     "tableResultSettingsMap": {},
     "title": ""
    },
    "vscode": {
     "languageId": "sql"
    }
   },
   "outputs": [],
   "source": [
    "%sql\n",
    "-- Create summaries of longer text content\n",
    "WITH sample_reports AS (\n",
    "  SELECT 'Q1 2024 Sales Report: Revenue increased by 15% compared to Q1 2023. \n",
    "          New customer acquisitions were up 22%, while customer retention remained stable at 89%. \n",
    "          Product line A performed exceptionally well with 35% growth, while Product line B saw a 5% decline. \n",
    "          Marketing spend increased by 10% with improved ROI of 3.2x.' as report_text\n",
    ")\n",
    "SELECT \n",
    "  ai_query(\n",
    "    'databricks-gpt-oss-120b',\n",
    "    CONCAT('Summarize this business report in 2-3 bullet points: ', report_text)\n",
    "  ) as summary\n",
    "FROM sample_reports;"
   ]
  },
  {
   "cell_type": "markdown",
   "metadata": {
    "application/vnd.databricks.v1+cell": {
     "cellMetadata": {
      "byteLimit": 2048000,
      "rowLimit": 10000
     },
     "inputWidgets": {},
     "nuid": "0610afde-3f84-4673-b327-8adadb7fa6db",
     "showTitle": false,
     "tableResultSettingsMap": {},
     "title": ""
    }
   },
   "source": [
    "## Example 4: Working with Real Data\n",
    "\n",
    "Let's use AI querying with actual data from your workspace. We'll use the bike trips data that was created during setup."
   ]
  },
  {
   "cell_type": "code",
   "execution_count": 0,
   "metadata": {
    "application/vnd.databricks.v1+cell": {
     "cellMetadata": {
      "byteLimit": 2048000,
      "implicitDf": true,
      "rowLimit": 10000
     },
     "inputWidgets": {},
     "nuid": "3e1b0d88-30bb-4f09-a3dc-2df1a2b77752",
     "showTitle": false,
     "tableResultSettingsMap": {},
     "title": ""
    },
    "vscode": {
     "languageId": "sql"
    }
   },
   "outputs": [],
   "source": [
    "%sql\n",
    "-- Analyze patterns in bike trip data using AI\n",
    "WITH trip_summary AS (\n",
    "  SELECT \n",
    "    COUNT(*) as total_trips,\n",
    "    AVG(trip_duration) as avg_duration_minutes,\n",
    "    COUNT(DISTINCT user_type) as user_types\n",
    "  FROM main.dbdemos_pipeline_bike.bike_trips_gold\n",
    "  LIMIT 1\n",
    ")\n",
    "SELECT \n",
    "  ai_query(\n",
    "    'databricks-gpt-oss-120b',\n",
    "    CONCAT('Analyze this bike sharing data and provide 2-3 insights: ',\n",
    "           'Total trips: ', total_trips, \n",
    "           ', Average duration: ', ROUND(avg_duration_minutes, 1), ' minutes',\n",
    "           ', User types: ', user_types)\n",
    "  ) as data_insights\n",
    "FROM trip_summary;"
   ]
  },
  {
   "cell_type": "markdown",
   "metadata": {
    "application/vnd.databricks.v1+cell": {
     "cellMetadata": {
      "byteLimit": 2048000,
      "rowLimit": 10000
     },
     "inputWidgets": {},
     "nuid": "93a2f236-651f-42f8-ad1c-ec9114364912",
     "showTitle": false,
     "tableResultSettingsMap": {},
     "title": ""
    }
   },
   "source": [
    "## Example 5: Creating Dynamic Reports"
   ]
  },
  {
   "cell_type": "code",
   "execution_count": 0,
   "metadata": {
    "application/vnd.databricks.v1+cell": {
     "cellMetadata": {
      "byteLimit": 2048000,
      "implicitDf": true,
      "rowLimit": 10000
     },
     "inputWidgets": {},
     "nuid": "f0ea2d5d-5b09-429c-9727-b08ede477cc9",
     "showTitle": false,
     "tableResultSettingsMap": {},
     "title": ""
    },
    "vscode": {
     "languageId": "sql"
    }
   },
   "outputs": [],
   "source": [
    "%sql\n",
    "-- Generate a natural language report from aggregated data\n",
    "WITH monthly_stats AS (\n",
    "  SELECT \n",
    "    DATE_FORMAT(start_time, 'yyyy-MM') as month,\n",
    "    COUNT(*) as trip_count,\n",
    "    AVG(trip_duration) as avg_duration,\n",
    "    COUNT(DISTINCT start_station_name) as stations_used\n",
    "  FROM main.dbdemos_pipeline_bike.bike_trips_gold\n",
    "  WHERE start_time >= '2024-01-01'\n",
    "  GROUP BY DATE_FORMAT(start_time, 'yyyy-MM')\n",
    "  ORDER BY month DESC\n",
    "  LIMIT 3\n",
    ")\n",
    "SELECT \n",
    "  month,\n",
    "  trip_count,\n",
    "  ROUND(avg_duration, 1) as avg_duration_minutes,\n",
    "  ai_query(\n",
    "    'databricks-gpt-oss-120b',\n",
    "    CONCAT('Write a brief business summary for this month: ',\n",
    "           month, ' had ', trip_count, ' bike trips with average duration of ', \n",
    "           ROUND(avg_duration, 1), ' minutes across ', stations_used, ' stations.')\n",
    "  ) as monthly_report\n",
    "FROM monthly_stats;"
   ]
  },
  {
   "cell_type": "markdown",
   "metadata": {
    "application/vnd.databricks.v1+cell": {
     "cellMetadata": {
      "byteLimit": 2048000,
      "rowLimit": 10000
     },
     "inputWidgets": {},
     "nuid": "728fede1-85e1-446d-b4c1-f34d1dde222b",
     "showTitle": false,
     "tableResultSettingsMap": {},
     "title": ""
    }
   },
   "source": [
    "## Best Practices for AI Querying\n",
    "\n",
    "### 🎯 **Prompt Engineering Tips:**\n",
    "1. **Be specific** in your prompts - clear instructions get better results\n",
    "2. **Limit response length** when needed (e.g., \"respond in one word\")\n",
    "3. **Provide context** about the data you're analyzing\n",
    "4. **Use consistent formatting** for structured outputs\n",
    "\n",
    "### ⚡ **Performance Considerations:**\n",
    "1. **Batch processing** - Process multiple rows efficiently rather than single calls\n",
    "2. **Cache results** when possible to avoid repeated API calls\n",
    "3. **Filter data first** - Apply WHERE clauses before using ai_query\n",
    "4. **Monitor costs** - AI model calls consume compute resources\n",
    "\n",
    "### 🔒 **Security Notes:**\n",
    "1. **Don't send sensitive data** to external models unless approved\n",
    "2. **Use appropriate endpoints** - some models may have data residency requirements\n",
    "3. **Review outputs** - AI responses should be validated for business use"
   ]
  },
  {
   "cell_type": "markdown",
   "metadata": {
    "application/vnd.databricks.v1+cell": {
     "cellMetadata": {
      "byteLimit": 2048000,
      "rowLimit": 10000
     },
     "inputWidgets": {},
     "nuid": "0f15fb79-7d62-4cfc-9061-8963e13c866e",
     "showTitle": false,
     "tableResultSettingsMap": {},
     "title": ""
    }
   },
   "source": [
    "## Common Use Cases\n",
    "\n",
    "### 📊 **Analytics & Reporting:**\n",
    "- Generate natural language summaries of KPIs\n",
    "- Create automated insights from trend analysis\n",
    "- Explain complex data patterns in simple terms\n",
    "\n",
    "### 🏷️ **Data Processing:**\n",
    "- Classify and categorize text data\n",
    "- Extract entities from unstructured content\n",
    "- Standardize data formats and values\n",
    "\n",
    "### 💼 **Business Intelligence:**\n",
    "- Create conversational dashboards\n",
    "- Generate executive summaries\n",
    "- Provide context for data visualizations\n",
    "\n",
    "### 🔍 **Data Quality:**\n",
    "- Detect anomalies in text data\n",
    "- Validate data consistency\n",
    "- Identify potential data issues"
   ]
  },
  {
   "cell_type": "markdown",
   "metadata": {
    "application/vnd.databricks.v1+cell": {
     "cellMetadata": {
      "byteLimit": 2048000,
      "rowLimit": 10000
     },
     "inputWidgets": {},
     "nuid": "157e02d2-f177-4d5a-acd0-7c8f53c52441",
     "showTitle": false,
     "tableResultSettingsMap": {},
     "title": ""
    }
   },
   "source": [
    "## Troubleshooting Common Issues\n",
    "\n",
    "### Model Endpoint Not Found:\n",
    "```sql\n",
    "-- Check available endpoints\n",
    "SHOW ENDPOINTS;\n",
    "```\n",
    "\n",
    "### Permission Issues:\n",
    "- Ensure you have `CAN QUERY` permissions on the model endpoint\n",
    "- Contact your workspace admin if you can't access endpoints\n",
    "\n",
    "### Timeout Errors:\n",
    "- Simplify your prompts\n",
    "- Process smaller batches of data\n",
    "- Consider using asynchronous processing for large datasets\n",
    "\n",
    "### Unexpected Responses:\n",
    "- Review and refine your prompt wording\n",
    "- Add more specific instructions\n",
    "- Test with smaller datasets first"
   ]
  },
  {
   "cell_type": "markdown",
   "metadata": {
    "application/vnd.databricks.v1+cell": {
     "cellMetadata": {
      "byteLimit": 2048000,
      "rowLimit": 10000
     },
     "inputWidgets": {},
     "nuid": "d82d1f7f-3f44-401f-bae5-6cfd131e5301",
     "showTitle": false,
     "tableResultSettingsMap": {},
     "title": ""
    }
   },
   "source": [
    "## Next Steps\n",
    "\n",
    "### 🚀 **Explore Further:**\n",
    "1. **Try different models** - Experiment with various foundation models\n",
    "2. **Build applications** - Create notebooks that combine AI with your data workflows  \n",
    "3. **Create dashboards** - Use AI-generated insights in your visualizations\n",
    "4. **Automate reports** - Schedule jobs that include AI analysis\n",
    "\n",
    "### 📚 **Learn More:**\n",
    "* [Model Serving Documentation](https://docs.databricks.com/en/machine-learning/model-serving/index.html)\n",
    "* [Foundation Models on Databricks](https://docs.databricks.com/en/machine-learning/foundation-models/index.html)\n",
    "* [Generative AI Solutions](https://docs.databricks.com/en/generative-ai/index.html)\n",
    "\n",
    "### 💡 **Community Resources:**\n",
    "* [Databricks Community - AI/ML](https://community.databricks.com/s/topic/0TO5w00000094LGGAY/generative-ai)\n",
    "* [SQL AI Functions Examples](https://docs.databricks.com/en/sql/language-manual/sql-ref-functions.html#ai-functions)"
   ]
  }
 ],
 "metadata": {
  "application/vnd.databricks.v1+notebook": {
   "computePreferences": null,
   "dashboards": [],
   "environmentMetadata": null,
   "inputWidgetPreferences": null,
   "language": "python",
   "notebookMetadata": {
    "mostRecentlyExecutedCommandWithImplicitDF": {
     "commandId": 8261198551645976,
     "dataframes": [
      "_sqldf"
     ]
    },
    "pythonIndentUnit": 4
   },
   "notebookName": "6. AI Querying",
   "widgets": {}
  },
  "language_info": {
   "name": "python"
  }
 },
 "nbformat": 4,
 "nbformat_minor": 0
}
