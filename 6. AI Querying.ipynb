{
 "cells": [
  {
   "cell_type": "markdown",
   "id": "58b3e2ab",
   "metadata": {},
   "source": [
    "# 6. AI Querying with Databricks SQL\n",
    "\n",
    "Databricks SQL includes powerful AI functions that let you integrate large language models directly into your SQL queries. The `ai_query` function allows you to send natural language prompts to AI models and get responses back as part of your SQL workflow.\n",
    "\n",
    "This notebook will show you simple, practical examples of how to use AI querying to enhance your data analysis."
   ]
  },
  {
   "cell_type": "markdown",
   "id": "0295463e",
   "metadata": {},
   "source": [
    "## What is ai_query?\n",
    "\n",
    "The `ai_query` function lets you call large language models (LLMs) directly from SQL. You can:\n",
    "\n",
    "- ✨ **Analyze text data** with natural language prompts\n",
    "- 🔍 **Extract insights** from unstructured content\n",
    "- 📝 **Generate summaries** of data\n",
    "- 🏷️ **Classify and categorize** information\n",
    "- 💬 **Create conversational interfaces** over your data\n",
    "\n",
    "### Basic Syntax:\n",
    "```sql\n",
    "SELECT ai_query('your_endpoint_name', 'Your prompt here')\n",
    "```\n",
    "\n",
    "📖 **Complete Reference:** [ai_query Function Documentation](https://docs.databricks.com/en/sql/language-manual/functions/ai_query.html)"
   ]
  },
  {
   "cell_type": "markdown",
   "id": "43018bd7",
   "metadata": {},
   "source": [
    "## Prerequisites\n",
    "\n",
    "Before you can use `ai_query`, you need:\n",
    "\n",
    "1. **A model serving endpoint** deployed in your workspace\n",
    "2. **Permissions** to access the endpoint\n",
    "3. **Unity Catalog** enabled (recommended)\n",
    "\n",
    "💡 **Tip:** Your workspace may already have foundation model endpoints available like `databricks-llama-2-70b-chat` or similar. Check with your admin or look in the \"Serving\" section of your workspace."
   ]
  },
  {
   "cell_type": "markdown",
   "id": "35274b2d",
   "metadata": {},
   "source": [
    "## Example 1: Simple Text Analysis"
   ]
  },
  {
   "cell_type": "code",
   "execution_count": null,
   "id": "402e4ebf",
   "metadata": {
    "vscode": {
     "languageId": "sql"
    }
   },
   "outputs": [],
   "source": [
    "%sql\n",
    "-- Basic example: Analyze the sentiment of a text\n",
    "SELECT ai_query(\n",
    "  'databricks-llama-2-70b-chat',\n",
    "  'Analyze the sentiment of this text and respond with just one word (positive, negative, or neutral): \n",
    "   \"I love using Databricks for data analysis! It makes my work so much easier.\"'\n",
    ") as sentiment_analysis"
   ]
  },
  {
   "cell_type": "markdown",
   "id": "65f6e82e",
   "metadata": {},
   "source": [
    "## Example 2: Data Classification"
   ]
  },
  {
   "cell_type": "code",
   "execution_count": null,
   "id": "bb637b04",
   "metadata": {
    "vscode": {
     "languageId": "sql"
    }
   },
   "outputs": [],
   "source": [
    "%sql\n",
    "-- Classify customer feedback into categories\n",
    "WITH sample_feedback AS (\n",
    "  SELECT 'The product arrived quickly and works perfectly!' as feedback\n",
    "  UNION ALL\n",
    "  SELECT 'Shipping was delayed and the package was damaged'\n",
    "  UNION ALL  \n",
    "  SELECT 'Great customer service, very helpful staff'\n",
    "  UNION ALL\n",
    "  SELECT 'The website is confusing and hard to navigate'\n",
    ")\n",
    "SELECT \n",
    "  feedback,\n",
    "  ai_query(\n",
    "    'databricks-llama-2-70b-chat',\n",
    "    CONCAT('Classify this customer feedback into one category: Product, Shipping, Service, or Website. \n",
    "            Only respond with the category name: ', feedback)\n",
    "  ) as category\n",
    "FROM sample_feedback;"
   ]
  },
  {
   "cell_type": "markdown",
   "id": "4d016b2d",
   "metadata": {},
   "source": [
    "## Example 3: Data Summarization"
   ]
  },
  {
   "cell_type": "code",
   "execution_count": null,
   "id": "a56ff696",
   "metadata": {
    "vscode": {
     "languageId": "sql"
    }
   },
   "outputs": [],
   "source": [
    "%sql\n",
    "-- Create summaries of longer text content\n",
    "WITH sample_reports AS (\n",
    "  SELECT 'Q1 2024 Sales Report: Revenue increased by 15% compared to Q1 2023. \n",
    "          New customer acquisitions were up 22%, while customer retention remained stable at 89%. \n",
    "          Product line A performed exceptionally well with 35% growth, while Product line B saw a 5% decline. \n",
    "          Marketing spend increased by 10% with improved ROI of 3.2x.' as report_text\n",
    ")\n",
    "SELECT \n",
    "  ai_query(\n",
    "    'databricks-llama-2-70b-chat',\n",
    "    CONCAT('Summarize this business report in 2-3 bullet points: ', report_text)\n",
    "  ) as summary\n",
    "FROM sample_reports;"
   ]
  },
  {
   "cell_type": "markdown",
   "id": "398dffc3",
   "metadata": {},
   "source": [
    "## Example 4: Working with Real Data\n",
    "\n",
    "Let's use AI querying with actual data from your workspace. We'll use the bike trips data that was created during setup."
   ]
  },
  {
   "cell_type": "code",
   "execution_count": null,
   "id": "3d3361ed",
   "metadata": {
    "vscode": {
     "languageId": "sql"
    }
   },
   "outputs": [],
   "source": [
    "%sql\n",
    "-- Analyze patterns in bike trip data using AI\n",
    "WITH trip_summary AS (\n",
    "  SELECT \n",
    "    COUNT(*) as total_trips,\n",
    "    AVG(trip_duration) as avg_duration_minutes,\n",
    "    COUNT(DISTINCT user_type) as user_types\n",
    "  FROM main.dbdemos_pipeline_bike.bike_trips_gold\n",
    "  LIMIT 1\n",
    ")\n",
    "SELECT \n",
    "  ai_query(\n",
    "    'databricks-llama-2-70b-chat',\n",
    "    CONCAT('Analyze this bike sharing data and provide 2-3 insights: ',\n",
    "           'Total trips: ', total_trips, \n",
    "           ', Average duration: ', ROUND(avg_duration_minutes, 1), ' minutes',\n",
    "           ', User types: ', user_types)\n",
    "  ) as data_insights\n",
    "FROM trip_summary;"
   ]
  },
  {
   "cell_type": "markdown",
   "id": "47d9d891",
   "metadata": {},
   "source": [
    "## Example 5: Creating Dynamic Reports"
   ]
  },
  {
   "cell_type": "code",
   "execution_count": null,
   "id": "31b85107",
   "metadata": {
    "vscode": {
     "languageId": "sql"
    }
   },
   "outputs": [],
   "source": [
    "%sql\n",
    "-- Generate a natural language report from aggregated data\n",
    "WITH monthly_stats AS (\n",
    "  SELECT \n",
    "    DATE_FORMAT(start_time, 'yyyy-MM') as month,\n",
    "    COUNT(*) as trip_count,\n",
    "    AVG(trip_duration) as avg_duration,\n",
    "    COUNT(DISTINCT start_station_name) as stations_used\n",
    "  FROM main.dbdemos_pipeline_bike.bike_trips_gold\n",
    "  WHERE start_time >= '2024-01-01'\n",
    "  GROUP BY DATE_FORMAT(start_time, 'yyyy-MM')\n",
    "  ORDER BY month DESC\n",
    "  LIMIT 3\n",
    ")\n",
    "SELECT \n",
    "  month,\n",
    "  trip_count,\n",
    "  ROUND(avg_duration, 1) as avg_duration_minutes,\n",
    "  ai_query(\n",
    "    'databricks-llama-2-70b-chat',\n",
    "    CONCAT('Write a brief business summary for this month: ',\n",
    "           month, ' had ', trip_count, ' bike trips with average duration of ', \n",
    "           ROUND(avg_duration, 1), ' minutes across ', stations_used, ' stations.')\n",
    "  ) as monthly_report\n",
    "FROM monthly_stats;"
   ]
  },
  {
   "cell_type": "markdown",
   "id": "8dc38bc5",
   "metadata": {},
   "source": [
    "## Best Practices for AI Querying\n",
    "\n",
    "### 🎯 **Prompt Engineering Tips:**\n",
    "1. **Be specific** in your prompts - clear instructions get better results\n",
    "2. **Limit response length** when needed (e.g., \"respond in one word\")\n",
    "3. **Provide context** about the data you're analyzing\n",
    "4. **Use consistent formatting** for structured outputs\n",
    "\n",
    "### ⚡ **Performance Considerations:**\n",
    "1. **Batch processing** - Process multiple rows efficiently rather than single calls\n",
    "2. **Cache results** when possible to avoid repeated API calls\n",
    "3. **Filter data first** - Apply WHERE clauses before using ai_query\n",
    "4. **Monitor costs** - AI model calls consume compute resources\n",
    "\n",
    "### 🔒 **Security Notes:**\n",
    "1. **Don't send sensitive data** to external models unless approved\n",
    "2. **Use appropriate endpoints** - some models may have data residency requirements\n",
    "3. **Review outputs** - AI responses should be validated for business use"
   ]
  },
  {
   "cell_type": "markdown",
   "id": "4903b793",
   "metadata": {},
   "source": [
    "## Common Use Cases\n",
    "\n",
    "### 📊 **Analytics & Reporting:**\n",
    "- Generate natural language summaries of KPIs\n",
    "- Create automated insights from trend analysis\n",
    "- Explain complex data patterns in simple terms\n",
    "\n",
    "### 🏷️ **Data Processing:**\n",
    "- Classify and categorize text data\n",
    "- Extract entities from unstructured content\n",
    "- Standardize data formats and values\n",
    "\n",
    "### 💼 **Business Intelligence:**\n",
    "- Create conversational dashboards\n",
    "- Generate executive summaries\n",
    "- Provide context for data visualizations\n",
    "\n",
    "### 🔍 **Data Quality:**\n",
    "- Detect anomalies in text data\n",
    "- Validate data consistency\n",
    "- Identify potential data issues"
   ]
  },
  {
   "cell_type": "markdown",
   "id": "df8dd8e4",
   "metadata": {},
   "source": [
    "## Troubleshooting Common Issues\n",
    "\n",
    "### Model Endpoint Not Found:\n",
    "```sql\n",
    "-- Check available endpoints\n",
    "SHOW ENDPOINTS;\n",
    "```\n",
    "\n",
    "### Permission Issues:\n",
    "- Ensure you have `CAN QUERY` permissions on the model endpoint\n",
    "- Contact your workspace admin if you can't access endpoints\n",
    "\n",
    "### Timeout Errors:\n",
    "- Simplify your prompts\n",
    "- Process smaller batches of data\n",
    "- Consider using asynchronous processing for large datasets\n",
    "\n",
    "### Unexpected Responses:\n",
    "- Review and refine your prompt wording\n",
    "- Add more specific instructions\n",
    "- Test with smaller datasets first"
   ]
  },
  {
   "cell_type": "markdown",
   "id": "a1c67eee",
   "metadata": {},
   "source": [
    "## Next Steps\n",
    "\n",
    "### 🚀 **Explore Further:**\n",
    "1. **Try different models** - Experiment with various foundation models\n",
    "2. **Build applications** - Create notebooks that combine AI with your data workflows  \n",
    "3. **Create dashboards** - Use AI-generated insights in your visualizations\n",
    "4. **Automate reports** - Schedule jobs that include AI analysis\n",
    "\n",
    "### 📚 **Learn More:**\n",
    "* [Model Serving Documentation](https://docs.databricks.com/en/machine-learning/model-serving/index.html)\n",
    "* [Foundation Models on Databricks](https://docs.databricks.com/en/machine-learning/foundation-models/index.html)\n",
    "* [Generative AI Solutions](https://docs.databricks.com/en/generative-ai/index.html)\n",
    "\n",
    "### 💡 **Community Resources:**\n",
    "* [Databricks Community - AI/ML](https://community.databricks.com/s/topic/0TO5w00000094LGGAY/generative-ai)\n",
    "* [SQL AI Functions Examples](https://docs.databricks.com/en/sql/language-manual/sql-ref-functions.html#ai-functions)"
   ]
  },
  {
   "cell_type": "markdown",
   "id": "296c261b",
   "metadata": {},
   "source": [
    "# 6. AI Querying with Databricks SQL\n",
    "\n",
    "Databricks SQL includes powerful AI functions that let you integrate large language models directly into your SQL queries. The `ai_query` function allows you to send natural language prompts to AI models and get responses back as part of your SQL workflow.\n",
    "\n",
    "This notebook will show you simple, practical examples of how to use AI querying to enhance your data analysis."
   ]
  },
  {
   "cell_type": "markdown",
   "id": "eebb8e97",
   "metadata": {},
   "source": [
    "## What is ai_query?\n",
    "\n",
    "The `ai_query` function lets you call large language models (LLMs) directly from SQL. You can:\n",
    "\n",
    "- ✨ **Analyze text data** with natural language prompts\n",
    "- 🔍 **Extract insights** from unstructured content\n",
    "- 📝 **Generate summaries** of data\n",
    "- 🏷️ **Classify and categorize** information\n",
    "- 💬 **Create conversational interfaces** over your data\n",
    "\n",
    "### Basic Syntax:\n",
    "```sql\n",
    "SELECT ai_query('your_endpoint_name', 'Your prompt here')\n",
    "```\n",
    "\n",
    "📖 **Complete Reference:** [ai_query Function Documentation](https://docs.databricks.com/en/sql/language-manual/functions/ai_query.html)"
   ]
  },
  {
   "cell_type": "markdown",
   "id": "838f1290",
   "metadata": {},
   "source": [
    "## Prerequisites\n",
    "\n",
    "Before you can use `ai_query`, you need:\n",
    "\n",
    "1. **A model serving endpoint** deployed in your workspace\n",
    "2. **Permissions** to access the endpoint\n",
    "3. **Unity Catalog** enabled (recommended)\n",
    "\n",
    "💡 **Tip:** Your workspace may already have foundation model endpoints available like `databricks-llama-2-70b-chat` or similar. Check with your admin or look in the \"Serving\" section of your workspace."
   ]
  },
  {
   "cell_type": "markdown",
   "id": "668b1e4b",
   "metadata": {},
   "source": [
    "## Example 1: Simple Text Analysis"
   ]
  },
  {
   "cell_type": "code",
   "execution_count": null,
   "id": "7ec9eef6",
   "metadata": {
    "vscode": {
     "languageId": "sql"
    }
   },
   "outputs": [],
   "source": [
    "%sql\n",
    "-- Basic example: Analyze the sentiment of a text\n",
    "SELECT ai_query(\n",
    "  'databricks-llama-2-70b-chat',\n",
    "  'Analyze the sentiment of this text and respond with just one word (positive, negative, or neutral): \n",
    "   \"I love using Databricks for data analysis! It makes my work so much easier.\"'\n",
    ") as sentiment_analysis"
   ]
  },
  {
   "cell_type": "markdown",
   "id": "b70af1ba",
   "metadata": {},
   "source": [
    "## Example 2: Data Classification"
   ]
  },
  {
   "cell_type": "code",
   "execution_count": null,
   "id": "4c21b0ee",
   "metadata": {
    "vscode": {
     "languageId": "sql"
    }
   },
   "outputs": [],
   "source": [
    "%sql\n",
    "-- Classify customer feedback into categories\n",
    "WITH sample_feedback AS (\n",
    "  SELECT 'The product arrived quickly and works perfectly!' as feedback\n",
    "  UNION ALL\n",
    "  SELECT 'Shipping was delayed and the package was damaged'\n",
    "  UNION ALL  \n",
    "  SELECT 'Great customer service, very helpful staff'\n",
    "  UNION ALL\n",
    "  SELECT 'The website is confusing and hard to navigate'\n",
    ")\n",
    "SELECT \n",
    "  feedback,\n",
    "  ai_query(\n",
    "    'databricks-llama-2-70b-chat',\n",
    "    CONCAT('Classify this customer feedback into one category: Product, Shipping, Service, or Website. \n",
    "            Only respond with the category name: ', feedback)\n",
    "  ) as category\n",
    "FROM sample_feedback;"
   ]
  },
  {
   "cell_type": "markdown",
   "id": "ea743f88",
   "metadata": {},
   "source": [
    "## Example 3: Data Summarization"
   ]
  },
  {
   "cell_type": "code",
   "execution_count": null,
   "id": "fb571bf3",
   "metadata": {
    "vscode": {
     "languageId": "sql"
    }
   },
   "outputs": [],
   "source": [
    "%sql\n",
    "-- Create summaries of longer text content\n",
    "WITH sample_reports AS (\n",
    "  SELECT 'Q1 2024 Sales Report: Revenue increased by 15% compared to Q1 2023. \n",
    "          New customer acquisitions were up 22%, while customer retention remained stable at 89%. \n",
    "          Product line A performed exceptionally well with 35% growth, while Product line B saw a 5% decline. \n",
    "          Marketing spend increased by 10% with improved ROI of 3.2x.' as report_text\n",
    ")\n",
    "SELECT \n",
    "  ai_query(\n",
    "    'databricks-llama-2-70b-chat',\n",
    "    CONCAT('Summarize this business report in 2-3 bullet points: ', report_text)\n",
    "  ) as summary\n",
    "FROM sample_reports;"
   ]
  },
  {
   "cell_type": "markdown",
   "id": "b69a96e0",
   "metadata": {},
   "source": [
    "## Example 4: Working with Real Data\n",
    "\n",
    "Let's use AI querying with actual data from your workspace. We'll use the bike trips data that was created during setup."
   ]
  },
  {
   "cell_type": "code",
   "execution_count": null,
   "id": "d739d7a2",
   "metadata": {
    "vscode": {
     "languageId": "sql"
    }
   },
   "outputs": [],
   "source": [
    "%sql\n",
    "-- Analyze patterns in bike trip data using AI\n",
    "WITH trip_summary AS (\n",
    "  SELECT \n",
    "    COUNT(*) as total_trips,\n",
    "    AVG(trip_duration) as avg_duration_minutes,\n",
    "    COUNT(DISTINCT user_type) as user_types\n",
    "  FROM main.dbdemos_pipeline_bike.bike_trips_gold\n",
    "  LIMIT 1\n",
    ")\n",
    "SELECT \n",
    "  ai_query(\n",
    "    'databricks-llama-2-70b-chat',\n",
    "    CONCAT('Analyze this bike sharing data and provide 2-3 insights: ',\n",
    "           'Total trips: ', total_trips, \n",
    "           ', Average duration: ', ROUND(avg_duration_minutes, 1), ' minutes',\n",
    "           ', User types: ', user_types)\n",
    "  ) as data_insights\n",
    "FROM trip_summary;"
   ]
  },
  {
   "cell_type": "markdown",
   "id": "bfbf0207",
   "metadata": {},
   "source": [
    "## Example 5: Creating Dynamic Reports"
   ]
  },
  {
   "cell_type": "code",
   "execution_count": null,
   "id": "e038dbde",
   "metadata": {
    "vscode": {
     "languageId": "sql"
    }
   },
   "outputs": [],
   "source": [
    "%sql\n",
    "-- Generate a natural language report from aggregated data\n",
    "WITH monthly_stats AS (\n",
    "  SELECT \n",
    "    DATE_FORMAT(start_time, 'yyyy-MM') as month,\n",
    "    COUNT(*) as trip_count,\n",
    "    AVG(trip_duration) as avg_duration,\n",
    "    COUNT(DISTINCT start_station_name) as stations_used\n",
    "  FROM main.dbdemos_pipeline_bike.bike_trips_gold\n",
    "  WHERE start_time >= '2024-01-01'\n",
    "  GROUP BY DATE_FORMAT(start_time, 'yyyy-MM')\n",
    "  ORDER BY month DESC\n",
    "  LIMIT 3\n",
    ")\n",
    "SELECT \n",
    "  month,\n",
    "  trip_count,\n",
    "  ROUND(avg_duration, 1) as avg_duration_minutes,\n",
    "  ai_query(\n",
    "    'databricks-llama-2-70b-chat',\n",
    "    CONCAT('Write a brief business summary for this month: ',\n",
    "           month, ' had ', trip_count, ' bike trips with average duration of ', \n",
    "           ROUND(avg_duration, 1), ' minutes across ', stations_used, ' stations.')\n",
    "  ) as monthly_report\n",
    "FROM monthly_stats;"
   ]
  },
  {
   "cell_type": "markdown",
   "id": "19fe5454",
   "metadata": {},
   "source": [
    "## Best Practices for AI Querying\n",
    "\n",
    "### 🎯 **Prompt Engineering Tips:**\n",
    "1. **Be specific** in your prompts - clear instructions get better results\n",
    "2. **Limit response length** when needed (e.g., \"respond in one word\")\n",
    "3. **Provide context** about the data you're analyzing\n",
    "4. **Use consistent formatting** for structured outputs\n",
    "\n",
    "### ⚡ **Performance Considerations:**\n",
    "1. **Batch processing** - Process multiple rows efficiently rather than single calls\n",
    "2. **Cache results** when possible to avoid repeated API calls\n",
    "3. **Filter data first** - Apply WHERE clauses before using ai_query\n",
    "4. **Monitor costs** - AI model calls consume compute resources\n",
    "\n",
    "### 🔒 **Security Notes:**\n",
    "1. **Don't send sensitive data** to external models unless approved\n",
    "2. **Use appropriate endpoints** - some models may have data residency requirements\n",
    "3. **Review outputs** - AI responses should be validated for business use"
   ]
  },
  {
   "cell_type": "markdown",
   "id": "e0a8f81e",
   "metadata": {},
   "source": [
    "## Common Use Cases\n",
    "\n",
    "### 📊 **Analytics & Reporting:**\n",
    "- Generate natural language summaries of KPIs\n",
    "- Create automated insights from trend analysis\n",
    "- Explain complex data patterns in simple terms\n",
    "\n",
    "### 🏷️ **Data Processing:**\n",
    "- Classify and categorize text data\n",
    "- Extract entities from unstructured content\n",
    "- Standardize data formats and values\n",
    "\n",
    "### 💼 **Business Intelligence:**\n",
    "- Create conversational dashboards\n",
    "- Generate executive summaries\n",
    "- Provide context for data visualizations\n",
    "\n",
    "### 🔍 **Data Quality:**\n",
    "- Detect anomalies in text data\n",
    "- Validate data consistency\n",
    "- Identify potential data issues"
   ]
  },
  {
   "cell_type": "markdown",
   "id": "38aa88f5",
   "metadata": {},
   "source": [
    "## Troubleshooting Common Issues\n",
    "\n",
    "### Model Endpoint Not Found:\n",
    "```sql\n",
    "-- Check available endpoints\n",
    "SHOW ENDPOINTS;\n",
    "```\n",
    "\n",
    "### Permission Issues:\n",
    "- Ensure you have `CAN QUERY` permissions on the model endpoint\n",
    "- Contact your workspace admin if you can't access endpoints\n",
    "\n",
    "### Timeout Errors:\n",
    "- Simplify your prompts\n",
    "- Process smaller batches of data\n",
    "- Consider using asynchronous processing for large datasets\n",
    "\n",
    "### Unexpected Responses:\n",
    "- Review and refine your prompt wording\n",
    "- Add more specific instructions\n",
    "- Test with smaller datasets first"
   ]
  },
  {
   "cell_type": "markdown",
   "id": "169b8761",
   "metadata": {},
   "source": [
    "## Next Steps\n",
    "\n",
    "### 🚀 **Explore Further:**\n",
    "1. **Try different models** - Experiment with various foundation models\n",
    "2. **Build applications** - Create notebooks that combine AI with your data workflows  \n",
    "3. **Create dashboards** - Use AI-generated insights in your visualizations\n",
    "4. **Automate reports** - Schedule jobs that include AI analysis\n",
    "\n",
    "### 📚 **Learn More:**\n",
    "* [Model Serving Documentation](https://docs.databricks.com/en/machine-learning/model-serving/index.html)\n",
    "* [Foundation Models on Databricks](https://docs.databricks.com/en/machine-learning/foundation-models/index.html)\n",
    "* [Generative AI Solutions](https://docs.databricks.com/en/generative-ai/index.html)\n",
    "\n",
    "### 💡 **Community Resources:**\n",
    "* [Databricks Community - AI/ML](https://community.databricks.com/s/topic/0TO5w00000094LGGAY/generative-ai)\n",
    "* [SQL AI Functions Examples](https://docs.databricks.com/en/sql/language-manual/sql-ref-functions.html#ai-functions)"
   ]
  }
 ],
 "metadata": {
  "language_info": {
   "name": "python"
  }
 },
 "nbformat": 4,
 "nbformat_minor": 5
}
