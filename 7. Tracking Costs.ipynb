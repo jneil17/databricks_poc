{
 "cells": [
  {
   "cell_type": "markdown",
   "metadata": {
    "application/vnd.databricks.v1+cell": {
     "cellMetadata": {},
     "inputWidgets": {},
     "nuid": "8bb12957-34d8-4617-bfef-41ea49bc11d6",
     "showTitle": false,
     "tableResultSettingsMap": {},
     "title": ""
    }
   },
   "source": [
    "# 7. Tracking Costs in Databricks\n",
    "\n",
    "Cost management is crucial for maximizing the value of your Databricks investment. This notebook demonstrates how to monitor usage, analyze spending patterns, and optimize costs across your workspace.\n",
    "\n",
    "## Learning Objectives\n",
    "- Access and navigate the Usage Dashboard\n",
    "- Query system tables for detailed cost analysis\n",
    "- Set up cost monitoring and alerts\n",
    "- Implement cost optimization strategies\n",
    "\n",
    "## Key Features Covered\n",
    "- **Usage Dashboard**: Real-time cost monitoring and trends\n",
    "- **System Tables**: Granular billing data for analysis\n",
    "- **Resource Optimization**: Rightsizing clusters and warehouses\n",
    "- **Cost Allocation**: Tracking costs by team, project, or use case\n",
    "\n",
    "\n",
    "## Cost Monitoring in Databricks SQL (Video)\n",
    "[![Video Thumbnail](https://img.youtube.com/vi/v0CsjJ-F-zs/0.jpg)](https://www.youtube.com/watch?v=v0CsjJ-F-zs)"
   ]
  },
  {
   "cell_type": "markdown",
   "metadata": {
    "application/vnd.databricks.v1+cell": {
     "cellMetadata": {},
     "inputWidgets": {},
     "nuid": "9ad836ca-1d52-44d0-9734-1e93fc9cfed9",
     "showTitle": false,
     "tableResultSettingsMap": {},
     "title": ""
    }
   },
   "source": [
    "## 1. Usage Dashboard Overview\n",
    "\n",
    "The Usage Dashboard provides a comprehensive view of your Databricks consumption and costs:\n",
    "\n",
    "### Key Metrics\n",
    "- **DBU Consumption**: Total compute units consumed\n",
    "- **Cost Trends**: Daily, weekly, and monthly spending patterns\n",
    "- **Resource Breakdown**: Costs by workspace, cluster, and job\n",
    "- **Usage Patterns**: Peak usage times and resource utilization\n",
    "\n",
    "### Accessing the Dashboard\n",
    "1. Navigate to your Databricks account console\n",
    "2. Select \"Usage\" from the left sidebar\n",
    "3. Choose your desired time range and filters\n",
    "4. Explore different views: Overview, Detailed Usage, and Billing\n",
    "\n",
    "**Note**: Account admin privileges are required to access usage data."
   ]
  },
  {
   "cell_type": "code",
   "execution_count": 0,
   "metadata": {
    "application/vnd.databricks.v1+cell": {
     "cellMetadata": {
      "byteLimit": 2048000,
      "rowLimit": 10000
     },
     "inputWidgets": {},
     "nuid": "ef6bdce8-4af6-4077-ada9-b719e61c13a3",
     "showTitle": false,
     "tableResultSettingsMap": {},
     "title": ""
    }
   },
   "outputs": [],
   "source": [
    "SHOW TABLES IN system.billing;"
   ]
  },
  {
   "cell_type": "code",
   "execution_count": 0,
   "metadata": {
    "application/vnd.databricks.v1+cell": {
     "cellMetadata": {
      "byteLimit": 2048000,
      "rowLimit": 10000
     },
     "inputWidgets": {},
     "nuid": "a05a85f9-3b25-405d-b5d1-284c6789266e",
     "showTitle": false,
     "tableResultSettingsMap": {},
     "title": ""
    }
   },
   "outputs": [],
   "source": [
    "%sql\n",
    "-- 2. System Tables for Cost Analysis\n",
    "-- Query actual billing data using Databricks system tables\n",
    "\n",
    "-- View recent usage by workspace with joined list_prices for accurate cost calculation\n",
    "SELECT\n",
    "    u.billing_origin_product,\n",
    "    u.usage_date,\n",
    "    SUM(u.usage_quantity) as usage_quantity,\n",
    "    SUM(u.usage_quantity * lp.pricing.effective_list.default) as total_dollar_cost\n",
    "FROM system.billing.usage u\n",
    "JOIN system.billing.list_prices lp\n",
    "    ON lp.sku_name = u.sku_name\n",
    "    AND u.usage_end_time >= lp.price_start_time\n",
    "    AND (lp.price_end_time IS NULL OR u.usage_end_time < lp.price_end_time)\n",
    "WHERE\n",
    "    month(u.usage_date) = month(NOW())\n",
    "    AND year(u.usage_date) = year(NOW())\n",
    "GROUP BY u.billing_origin_product, u.usage_date"
   ]
  },
  {
   "cell_type": "code",
   "execution_count": 0,
   "metadata": {
    "application/vnd.databricks.v1+cell": {
     "cellMetadata": {
      "byteLimit": 2048000,
      "rowLimit": 10000
     },
     "inputWidgets": {},
     "nuid": "5456e7db-8655-454c-b20a-b0f9a217232c",
     "showTitle": false,
     "tableResultSettingsMap": {},
     "title": ""
    }
   },
   "outputs": [],
   "source": [
    "%sql\n",
    "-- Daily cost trends over the last 30 days using effective list prices\n",
    "SELECT \n",
    "    u.usage_date,\n",
    "    SUM(u.usage_quantity * lp.pricing.effective_list.default) as daily_cost,\n",
    "    COUNT(DISTINCT u.workspace_id) as active_workspaces\n",
    "FROM system.billing.usage u\n",
    "JOIN system.billing.list_prices lp\n",
    "    ON lp.sku_name = u.sku_name\n",
    "    AND u.usage_end_time >= lp.price_start_time\n",
    "    AND (lp.price_end_time IS NULL OR u.usage_end_time < lp.price_end_time)\n",
    "WHERE u.usage_date >= current_date() - INTERVAL 30 days\n",
    "GROUP BY u.usage_date\n",
    "ORDER BY u.usage_date DESC;"
   ]
  },
  {
   "cell_type": "code",
   "execution_count": 0,
   "metadata": {
    "application/vnd.databricks.v1+cell": {
     "cellMetadata": {
      "byteLimit": 2048000,
      "rowLimit": 10000
     },
     "inputWidgets": {},
     "nuid": "17365968-6421-4b73-90c0-cc25a71ce28d",
     "showTitle": false,
     "tableResultSettingsMap": {},
     "title": ""
    }
   },
   "outputs": [],
   "source": [
    "%sql\n",
    "-- Top consuming resources by SKU type\n",
    "SELECT \n",
    "    u.sku_name,\n",
    "    SUM(u.usage_quantity) as total_dbus,\n",
    "    SUM(u.usage_quantity * lp.pricing.effective_list.default) as total_cost,\n",
    "    AVG(u.usage_quantity * lp.pricing.effective_list.default) as avg_daily_cost\n",
    "FROM system.billing.usage u\n",
    "JOIN system.billing.list_prices lp\n",
    "    ON lp.sku_name = u.sku_name\n",
    "    AND u.usage_end_time >= lp.price_start_time\n",
    "    AND (lp.price_end_time IS NULL OR u.usage_end_time < lp.price_end_time)\n",
    "WHERE u.usage_date >= current_date() - INTERVAL 7 days\n",
    "GROUP BY u.sku_name\n",
    "ORDER BY total_cost DESC;"
   ]
  },
  {
   "cell_type": "markdown",
   "metadata": {
    "application/vnd.databricks.v1+cell": {
     "cellMetadata": {},
     "inputWidgets": {},
     "nuid": "9773f22b-c328-4bcb-99bb-ccfe50d30fd6",
     "showTitle": false,
     "tableResultSettingsMap": {},
     "title": ""
    }
   },
   "source": [
    "## 3. Cost Optimization Strategies\n",
    "\n",
    "### Cluster Management\n",
    "- **Auto Termination**: Set appropriate idle timeouts\n",
    "- **Rightsizing**: Match cluster size to workload requirements\n",
    "- **Spot Instances**: Use for fault-tolerant workloads\n",
    "- **Pool Management**: Reuse instances across jobs\n",
    "\n",
    "### SQL Warehouse Optimization\n",
    "- **Auto Scaling**: Enable based on query load\n",
    "- **Serverless SQL**: Consider for variable workloads\n",
    "- **Query Optimization**: Improve query performance to reduce runtime\n",
    "\n",
    "### Monitoring and Alerts\n",
    "- Set up budget alerts in the Usage Dashboard\n",
    "- Create custom dashboards for team-specific cost tracking\n",
    "- Implement automated reporting for stakeholders"
   ]
  },
  {
   "cell_type": "code",
   "execution_count": 0,
   "metadata": {
    "application/vnd.databricks.v1+cell": {
     "cellMetadata": {
      "byteLimit": 2048000,
      "rowLimit": 10000
     },
     "inputWidgets": {},
     "nuid": "178a28dc-b5db-4566-bf3f-1fdd5df8f1c7",
     "showTitle": false,
     "tableResultSettingsMap": {},
     "title": ""
    }
   },
   "outputs": [],
   "source": [
    "%sql\n",
    "-- 4. Cost Analysis by Tag (if tagging is implemented)\n",
    "-- This helps with cost allocation and chargeback\n",
    "\n",
    "SELECT \n",
    "    u.custom_tags['department'] as department,\n",
    "    u.custom_tags['project'] as project,\n",
    "    SUM(u.usage_quantity * lp.pricing.effective_list.default) as total_cost,\n",
    "    COUNT(*) as usage_records\n",
    "FROM system.billing.usage u\n",
    "JOIN system.billing.list_prices lp\n",
    "    ON lp.sku_name = u.sku_name\n",
    "    AND u.usage_end_time >= lp.price_start_time\n",
    "    AND (lp.price_end_time IS NULL OR u.usage_end_time < lp.price_end_time)\n",
    "WHERE u.usage_date >= current_date() - INTERVAL 30 days\n",
    "    AND u.custom_tags IS NOT NULL\n",
    "GROUP BY u.custom_tags['department'], u.custom_tags['project']\n",
    "ORDER BY total_cost DESC;"
   ]
  },
  {
   "cell_type": "markdown",
   "metadata": {
    "application/vnd.databricks.v1+cell": {
     "cellMetadata": {},
     "inputWidgets": {},
     "nuid": "b04813b9-dfb5-482f-a370-cfc54ee3a354",
     "showTitle": false,
     "tableResultSettingsMap": {},
     "title": ""
    }
   },
   "source": [
    "## 5. Setting Up Cost Monitoring\n",
    "\n",
    "### Dashboard Creation\n",
    "1. Create a new dashboard in Databricks SQL\n",
    "2. Add visualizations for:\n",
    "   - Daily cost trends\n",
    "   - Top spending workspaces\n",
    "   - Resource utilization patterns\n",
    "   - Budget vs. actual spending\n",
    "\n",
    "### Automated Alerts\n",
    "```python\n",
    "# Example: Cost threshold alert using Databricks Jobs\n",
    "def check_daily_costs():\n",
    "    daily_cost = spark.sql(\"\"\"\n",
    "        SELECT SUM(usage_quantity * list_price) as cost\n",
    "        FROM system.billing.usage\n",
    "        WHERE usage_date = current_date()\n",
    "    \"\"\").collect()[0]['cost']\n",
    "    \n",
    "    if daily_cost > 1000:  # $1000 threshold\n",
    "        send_alert(f\"Daily costs exceeded threshold: ${daily_cost:.2f}\")\n",
    "```\n",
    "\n",
    "### Best Practices\n",
    "- Review costs weekly with stakeholders\n",
    "- Implement cost allocation tags consistently\n",
    "- Set up automated cost reports\n",
    "- Regular rightsizing reviews\n",
    "- Monitor unused resources"
   ]
  },
  {
   "cell_type": "markdown",
   "metadata": {
    "application/vnd.databricks.v1+cell": {
     "cellMetadata": {},
     "inputWidgets": {},
     "nuid": "45f5b5eb-2157-43ce-9c0e-9866b7af29af",
     "showTitle": false,
     "tableResultSettingsMap": {},
     "title": ""
    }
   },
   "source": [
    "## Key Takeaways\n",
    "\n",
    "✅ **Usage Dashboard**: Your central hub for cost monitoring and analysis  \n",
    "✅ **System Tables**: Provide granular data for custom cost analytics  \n",
    "✅ **Optimization**: Regular review and rightsizing saves significant costs  \n",
    "✅ **Monitoring**: Proactive alerts prevent budget overruns  \n",
    "✅ **Allocation**: Tags enable accurate cost attribution and chargeback  \n",
    "\n",
    "## Next Steps\n",
    "- Set up regular cost review meetings\n",
    "- Implement tagging strategy for cost allocation\n",
    "- Create automated cost monitoring dashboards\n",
    "- Establish cost optimization workflows\n",
    "\n",
    "## Resources\n",
    "- [Databricks Cost Management Guide](https://docs.databricks.com/administration-guide/account-settings/usage.html)\n",
    "- [System Tables Reference](https://docs.databricks.com/administration-guide/system-tables/index.html)\n",
    "- [Billing APIs Documentation](https://docs.databricks.com/dev-tools/api/latest/account.html#tag/Billing)"
   ]
  }
 ],
 "metadata": {
  "application/vnd.databricks.v1+notebook": {
   "computePreferences": null,
   "dashboards": [],
   "environmentMetadata": null,
   "inputWidgetPreferences": null,
   "language": "sql",
   "notebookMetadata": {
    "pythonIndentUnit": 4
   },
   "notebookName": "7. Tracking Costs",
   "widgets": {}
  },
  "language_info": {
   "name": "sql"
  }
 },
 "nbformat": 4,
 "nbformat_minor": 0
}
