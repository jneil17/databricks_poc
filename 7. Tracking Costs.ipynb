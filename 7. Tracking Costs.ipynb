{
 "cells": [
  {
   "cell_type": "markdown",
   "id": "f45da0eb",
   "metadata": {},
   "source": [
    "# 7. Tracking Costs in Databricks\n",
    "\n",
    "Cost management is crucial for maximizing the value of your Databricks investment. This notebook demonstrates how to monitor usage, analyze spending patterns, and optimize costs across your workspace.\n",
    "\n",
    "## Learning Objectives\n",
    "- Access and navigate the Usage Dashboard\n",
    "- Query system tables for detailed cost analysis\n",
    "- Set up cost monitoring and alerts\n",
    "- Implement cost optimization strategies\n",
    "\n",
    "## Key Features Covered\n",
    "- **Usage Dashboard**: Real-time cost monitoring and trends\n",
    "- **System Tables**: Granular billing data for analysis\n",
    "- **Resource Optimization**: Rightsizing clusters and warehouses\n",
    "- **Cost Allocation**: Tracking costs by team, project, or use case"
   ]
  },
  {
   "cell_type": "markdown",
   "id": "4322f471",
   "metadata": {},
   "source": [
    "## 1. Usage Dashboard Overview\n",
    "\n",
    "The Usage Dashboard provides a comprehensive view of your Databricks consumption and costs:\n",
    "\n",
    "### Key Metrics\n",
    "- **DBU Consumption**: Total compute units consumed\n",
    "- **Cost Trends**: Daily, weekly, and monthly spending patterns\n",
    "- **Resource Breakdown**: Costs by workspace, cluster, and job\n",
    "- **Usage Patterns**: Peak usage times and resource utilization\n",
    "\n",
    "### Accessing the Dashboard\n",
    "1. Navigate to your Databricks account console\n",
    "2. Select \"Usage\" from the left sidebar\n",
    "3. Choose your desired time range and filters\n",
    "4. Explore different views: Overview, Detailed Usage, and Billing\n",
    "\n",
    "**Note**: Account admin privileges are required to access usage data."
   ]
  },
  {
   "cell_type": "code",
   "execution_count": null,
   "id": "3e8509ce",
   "metadata": {},
   "outputs": [],
   "source": [
    "-- 2. System Tables for Cost Analysis\n",
    "-- Query actual billing data using Databricks system tables\n",
    "\n",
    "-- View recent usage by workspace\n",
    "SELECT \n",
    "    workspace_id,\n",
    "    usage_date,\n",
    "    sku_name,\n",
    "    usage_quantity,\n",
    "    usage_quantity * list_price as cost_estimate\n",
    "FROM system.billing.usage\n",
    "WHERE usage_date >= current_date() - INTERVAL 30 days\n",
    "ORDER BY usage_date DESC, cost_estimate DESC\n",
    "LIMIT 100;"
   ]
  },
  {
   "cell_type": "code",
   "execution_count": null,
   "id": "dd182fce",
   "metadata": {},
   "outputs": [],
   "source": [
    "-- Daily cost trends over the last 30 days\n",
    "SELECT \n",
    "    usage_date,\n",
    "    SUM(usage_quantity * list_price) as daily_cost,\n",
    "    COUNT(DISTINCT workspace_id) as active_workspaces\n",
    "FROM system.billing.usage\n",
    "WHERE usage_date >= current_date() - INTERVAL 30 days\n",
    "GROUP BY usage_date\n",
    "ORDER BY usage_date DESC;"
   ]
  },
  {
   "cell_type": "code",
   "execution_count": null,
   "id": "c81c0b8d",
   "metadata": {},
   "outputs": [],
   "source": [
    "-- Top consuming resources by SKU type\n",
    "SELECT \n",
    "    sku_name,\n",
    "    SUM(usage_quantity) as total_dbus,\n",
    "    SUM(usage_quantity * list_price) as total_cost,\n",
    "    AVG(usage_quantity * list_price) as avg_daily_cost\n",
    "FROM system.billing.usage\n",
    "WHERE usage_date >= current_date() - INTERVAL 7 days\n",
    "GROUP BY sku_name\n",
    "ORDER BY total_cost DESC;"
   ]
  },
  {
   "cell_type": "markdown",
   "id": "1abaa1f9",
   "metadata": {},
   "source": [
    "## 3. Cost Optimization Strategies\n",
    "\n",
    "### Cluster Management\n",
    "- **Auto Termination**: Set appropriate idle timeouts\n",
    "- **Rightsizing**: Match cluster size to workload requirements\n",
    "- **Spot Instances**: Use for fault-tolerant workloads\n",
    "- **Pool Management**: Reuse instances across jobs\n",
    "\n",
    "### SQL Warehouse Optimization\n",
    "- **Auto Scaling**: Enable based on query load\n",
    "- **Serverless SQL**: Consider for variable workloads\n",
    "- **Query Optimization**: Improve query performance to reduce runtime\n",
    "\n",
    "### Monitoring and Alerts\n",
    "- Set up budget alerts in the Usage Dashboard\n",
    "- Create custom dashboards for team-specific cost tracking\n",
    "- Implement automated reporting for stakeholders"
   ]
  },
  {
   "cell_type": "code",
   "execution_count": null,
   "id": "20f3d824",
   "metadata": {},
   "outputs": [],
   "source": [
    "-- 4. Cost Analysis by Tag (if tagging is implemented)\n",
    "-- This helps with cost allocation and chargeback\n",
    "\n",
    "SELECT \n",
    "    custom_tags['department'] as department,\n",
    "    custom_tags['project'] as project,\n",
    "    SUM(usage_quantity * list_price) as total_cost,\n",
    "    COUNT(*) as usage_records\n",
    "FROM system.billing.usage\n",
    "WHERE usage_date >= current_date() - INTERVAL 30 days\n",
    "    AND custom_tags IS NOT NULL\n",
    "GROUP BY custom_tags['department'], custom_tags['project']\n",
    "ORDER BY total_cost DESC;"
   ]
  },
  {
   "cell_type": "markdown",
   "id": "76a854a4",
   "metadata": {},
   "source": [
    "## 5. Setting Up Cost Monitoring\n",
    "\n",
    "### Dashboard Creation\n",
    "1. Create a new dashboard in Databricks SQL\n",
    "2. Add visualizations for:\n",
    "   - Daily cost trends\n",
    "   - Top spending workspaces\n",
    "   - Resource utilization patterns\n",
    "   - Budget vs. actual spending\n",
    "\n",
    "### Automated Alerts\n",
    "```python\n",
    "# Example: Cost threshold alert using Databricks Jobs\n",
    "def check_daily_costs():\n",
    "    daily_cost = spark.sql(\"\"\"\n",
    "        SELECT SUM(usage_quantity * list_price) as cost\n",
    "        FROM system.billing.usage\n",
    "        WHERE usage_date = current_date()\n",
    "    \"\"\").collect()[0]['cost']\n",
    "    \n",
    "    if daily_cost > 1000:  # $1000 threshold\n",
    "        send_alert(f\"Daily costs exceeded threshold: ${daily_cost:.2f}\")\n",
    "```\n",
    "\n",
    "### Best Practices\n",
    "- Review costs weekly with stakeholders\n",
    "- Implement cost allocation tags consistently\n",
    "- Set up automated cost reports\n",
    "- Regular rightsizing reviews\n",
    "- Monitor unused resources"
   ]
  },
  {
   "cell_type": "markdown",
   "id": "548178a1",
   "metadata": {},
   "source": [
    "## Key Takeaways\n",
    "\n",
    "✅ **Usage Dashboard**: Your central hub for cost monitoring and analysis  \n",
    "✅ **System Tables**: Provide granular data for custom cost analytics  \n",
    "✅ **Optimization**: Regular review and rightsizing saves significant costs  \n",
    "✅ **Monitoring**: Proactive alerts prevent budget overruns  \n",
    "✅ **Allocation**: Tags enable accurate cost attribution and chargeback  \n",
    "\n",
    "## Next Steps\n",
    "- Set up regular cost review meetings\n",
    "- Implement tagging strategy for cost allocation\n",
    "- Create automated cost monitoring dashboards\n",
    "- Establish cost optimization workflows\n",
    "\n",
    "## Resources\n",
    "- [Databricks Cost Management Guide](https://docs.databricks.com/administration-guide/account-settings/usage.html)\n",
    "- [System Tables Reference](https://docs.databricks.com/administration-guide/system-tables/index.html)\n",
    "- [Billing APIs Documentation](https://docs.databricks.com/dev-tools/api/latest/account.html#tag/Billing)"
   ]
  }
 ],
 "metadata": {
  "language_info": {
   "name": "python"
  }
 },
 "nbformat": 4,
 "nbformat_minor": 5
}
