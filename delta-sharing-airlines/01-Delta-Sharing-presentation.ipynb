{
 "cells": [
  {
   "cell_type": "markdown",
   "metadata": {
    "application/vnd.databricks.v1+cell": {
     "cellMetadata": {},
     "inputWidgets": {},
     "nuid": "f083faeb-b4e3-4eb1-ac56-5fea9497b9ff",
     "showTitle": false,
     "tableResultSettingsMap": {},
     "title": ""
    }
   },
   "source": [
    "# Delta Sharing: Easily share & distribute Data as a Product   <img src=\"https://i.ibb.co/vdNHFZN/deltasharingimage.png\" width = \"100\"></a>\n",
    "\n",
    "With Delta Sharing, organizations can better govern, package, and share their data to both <b>Internal</b> and <b>External Customers.</b>\n",
    "\n",
    "Delta Sharing is an Open protocol, meaning that any recipient can access the data regardless of their data platform, without any lock-in. \n",
    "\n",
    "This allows you to extend your reach and share data with any organization.\n",
    "\n",
    "<img width=\"1px\" src=\"https://ppxrzfxige.execute-api.us-west-2.amazonaws.com/v1/analytics?category=governance&org_id=3590757798436003&notebook=%2F01-Delta-Sharing-presentation&demo_name=delta-sharing-airlines&event=VIEW&path=%2F_dbdemos%2Fgovernance%2Fdelta-sharing-airlines%2F01-Delta-Sharing-presentation&version=1\">"
   ]
  },
  {
   "cell_type": "markdown",
   "metadata": {
    "application/vnd.databricks.v1+cell": {
     "cellMetadata": {},
     "inputWidgets": {},
     "nuid": "3b4135d3-61d5-45c1-b5a9-33846a37b1c4",
     "showTitle": false,
     "tableResultSettingsMap": {},
     "title": ""
    }
   },
   "source": [
    "\n",
    "## 1/ Sharing data as a Provider\n",
    "\n",
    "In this [first notebook: 02-provider-delta-sharing-demo]($./02-provider-delta-sharing-demo), we'll discover how a Data Provider can securely share data with external organizations."
   ]
  },
  {
   "cell_type": "markdown",
   "metadata": {
    "application/vnd.databricks.v1+cell": {
     "cellMetadata": {},
     "inputWidgets": {},
     "nuid": "f1c8a363-f29d-467d-a86a-e59793e6051e",
     "showTitle": false,
     "tableResultSettingsMap": {},
     "title": ""
    }
   },
   "source": [
    "\n",
    "## 2/ Accessing Delta Share data as a Receiver\n",
    "\n",
    "Now that our data is shared, discover in the [second notebook 03-receiver-delta-sharing-demo]($./03-receiver-delta-sharing-demo) how a recipient can access the data from any system."
   ]
  },
  {
   "cell_type": "markdown",
   "metadata": {
    "application/vnd.databricks.v1+cell": {
     "cellMetadata": {},
     "inputWidgets": {},
     "nuid": "29172f8b-3298-4070-b946-9d8809a4aa02",
     "showTitle": false,
     "tableResultSettingsMap": {},
     "title": ""
    }
   },
   "source": [
    "\n",
    "## 3/ Sharing data between Databricks customers with Unity Catalog\n",
    "\n",
    "If the organization receiving the data also has a Lakehouse with Databricks, sharing data between entities is even simpler.\n",
    "\n",
    "Open the [last notebook 04-share-data-within-databricks]($./04-share-data-within-databricks) to discover how this is done."
   ]
  }
 ],
 "metadata": {
  "application/vnd.databricks.v1+notebook": {
   "computePreferences": null,
   "dashboards": [],
   "environmentMetadata": {
    "environment_version": "2"
   },
   "inputWidgetPreferences": null,
   "language": "python",
   "notebookMetadata": {},
   "notebookName": "01-Delta-Sharing-presentation",
   "widgets": {}
  },
  "language_info": {
   "name": "python"
  }
 },
 "nbformat": 4,
 "nbformat_minor": 0
}
