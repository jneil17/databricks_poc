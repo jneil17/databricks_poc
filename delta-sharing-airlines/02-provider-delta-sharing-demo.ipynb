{
 "cells": [
  {
   "cell_type": "markdown",
   "metadata": {
    "application/vnd.databricks.v1+cell": {
     "cellMetadata": {},
     "inputWidgets": {},
     "nuid": "5de38d6a-dd5e-4409-a383-b90c96b6c43c",
     "showTitle": false,
     "tableResultSettingsMap": {},
     "title": ""
    }
   },
   "source": [
    "\n",
    "# B2B Data Exchange with Delta Sharing\n",
    "\n",
    "In this notebook, we'll explore how to create a SHARE to share data with another organization.\n",
    "\n",
    "\n",
    "##  Discovering the data\n",
    "To illustrate, let's consider us a company like **TripActions**, a Corporate Travel & Spend Management Platform. \n",
    "\n",
    "We have already adopted a <b> Delta Lakehouse Architecture </b> for servicing all of our data internally. \n",
    "\n",
    "A few of our largest partnered airlines, <b>American Airlines</b> & <b>Southwest</b> just let us know that they are looking to partner to add reward and recommendation programs to airline customers using TripActions' data. In order to pilot this new feature, they need daily data of scheduled and results of flights taking within TripActions.\n",
    "\n",
    "We'll leverage Delta Sharing to grant data access to American Airlines and Southwest without data duplication and replication. \n",
    "\n",
    "<img width=\"1px\" src=\"https://ppxrzfxige.execute-api.us-west-2.amazonaws.com/v1/analytics?category=governance&org_id=3590757798436003&notebook=%2F02-provider-delta-sharing-demo&demo_name=delta-sharing-airlines&event=VIEW&path=%2F_dbdemos%2Fgovernance%2Fdelta-sharing-airlines%2F02-provider-delta-sharing-demo&version=1\">"
   ]
  },
  {
   "cell_type": "markdown",
   "metadata": {
    "application/vnd.databricks.v1+cell": {
     "cellMetadata": {},
     "inputWidgets": {},
     "isMarkdownSandbox": true,
     "nuid": "87a32fa9-3a24-45e9-94ee-5d0b97535237",
     "showTitle": false,
     "tableResultSettingsMap": {},
     "title": ""
    }
   },
   "source": [
    "## Cluster setup for UC\n",
    "\n",
    "<img src=\"https://github.com/QuentinAmbard/databricks-demo/raw/main/product_demos/uc/uc-cluster-setup-single-user.png\" style=\"float: right\"/>\n",
    "\n",
    "\n",
    "To be able to run this demo, make sure you create a cluster with the security mode enabled.\n",
    "\n",
    "Go to the compute page, create a new cluster.\n",
    "\n",
    "Select \"Dedicated (formerly: Single user)\" and your UC-user (the user needs to exist at the workspace and the account level)\n",
    "\n",
    "**Make sure your cluster is using DBR 11.2+**"
   ]
  },
  {
   "cell_type": "code",
   "execution_count": 0,
   "metadata": {
    "application/vnd.databricks.v1+cell": {
     "cellMetadata": {},
     "inputWidgets": {},
     "nuid": "b5868e19-de68-426a-81fd-8bdd45d36d92",
     "showTitle": false,
     "tableResultSettingsMap": {},
     "title": ""
    },
    "jupyter": {
     "outputs_hidden": true
    }
   },
   "outputs": [],
   "source": [
    "%run ./_resources/00-setup $reset_all_data=false"
   ]
  },
  {
   "cell_type": "markdown",
   "metadata": {
    "application/vnd.databricks.v1+cell": {
     "cellMetadata": {},
     "inputWidgets": {},
     "nuid": "262ff5d1-3691-425b-9468-905b28c39f32",
     "showTitle": false,
     "tableResultSettingsMap": {},
     "title": ""
    }
   },
   "source": [
    "## Delta Sharing\n",
    "\n",
    "Delta Sharing lets you share data with external recipients without creating a copy of the data. Once they're authorized, recipients can access and download your data directly.\n",
    "\n",
    "In Delta Sharing, it all starts with a Delta Lake table registered in the Delta Sharing Server by the data provider. <br/>\n",
    "This is done with the following steps:\n",
    "- Create a RECIPIENT and share the activation link with your recipient \n",
    "- Create a SHARE\n",
    "- Add your Delta tables to the given SHARE\n",
    "- GRANT SELECT on your SHARE to your RECIPIENT\n",
    " \n",
    "Once this is done, your customer will be able to download the credential files and use it to access the data directly:\n",
    "\n",
    "- Client authenticates to Sharing Server\n",
    "- Client requests a table (including filters)\n",
    "- Server checks access permissions\n",
    "- Server generates and returns pre-signed short-lived URLs\n",
    "- Client uses URLs to directly read files from object storage\n",
    "<br>\n",
    "<img src=\"https://raw.githubusercontent.com/QuentinAmbard/databricks-demo/main/product_demos/delta-sharing-flow.png\" width=\"1000\" />\n",
    "\n",
    "## Unity Catalog\n",
    "Databricks Unity Catalog is the central place to administer your data governance and security.<br/>\n",
    "Unity Catalog’s security model is based on standard ANSI SQL, allowing data owners to grant permissions at the level of databases, tables, views, rows and columns.<br/> \n",
    "Using Databricks, we'll leverage the Unity Catalog to easily share data with our customers."
   ]
  },
  {
   "cell_type": "code",
   "execution_count": 0,
   "metadata": {
    "application/vnd.databricks.v1+cell": {
     "cellMetadata": {},
     "inputWidgets": {},
     "nuid": "1298f5f1-2bc5-4e7b-96f6-6a5535211b2b",
     "showTitle": true,
     "tableResultSettingsMap": {},
     "title": "Unity Catalog’s security model is based on standard ANSI SQL, to grant permissions at the level of databases, tables, views, rows and columns "
    }
   },
   "outputs": [],
   "source": [
    "-- the catalog has been created for your user and is defined as default. All shares will be created inside.\n",
    "-- make sure you run the 00-setup cell above to init the catalog for your user. \n",
    "SELECT CURRENT_CATALOG(), CURRENT_SCHEMA();"
   ]
  },
  {
   "cell_type": "markdown",
   "metadata": {
    "application/vnd.databricks.v1+cell": {
     "cellMetadata": {},
     "inputWidgets": {},
     "isMarkdownSandbox": true,
     "nuid": "8e80fa6f-4300-48d5-a6cb-3778a776d316",
     "showTitle": false,
     "tableResultSettingsMap": {},
     "title": ""
    }
   },
   "source": [
    "### Step 1: Create a Share\n",
    "\n",
    "<img src=\"https://raw.githubusercontent.com/QuentinAmbard/databricks-demo/main/product_demos/delta-sharing-flow-1.png\" width=\"700\" style=\"float:right\" />\n",
    "\n",
    "We'll use the Unity Catalog to create 2 shares:\n",
    "- One for American Airlines data\n",
    "- One for Southwest Airlines data"
   ]
  },
  {
   "cell_type": "code",
   "execution_count": 0,
   "metadata": {
    "application/vnd.databricks.v1+cell": {
     "cellMetadata": {},
     "inputWidgets": {},
     "nuid": "b142fcb4-8713-4deb-a7b4-17c54d471c5a",
     "showTitle": false,
     "tableResultSettingsMap": {},
     "title": ""
    }
   },
   "outputs": [],
   "source": [
    "-- Note: you need to be an account ADMIN to create the shares or GRANT CREATE PERMISSION to another principal:\n",
    "-- GRANT CREATE SHARE ON metastore TO `<my_principal@xx.com>`;\n",
    "-- GRANT CREATE RECIPIENT ON metastore TO `<my_principal@xx.com>`;\n",
    "\n",
    "CREATE SHARE IF NOT EXISTS dbdemos_americanairlines \n",
    "COMMENT 'Daily Flight Data provided by Tripactions to American Airlines for Extended Rewards';\n",
    "\n",
    "CREATE SHARE IF NOT EXISTS dbdemos_southwestairlines \n",
    "COMMENT 'Daily Flight Data provided by Tripactions to Southwest Airlines for Extended Rewards';\n",
    "\n",
    "-- You can grant ownership to other users. Typical deployments would have admin groups or similar.\n",
    "-- ALTER SHARE dbdemos_americanairlines OWNER TO `<my_principal@xx.com>`;\n",
    "-- ALTER SHARE dbdemos_southwestairlines OWNER TO `<my_principal@xx.com>`;"
   ]
  },
  {
   "cell_type": "code",
   "execution_count": 0,
   "metadata": {
    "application/vnd.databricks.v1+cell": {
     "cellMetadata": {},
     "inputWidgets": {},
     "nuid": "3eeb6d0c-e547-4c88-aaa8-de4b6e39ef66",
     "showTitle": true,
     "tableResultSettingsMap": {},
     "title": "View a Share’s Metadata"
    }
   },
   "outputs": [],
   "source": [
    "DESCRIBE SHARE dbdemos_southwestairlines;"
   ]
  },
  {
   "cell_type": "markdown",
   "metadata": {
    "application/vnd.databricks.v1+cell": {
     "cellMetadata": {},
     "inputWidgets": {},
     "isMarkdownSandbox": true,
     "nuid": "5b913628-57ec-4269-9162-27df72a40d81",
     "showTitle": false,
     "tableResultSettingsMap": {},
     "title": ""
    }
   },
   "source": [
    "\n",
    "<img src=\"https://github.com/QuentinAmbard/databricks-demo/raw/main/product_demos/delta-sharing-create-recipient.png\" width=\"500\" style=\"float:right\" />\n",
    "\n",
    "**Did you know?** Delta Sharing isn't about SQL only. \n",
    "\n",
    "You can visualize all your Delta Sharing Shares using Databricks Data Explorer UI!\n",
    "\n",
    "You can also create your share and recipient with just a few clicks.<br/>\n",
    "Select \"Delta Sharing\" in the Data Explorer menu, then \"Create Share\", \"Create recipient\" ..."
   ]
  },
  {
   "cell_type": "markdown",
   "metadata": {
    "application/vnd.databricks.v1+cell": {
     "cellMetadata": {},
     "inputWidgets": {},
     "isMarkdownSandbox": true,
     "nuid": "858d11b3-5b98-466d-b362-9cae6d72c389",
     "showTitle": false,
     "tableResultSettingsMap": {},
     "title": ""
    }
   },
   "source": [
    "### Step 2: Add the tables to the SHARES\n",
    "\n",
    "<img src=\"https://raw.githubusercontent.com/QuentinAmbard/databricks-demo/main/product_demos/delta-sharing-flow-2.png\" width=\"700\" style=\"float:right\" />\n",
    "\n",
    "We'll add our main table `airlinedata.lookupcodes` to the 2 SHARES:"
   ]
  },
  {
   "cell_type": "code",
   "execution_count": 0,
   "metadata": {
    "application/vnd.databricks.v1+cell": {
     "cellMetadata": {},
     "inputWidgets": {},
     "nuid": "622899eb-f8ab-4e4e-b53d-8e3db2f2ac65",
     "showTitle": true,
     "tableResultSettingsMap": {},
     "title": "Add our airlines tables to the SHARE"
    }
   },
   "outputs": [],
   "source": [
    "ALTER SHARE dbdemos_americanairlines  ADD TABLE lookupcodes ;\n",
    "ALTER SHARE dbdemos_southwestairlines ADD TABLE lookupcodes;"
   ]
  },
  {
   "cell_type": "code",
   "execution_count": 0,
   "metadata": {
    "application/vnd.databricks.v1+cell": {
     "cellMetadata": {},
     "inputWidgets": {},
     "nuid": "50e47e71-50ea-433b-8cc4-43a62c6a3f01",
     "showTitle": true,
     "tableResultSettingsMap": {},
     "title": "Get In-House Unique Carrier Codes to Filter Specifically to Only the Relevant Airlines"
    }
   },
   "outputs": [],
   "source": [
    "SELECT * FROM lookupcodes WHERE Description = \"Southwest Airlines Co.\" OR Description = \"American Airlines Inc.\""
   ]
  },
  {
   "cell_type": "markdown",
   "metadata": {
    "application/vnd.databricks.v1+cell": {
     "cellMetadata": {},
     "inputWidgets": {},
     "nuid": "0b9065af-ed3d-47e8-a9f8-ca65ee0e7651",
     "showTitle": false,
     "tableResultSettingsMap": {},
     "title": ""
    }
   },
   "source": [
    "### Sharing a subset of a table to a SHARE recipient based on dynamic properties\n",
    "We shouldn't share all the historical flights to all airlines. It might be private information and we don't want all of our consumers accessing the entire `flights` table. \n",
    "<br>\n",
    "#### Customizing Consumer Experience\n",
    "To restrict the data access, we can set properties on the recipient Shares, and then create a dynamic view that will query these properties.\n",
    "\n",
    "Note: before supporting VIEW, you could also restrict the access through Delta partition, but this is much less flexible.\n",
    "```\n",
    " ALTER SHARE americanairlines \n",
    "   ADD TABLE dbdemos_sharing_airlinedata.flights \n",
    "   PARTITION (UniqueCarrier = \"AA\") as dbdemos_sharing_airlinedata.`aa_flights`;\n",
    "```"
   ]
  },
  {
   "cell_type": "code",
   "execution_count": 0,
   "metadata": {
    "application/vnd.databricks.v1+cell": {
     "cellMetadata": {},
     "inputWidgets": {},
     "nuid": "779e24a4-1f0a-44bf-874b-fadc85807a40",
     "showTitle": false,
     "tableResultSettingsMap": {},
     "title": ""
    }
   },
   "outputs": [],
   "source": [
    "-- current_recipient('carrier_id') will be resolved to 'WN' or 'AA' based on the current recipient properties (see below to set the property value)\n",
    "CREATE VIEW main.dbdemos_sharing_airlinedata.flights_protected AS\n",
    "    SELECT * FROM main.dbdemos_sharing_airlinedata.flights\n",
    "    WHERE UniqueCarrier = current_recipient('carrier_id');"
   ]
  },
  {
   "cell_type": "code",
   "execution_count": 0,
   "metadata": {
    "application/vnd.databricks.v1+cell": {
     "cellMetadata": {},
     "inputWidgets": {},
     "nuid": "28448058-4df8-495c-b650-8c51515596c0",
     "showTitle": true,
     "tableResultSettingsMap": {},
     "title": "Add Filter to Only Share a Portion of the Flights Table"
    }
   },
   "outputs": [],
   "source": [
    "ALTER SHARE dbdemos_americanairlines \n",
    "  ADD VIEW main.dbdemos_sharing_airlinedata.flights_protected;\n",
    "\n",
    "ALTER SHARE dbdemos_southwestairlines \n",
    "  ADD VIEW main.dbdemos_sharing_airlinedata.flights_protected;"
   ]
  },
  {
   "cell_type": "code",
   "execution_count": 0,
   "metadata": {
    "application/vnd.databricks.v1+cell": {
     "cellMetadata": {},
     "inputWidgets": {},
     "nuid": "a89fc1d1-b387-4fb4-9f4f-69a5552ac9ef",
     "showTitle": true,
     "tableResultSettingsMap": {},
     "title": "Display all Tables and Views Inside a Share"
    }
   },
   "outputs": [],
   "source": [
    "SHOW ALL IN SHARE dbdemos_southwestairlines;"
   ]
  },
  {
   "cell_type": "markdown",
   "metadata": {
    "application/vnd.databricks.v1+cell": {
     "cellMetadata": {},
     "inputWidgets": {},
     "isMarkdownSandbox": true,
     "nuid": "33abf4c7-9afc-4e59-a3c6-ebbeda1efef6",
     "showTitle": false,
     "tableResultSettingsMap": {},
     "title": ""
    }
   },
   "source": [
    "### Step 3: Create a Recipient(s)\n",
    "\n",
    "<img src=\"https://raw.githubusercontent.com/QuentinAmbard/databricks-demo/main/product_demos/delta-sharing-flow-3.png\" width=\"700\" style=\"float:right\" />\n",
    "\n",
    "Our next step is now to create the `RECIPIENT`.\n",
    "\n",
    "We can have multiple RECIPIENT, and assign them to multiple SHARE."
   ]
  },
  {
   "cell_type": "code",
   "execution_count": 0,
   "metadata": {
    "application/vnd.databricks.v1+cell": {
     "cellMetadata": {},
     "inputWidgets": {},
     "nuid": "770d7817-9ac0-4c17-8804-f556a531c13d",
     "showTitle": false,
     "tableResultSettingsMap": {},
     "title": ""
    }
   },
   "outputs": [],
   "source": [
    "CREATE RECIPIENT IF NOT EXISTS dbdemos_southwestairlines_recipient;\n",
    "CREATE RECIPIENT IF NOT EXISTS dbdemos_americanairlines_recipient;\n",
    "\n",
    "ALTER RECIPIENT dbdemos_southwestairlines_recipient SET PROPERTIES ('carrier_id' = 'WN');\n",
    "ALTER RECIPIENT dbdemos_americanairlines_recipient SET PROPERTIES ('carrier_id' = 'AA');\n",
    "\n",
    "-- You can set the ownership to a group of admin or similar.\n",
    "-- ALTER RECIPIENT dbdemos_southwestairlines_recipient OWNER TO `<my_principal>`;\n",
    "-- ALTER RECIPIENT dbdemos_americanairlines_recipient OWNER TO `<my_principal>`;"
   ]
  },
  {
   "cell_type": "markdown",
   "metadata": {
    "application/vnd.databricks.v1+cell": {
     "cellMetadata": {},
     "inputWidgets": {},
     "isMarkdownSandbox": true,
     "nuid": "33cf2572-a950-43ae-a9fe-da1d45a2bc49",
     "showTitle": false,
     "tableResultSettingsMap": {},
     "title": ""
    }
   },
   "source": [
    "### Step 4: Share the activation link with external consumers\n",
    "\n",
    "\n",
    "<img src=\"https://raw.githubusercontent.com/QuentinAmbard/databricks-demo/main/product_demos/delta-sharing-flow-5.png\" width=\"700\" style=\"float:right\" />\n",
    "\n",
    "Each Recipient has an activation link that the consumer can use to download its credential.\n",
    "\n",
    "<img src=\"https://raw.githubusercontent.com/QuentinAmbard/databricks-demo/main/product_demos/delta-sharing-credential.png\" width=400>\n",
    "\n",
    "The credentials are typically saved as a file containing the Delta Server identity and authorize a consumer based on this identification.<br/>\n",
    "Note that the activation link is single use. You can only access it once (it'll return null if already used)."
   ]
  },
  {
   "cell_type": "markdown",
   "metadata": {
    "application/vnd.databricks.v1+cell": {
     "cellMetadata": {},
     "inputWidgets": {},
     "nuid": "9e9c4f80-264d-43e2-b864-b9dcf437f569",
     "showTitle": false,
     "tableResultSettingsMap": {},
     "title": ""
    }
   },
   "source": [
    "### Sharing data with customers using Databricks\n",
    "\n",
    "Sharing data within Databricks is even simpler. All you need to do is get the Metastore ID from your recipient and create the share using it. <br/>\n",
    "You won't need any credential file doing so, Databricks Unity Catalog does all the security for you.\n",
    "\n",
    "`CREATE RECIPIENT IF NOT EXISTS southwestairlines_recipient USING ID 'aws:us-west-2:<the_reciever_recipient>' COMMENT 'Recipient for my external customer using Databricks';`\n",
    "\n",
    "For more details, open the [Sharing data within Databricks]($./04-share-data-within-databricks) demo."
   ]
  },
  {
   "cell_type": "code",
   "execution_count": 0,
   "metadata": {
    "application/vnd.databricks.v1+cell": {
     "cellMetadata": {},
     "inputWidgets": {},
     "nuid": "58e1edfa-1d1d-4ad6-a9bc-560226bccda3",
     "showTitle": false,
     "tableResultSettingsMap": {},
     "title": ""
    }
   },
   "outputs": [],
   "source": [
    "DESCRIBE RECIPIENT dbdemos_southwestairlines_recipient"
   ]
  },
  {
   "cell_type": "code",
   "execution_count": 0,
   "metadata": {
    "application/vnd.databricks.v1+cell": {
     "cellMetadata": {},
     "inputWidgets": {},
     "nuid": "dcd3c7d6-43a6-482e-964e-1f3d3c497b42",
     "showTitle": true,
     "tableResultSettingsMap": {},
     "title": "Let's download our RECIPIENT authentication file under /FileStore/southwestairlines.share"
    }
   },
   "outputs": [],
   "source": [
    "%python\n",
    "#This function just downloads the credential file for the RECIPIENT and saves it under the given location. We'll need it next to access the data.\n",
    "download_recipient_credential(\"dbdemos_southwestairlines_recipient\", \"/Volumes/main/dbdemos_sharing_airlinedata/raw_data/southwestairlines.share\")\n",
    "download_recipient_credential(\"dbdemos_americanairlines_recipient\", \"/Volumes/main/dbdemos_sharing_airlinedata/raw_data/americanairlines.share\")"
   ]
  },
  {
   "cell_type": "markdown",
   "metadata": {
    "application/vnd.databricks.v1+cell": {
     "cellMetadata": {},
     "inputWidgets": {},
     "isMarkdownSandbox": true,
     "nuid": "f6439042-7dda-4bd5-891f-bb2136dca611",
     "showTitle": false,
     "tableResultSettingsMap": {},
     "title": ""
    }
   },
   "source": [
    "### Step 5: Define which Data to Share, and Access Level \n",
    "\n",
    "<img src=\"https://raw.githubusercontent.com/QuentinAmbard/databricks-demo/main/product_demos/delta-sharing-flow-4.png\" width=\"600\" style=\"float:right\" />\n",
    "\n",
    "We now have RECIPIENT and SHARE.\n",
    "\n",
    "The next logical step is to make sure our RECIPIENT can have SELECT access to our SHARE.\n",
    "\n",
    "As usual, this is done using standard SQL:"
   ]
  },
  {
   "cell_type": "code",
   "execution_count": 0,
   "metadata": {
    "application/vnd.databricks.v1+cell": {
     "cellMetadata": {},
     "inputWidgets": {},
     "nuid": "0d7c76a9-fd07-4a4e-8bb9-80b64a6fbe0e",
     "showTitle": false,
     "tableResultSettingsMap": {},
     "title": ""
    }
   },
   "outputs": [],
   "source": [
    "GRANT SELECT ON SHARE dbdemos_southwestairlines TO RECIPIENT dbdemos_southwestairlines_recipient;\n",
    "GRANT SELECT ON SHARE dbdemos_americanairlines TO RECIPIENT dbdemos_americanairlines_recipient;"
   ]
  },
  {
   "cell_type": "code",
   "execution_count": 0,
   "metadata": {
    "application/vnd.databricks.v1+cell": {
     "cellMetadata": {},
     "inputWidgets": {},
     "nuid": "e766ef45-6317-447f-baff-eee692c05b00",
     "showTitle": true,
     "tableResultSettingsMap": {},
     "title": "Step 9: Audit Who has Access to a Share"
    }
   },
   "outputs": [],
   "source": [
    "SHOW GRANT ON SHARE dbdemos_southwestairlines;"
   ]
  },
  {
   "cell_type": "code",
   "execution_count": 0,
   "metadata": {
    "application/vnd.databricks.v1+cell": {
     "cellMetadata": {},
     "inputWidgets": {},
     "nuid": "497a57b3-5fa3-40b4-84bf-3efd330d82f3",
     "showTitle": true,
     "tableResultSettingsMap": {},
     "title": "Audit Recipient Level of Access"
    }
   },
   "outputs": [],
   "source": [
    "SHOW GRANT TO RECIPIENT dbdemos_southwestairlines_recipient;"
   ]
  },
  {
   "cell_type": "code",
   "execution_count": 0,
   "metadata": {
    "application/vnd.databricks.v1+cell": {
     "cellMetadata": {},
     "inputWidgets": {},
     "nuid": "030f4741-8fe5-44d2-9aab-91dfe3ea6ef7",
     "showTitle": true,
     "tableResultSettingsMap": {},
     "title": "Revoke Access if Needed"
    }
   },
   "outputs": [],
   "source": [
    "REVOKE SELECT ON SHARE dbdemos_southwestairlines FROM RECIPIENT dbdemos_americanairlines_recipient;"
   ]
  },
  {
   "cell_type": "code",
   "execution_count": 0,
   "metadata": {
    "application/vnd.databricks.v1+cell": {
     "cellMetadata": {},
     "inputWidgets": {},
     "nuid": "3b852bbf-7ec2-41ad-baa3-f9943418ac37",
     "showTitle": true,
     "tableResultSettingsMap": {},
     "title": "View Shares tables"
    }
   },
   "outputs": [],
   "source": [
    "SHOW ALL IN SHARE dbdemos_southwestairlines;"
   ]
  },
  {
   "cell_type": "code",
   "execution_count": 0,
   "metadata": {
    "application/vnd.databricks.v1+cell": {
     "cellMetadata": {},
     "inputWidgets": {},
     "nuid": "95afd1b4-a91c-46c8-bb10-aca4ae578593",
     "showTitle": true,
     "tableResultSettingsMap": {},
     "title": "Make sure you delete your demo catalog at the end of the demo"
    }
   },
   "outputs": [],
   "source": [
    "%python\n",
    "#CLEANUP THE DEMO FOR FRESH START, delete all share and recipient created\n",
    "#cleanup_demo()"
   ]
  },
  {
   "cell_type": "markdown",
   "metadata": {
    "application/vnd.databricks.v1+cell": {
     "cellMetadata": {},
     "inputWidgets": {},
     "nuid": "5f1c6619-fac3-462a-8254-11e94e88eba6",
     "showTitle": false,
     "tableResultSettingsMap": {},
     "title": ""
    }
   },
   "source": [
    "\n",
    "## Let's now see how a Receiver can access the data\n",
    "\n",
    "We saw how to create the \n",
    "\n",
    "\n",
    "\n",
    "Next: Discover how an external [receiver can your access]($./03-receiver-delta-sharing-demo) or easily [share data within Databricks with Unity Catalog]($./04-share-data-within-databricks)\n",
    "\n",
    "[Back to Overview]($./01-Delta-Sharing-presentation)"
   ]
  }
 ],
 "metadata": {
  "application/vnd.databricks.v1+notebook": {
   "computePreferences": null,
   "dashboards": [],
   "environmentMetadata": {
    "environment_version": "2"
   },
   "inputWidgetPreferences": null,
   "language": "sql",
   "notebookMetadata": {},
   "notebookName": "02-provider-delta-sharing-demo",
   "widgets": {}
  },
  "language_info": {
   "name": "sql"
  }
 },
 "nbformat": 4,
 "nbformat_minor": 0
}
