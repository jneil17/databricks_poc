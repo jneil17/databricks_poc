{
 "cells": [
  {
   "cell_type": "markdown",
   "metadata": {
    "application/vnd.databricks.v1+cell": {
     "cellMetadata": {},
     "inputWidgets": {},
     "nuid": "7715e284-32cb-4e6c-b25d-c7993af1365e",
     "showTitle": false,
     "tableResultSettingsMap": {},
     "title": ""
    }
   },
   "source": [
    "# Accessing the data as a Consumer\n",
    "\n",
    "In the previous notebook, we shared our data and granted read access to our RECIPIENT.\n",
    "\n",
    "Let's now see how external consumers can directly access the data.\n",
    "\n",
    "<img src=\"https://github.com/QuentinAmbard/databricks-demo/raw/main/delta-sharing/resources/images/delta-sharing-flow.png\" width=\"900px\"/>\n",
    "\n",
    "<img width=\"1px\" src=\"https://ppxrzfxige.execute-api.us-west-2.amazonaws.com/v1/analytics?category=governance&org_id=3590757798436003&notebook=%2F03-receiver-delta-sharing-demo&demo_name=delta-sharing-airlines&event=VIEW&path=%2F_dbdemos%2Fgovernance%2Fdelta-sharing-airlines%2F03-receiver-delta-sharing-demo&version=1\">"
   ]
  },
  {
   "cell_type": "markdown",
   "metadata": {
    "application/vnd.databricks.v1+cell": {
     "cellMetadata": {},
     "inputWidgets": {},
     "nuid": "237680b7-70a9-41bc-8b7d-b7e86e585d31",
     "showTitle": false,
     "tableResultSettingsMap": {},
     "title": ""
    }
   },
   "source": [
    "\n",
    "## Delta Sharing Credentials\n",
    "\n",
    "When a new Recipient entity is created for a Delta Share an activation link for that recipient will be generated. That URL will lead to a website for data recipients to download a credential file that contains a long-term access token for that recipient. Following the link will take the recipient to an activation page that looks similar to this:\n",
    "\n",
    "<img src=\"https://raw.githubusercontent.com/databricks/tech-talks/master/images/kanonymity_share_activation.png\" width=600>\n",
    "\n",
    "\n",
    "From this site the .share credential file can be downloaded by the recipient. This file contains the information and authorization token needed to access the Share. The contents of the file will look similar to the following example.\n",
    "\n",
    "\n",
    "<img src=\"https://raw.githubusercontent.com/databricks/tech-talks/master/images/delta_sharing_cred_file_3.png\" width=\"800\">\n",
    "\n",
    "Due to the sensitive nature of the token, be sure to save it in a secure location and be careful when visualising or displaying the contents. "
   ]
  },
  {
   "cell_type": "markdown",
   "metadata": {
    "application/vnd.databricks.v1+cell": {
     "cellMetadata": {},
     "inputWidgets": {},
     "nuid": "3d4c2126-c89d-4c05-9377-a54facaa54f3",
     "showTitle": false,
     "tableResultSettingsMap": {},
     "title": "Let's Start With the Vast and Trusted Python Developers as Consumers"
    }
   },
   "source": [
    "# Accessing the data using plain Python\n",
    "\n",
    "`delta-sharing` is available as a Python package that can be installed via pip. <br>\n",
    "\n",
    "This simplifies the consumer side integration; anyone who can run Python can consume shared data via the SharingClient object. <br>"
   ]
  },
  {
   "cell_type": "code",
   "execution_count": 0,
   "metadata": {
    "application/vnd.databricks.v1+cell": {
     "cellMetadata": {},
     "inputWidgets": {},
     "nuid": "75feace2-5ddd-46c5-8f09-1c5279947745",
     "showTitle": true,
     "tableResultSettingsMap": {},
     "title": "Step 0: Installing Delta Sharing library"
    }
   },
   "outputs": [],
   "source": [
    "%pip install delta-sharing"
   ]
  },
  {
   "cell_type": "code",
   "execution_count": 0,
   "metadata": {
    "application/vnd.databricks.v1+cell": {
     "cellMetadata": {},
     "inputWidgets": {},
     "nuid": "4b3c3e07-758f-463d-96af-34a9260f1386",
     "showTitle": false,
     "tableResultSettingsMap": {},
     "title": ""
    }
   },
   "outputs": [],
   "source": [
    "import delta_sharing\n",
    "# Southwest Airlines\n",
    "# In the previous notebook, we saved the credential file under dbfs:/FileStore/southwestairlines.share\n",
    "# Let's re-use it directly to access our data. If you get access error, please re-run the previous notebook\n",
    "americanairlines_profile = '/Volumes/main/dbdemos_sharing_airlinedata/raw_data/americanairlines.share'\n",
    "\n",
    "# Create a SharingClient\n",
    "client = delta_sharing.SharingClient(americanairlines_profile)\n",
    "\n",
    "# List all shared tables.\n",
    "client.list_all_tables()"
   ]
  },
  {
   "cell_type": "markdown",
   "metadata": {
    "application/vnd.databricks.v1+cell": {
     "cellMetadata": {},
     "inputWidgets": {},
     "nuid": "f903b9cd-eae9-4c0c-aa24-0a952173bfda",
     "showTitle": false,
     "tableResultSettingsMap": {},
     "title": ""
    }
   },
   "source": [
    "\n",
    "It is possible to iterate through the list to view all of the tables along with their corresponding schemas and shares. <br>\n",
    "The share file can be stored on a remote storage."
   ]
  },
  {
   "cell_type": "code",
   "execution_count": 0,
   "metadata": {
    "application/vnd.databricks.v1+cell": {
     "cellMetadata": {},
     "inputWidgets": {},
     "nuid": "27fa6fc5-18f4-4a38-83c9-2ebab9c80abe",
     "showTitle": false,
     "tableResultSettingsMap": {},
     "title": ""
    }
   },
   "outputs": [],
   "source": [
    "shares = client.list_shares()\n",
    "\n",
    "for share in shares:\n",
    "    schemas = client.list_schemas(share)\n",
    "    for schema in schemas:\n",
    "        tables = client.list_tables(schema)\n",
    "        for table in tables:\n",
    "            print(f'Table Name = {table.name}, share = {table.share}, schema = {table.schema}')"
   ]
  },
  {
   "cell_type": "markdown",
   "metadata": {
    "application/vnd.databricks.v1+cell": {
     "cellMetadata": {},
     "inputWidgets": {},
     "nuid": "c4409e1f-55de-4ed2-8b15-910ed40a59df",
     "showTitle": false,
     "tableResultSettingsMap": {},
     "title": ""
    }
   },
   "source": [
    "# Query the Shared Table Using the Ever so Popular Pandas"
   ]
  },
  {
   "cell_type": "markdown",
   "metadata": {
    "application/vnd.databricks.v1+cell": {
     "cellMetadata": {},
     "inputWidgets": {},
     "nuid": "9f167c40-d9b7-4c97-bbe3-6a202cd28808",
     "showTitle": false,
     "tableResultSettingsMap": {},
     "title": ""
    }
   },
   "source": [
    "Delta sharing allows us to access data via Pandas connector. <br>\n",
    "To access the shared data we require a properly constructed url. <br>\n",
    "The expected format of the url is: < profile_file \\>#< share_id \\>.< database \\>.< table \\><br>"
   ]
  },
  {
   "cell_type": "code",
   "execution_count": 0,
   "metadata": {
    "application/vnd.databricks.v1+cell": {
     "cellMetadata": {},
     "inputWidgets": {},
     "nuid": "13faf1a1-2853-4515-8c86-9e6cf62067b0",
     "showTitle": false,
     "tableResultSettingsMap": {},
     "title": ""
    }
   },
   "outputs": [],
   "source": [
    "table_url = f\"{americanairlines_profile}#dbdemos_americanairlines.dbdemos_sharing_airlinedata.lookupcodes\"\n",
    "\n",
    "# Use delta sharing client to load data\n",
    "flights_df = delta_sharing.load_as_pandas(table_url)\n",
    "\n",
    "flights_df.head(10)"
   ]
  },
  {
   "cell_type": "markdown",
   "metadata": {
    "application/vnd.databricks.v1+cell": {
     "cellMetadata": {},
     "inputWidgets": {},
     "nuid": "0c180c67-5ff3-4770-822f-146e9f7ac616",
     "showTitle": false,
     "tableResultSettingsMap": {},
     "title": ""
    }
   },
   "source": [
    "# Query Big Dataset using Spark"
   ]
  },
  {
   "cell_type": "markdown",
   "metadata": {
    "application/vnd.databricks.v1+cell": {
     "cellMetadata": {},
     "inputWidgets": {},
     "nuid": "70cd584c-0b00-4981-a704-88af6b029eb8",
     "showTitle": false,
     "tableResultSettingsMap": {},
     "title": ""
    }
   },
   "source": [
    "Similar to the Pandas connector, Delta Sharing comes with a Spark connector. <br>\n",
    "The way to specify the location of the profile file slightly differs between connectors. <br>\n",
    "For the Spark connector, the profile file path needs to be HDFS compliant. <br>"
   ]
  },
  {
   "cell_type": "markdown",
   "metadata": {
    "application/vnd.databricks.v1+cell": {
     "cellMetadata": {},
     "inputWidgets": {},
     "nuid": "7494a6ae-1f9b-4205-a3f9-c2b2cbae969e",
     "showTitle": false,
     "tableResultSettingsMap": {},
     "title": ""
    }
   },
   "source": [
    "To load the data into Spark, we can use Delta Sharing client."
   ]
  },
  {
   "cell_type": "code",
   "execution_count": 0,
   "metadata": {
    "application/vnd.databricks.v1+cell": {
     "cellMetadata": {},
     "inputWidgets": {},
     "nuid": "4d0cf22e-8151-4d8c-8c66-066e3999b949",
     "showTitle": false,
     "tableResultSettingsMap": {},
     "title": ""
    }
   },
   "outputs": [],
   "source": [
    "spark_flights_df = delta_sharing.load_as_spark(f\"{americanairlines_profile}#dbdemos_americanairlines.dbdemos_sharing_airlinedata.flights_protected\")\n",
    "\n",
    "from pyspark.sql.functions import sum, col, count\n",
    "\n",
    "display(spark_flights_df.\n",
    "        where('cancelled = 1').\n",
    "        groupBy('UniqueCarrier', 'month', 'year').\n",
    "        agg(count('FlightNum').alias('Total Cancellations')).\n",
    "        orderBy(col('year').asc(), col('month').asc(), col('Total Cancellations').desc()))"
   ]
  },
  {
   "cell_type": "markdown",
   "metadata": {
    "application/vnd.databricks.v1+cell": {
     "cellMetadata": {},
     "inputWidgets": {},
     "nuid": "32670598-b7a5-4faa-bcbc-89d179098940",
     "showTitle": false,
     "tableResultSettingsMap": {},
     "title": ""
    }
   },
   "source": [
    "Alternatively, we can use 'deltaSharing' format in the Spark reader. "
   ]
  },
  {
   "cell_type": "code",
   "execution_count": 0,
   "metadata": {
    "application/vnd.databricks.v1+cell": {
     "cellMetadata": {},
     "inputWidgets": {},
     "nuid": "d783215d-b8df-4244-9bae-2bb6f1c9a4f7",
     "showTitle": false,
     "tableResultSettingsMap": {},
     "title": ""
    }
   },
   "outputs": [],
   "source": [
    "spark_flights_df = spark.read.format('deltaSharing').load(f\"{americanairlines_profile}#dbdemos_americanairlines.dbdemos_sharing_airlinedata.flights_protected\")\n",
    "\n",
    "display(spark_flights_df.\n",
    "        where('cancelled = 1').\n",
    "        groupBy('UniqueCarrier', 'month').\n",
    "        agg(count('FlightNum').alias('Total Cancellations')).\n",
    "        orderBy(col('month').asc(), col('Total Cancellations').desc()))"
   ]
  },
  {
   "cell_type": "markdown",
   "metadata": {
    "application/vnd.databricks.v1+cell": {
     "cellMetadata": {},
     "inputWidgets": {},
     "nuid": "9a78fb74-3d85-4b4f-b4b6-a6179d8a7a8a",
     "showTitle": false,
     "tableResultSettingsMap": {},
     "title": ""
    }
   },
   "source": [
    "# Query your Delta Sharing table using plain SQL with Databricks!\n",
    "\n",
    "As a Databricks user, you can experience Delta Sharing using plain SQL directly in your notebook, making data access even easier.\n",
    "\n",
    "It's then super simple to do any kind of queries using the remote table, including joining a Delta Sharing table with a local one or any other operation."
   ]
  },
  {
   "cell_type": "markdown",
   "metadata": {
    "application/vnd.databricks.v1+cell": {
     "cellMetadata": {},
     "inputWidgets": {},
     "nuid": "d6b39138-b3de-4cfb-923f-edb49b2ab80b",
     "showTitle": false,
     "tableResultSettingsMap": {},
     "title": ""
    }
   },
   "source": [
    "We can create a SQL table and use `'deltaSharing'` as a datasource. <br>\n",
    "As usual, we need to provide the url as: `< profile_file >#< share_id >.< database >.< table >` <br>\n",
    "Note that in this case we cannot use secrets since other parties would be able to see the token in clear text via table properties."
   ]
  },
  {
   "cell_type": "code",
   "execution_count": 0,
   "metadata": {
    "application/vnd.databricks.v1+cell": {
     "cellMetadata": {},
     "inputWidgets": {},
     "nuid": "63062e1e-9377-437a-8fd5-3015f74d19a4",
     "showTitle": false,
     "tableResultSettingsMap": {},
     "title": ""
    }
   },
   "outputs": [],
   "source": [
    "%sql\n",
    "DROP TABLE IF EXISTS dbdemos_delta_sharing_demo_flights;\n",
    "-- CREATE TABLE IF NOT EXISTS dbdemos_delta_sharing_demo_flights\n",
    "--     USING deltaSharing\n",
    "--     LOCATION \"/<ADD YOUR PATH>>americanairlines.share#dbdemos_americanairlines.dbdemos_sharing_airlinedata.flights_protected\";"
   ]
  },
  {
   "cell_type": "code",
   "execution_count": 0,
   "metadata": {
    "application/vnd.databricks.v1+cell": {
     "cellMetadata": {},
     "inputWidgets": {},
     "nuid": "af12717a-6c6d-4de7-9cba-25e098a7ca32",
     "showTitle": false,
     "tableResultSettingsMap": {},
     "title": ""
    }
   },
   "outputs": [],
   "source": [
    "%sql \n",
    "-- select * from dbdemos_delta_sharing_demo_flights"
   ]
  },
  {
   "cell_type": "code",
   "execution_count": 0,
   "metadata": {
    "application/vnd.databricks.v1+cell": {
     "cellMetadata": {},
     "inputWidgets": {},
     "nuid": "e9309ea7-d0c1-48a6-889d-e166c5192a6c",
     "showTitle": true,
     "tableResultSettingsMap": {},
     "title": "Make sure you delete your demo catalog at the end of the demo"
    }
   },
   "outputs": [],
   "source": [
    "#CLEANUP THE DEMO FOR FRESH START, delete all share and recipient created\n",
    "#cleanup_demo()"
   ]
  },
  {
   "cell_type": "markdown",
   "metadata": {
    "application/vnd.databricks.v1+cell": {
     "cellMetadata": {},
     "inputWidgets": {},
     "nuid": "e0efc3df-d84f-44b8-9bb3-e5d10c6c03f1",
     "showTitle": false,
     "tableResultSettingsMap": {},
     "title": ""
    }
   },
   "source": [
    "# Integration with external tools such as Power BI\n",
    "\n",
    "Delta Sharing is natively integrated with many tools outside of Databricks. \n",
    "\n",
    "As example, users can natively access a Delta Sharing table within powerBI directly:"
   ]
  },
  {
   "cell_type": "markdown",
   "metadata": {
    "application/vnd.databricks.v1+cell": {
     "cellMetadata": {},
     "inputWidgets": {},
     "isMarkdownSandbox": true,
     "nuid": "2ba8f584-9dfe-4ee2-91b0-bf7cc9ece31e",
     "showTitle": false,
     "tableResultSettingsMap": {},
     "title": ""
    }
   },
   "source": [
    "\n",
    "<iframe width=\"560\" height=\"315\" src=\"https://www.youtube.com/embed/vZ1jcDh_tsw\" title=\"YouTube video player\" frameborder=\"0\" allow=\"accelerometer; autoplay; clipboard-write; encrypted-media; gyroscope; picture-in-picture; web-share\" allowfullscreen></iframe>"
   ]
  },
  {
   "cell_type": "markdown",
   "metadata": {
    "application/vnd.databricks.v1+cell": {
     "cellMetadata": {},
     "inputWidgets": {},
     "nuid": "a0b495db-61da-4935-8cb0-a9190b7f848f",
     "showTitle": false,
     "tableResultSettingsMap": {},
     "title": ""
    }
   },
   "source": [
    "\n",
    "# Conclusion\n",
    "To recap, Delta Sharing is a cloud- and platform-agnostic solution to share your data with external consumers. \n",
    "\n",
    "It's simple (pure SQL), open (can be used on any system) and scalable.\n",
    "\n",
    "All recipients can access your data, using Databricks or any other system on any Cloud.\n",
    "\n",
    "Delta Sharing enables critical use cases around Data Sharing and Data Marketplace. \n",
    "\n",
    "When combined with Databricks' Unity Catalog, it's the perfect tool to accelerate your Datamesh deployment and improve your data governance.\n",
    "\n",
    "Next: Discover how to easily [share data within Databricks with Unity Catalog]($./04-share-data-within-databricks)\n",
    "\n",
    "\n",
    "[Back to Overview]($./01-Delta-Sharing-presentation)"
   ]
  }
 ],
 "metadata": {
  "application/vnd.databricks.v1+notebook": {
   "computePreferences": null,
   "dashboards": [],
   "environmentMetadata": {
    "environment_version": "2"
   },
   "inputWidgetPreferences": null,
   "language": "python",
   "notebookMetadata": {},
   "notebookName": "03-receiver-delta-sharing-demo",
   "widgets": {}
  },
  "language_info": {
   "name": "python"
  }
 },
 "nbformat": 4,
 "nbformat_minor": 0
}
