{
 "cells": [
  {
   "cell_type": "markdown",
   "metadata": {
    "application/vnd.databricks.v1+cell": {
     "cellMetadata": {},
     "inputWidgets": {},
     "nuid": "1215a32a-bdbb-4d76-a0db-d127bb38c1c3",
     "showTitle": false,
     "tableResultSettingsMap": {},
     "title": ""
    }
   },
   "source": [
    "# Sharing data between organizations using Databricks\n",
    "\n",
    "With Databricks' Unity Catalog and Delta Sharing, sharing data within an organization is much easier.\n",
    "\n",
    "We often reference this as Sharing Data from Databricks to Databricks (D2D).\n",
    "\n",
    "All you need to do is to provide your metastore id to the organization sharing the data, and they'll be able to grant you access directly, without having to worry about credential files or security.\n",
    "\n",
    "<img width=\"1px\" src=\"https://ppxrzfxige.execute-api.us-west-2.amazonaws.com/v1/analytics?category=governance&org_id=3590757798436003&notebook=%2F04-share-data-within-databricks&demo_name=delta-sharing-airlines&event=VIEW&path=%2F_dbdemos%2Fgovernance%2Fdelta-sharing-airlines%2F04-share-data-within-databricks&version=1\">"
   ]
  },
  {
   "cell_type": "code",
   "execution_count": 0,
   "metadata": {
    "application/vnd.databricks.v1+cell": {
     "cellMetadata": {},
     "inputWidgets": {},
     "nuid": "e6865d86-bf9b-42de-9cc1-1cd8513d7cd9",
     "showTitle": false,
     "tableResultSettingsMap": {},
     "title": ""
    },
    "jupyter": {
     "outputs_hidden": true
    }
   },
   "outputs": [],
   "source": [
    "%run ./_resources/00-setup $reset_all_data=false"
   ]
  },
  {
   "cell_type": "markdown",
   "metadata": {
    "application/vnd.databricks.v1+cell": {
     "cellMetadata": {},
     "inputWidgets": {},
     "nuid": "d6e854c4-5406-4cd1-bd29-dfd4283b8003",
     "showTitle": false,
     "tableResultSettingsMap": {},
     "title": ""
    }
   },
   "source": [
    "## Step 1: Receiver needs to share its metastore ID\n",
    "\n",
    "To get access to your provider's data, you need to send your metastore ID. This can be retrieved very easily.\n",
    "\n",
    "As a **Receiver**, send your metastore ID to the provider"
   ]
  },
  {
   "cell_type": "code",
   "execution_count": 0,
   "metadata": {
    "application/vnd.databricks.v1+cell": {
     "cellMetadata": {},
     "inputWidgets": {},
     "nuid": "902596ea-83cc-413f-b681-24018c6e7cf8",
     "showTitle": false,
     "tableResultSettingsMap": {},
     "title": ""
    }
   },
   "outputs": [],
   "source": [
    "SELECT current_metastore();"
   ]
  },
  {
   "cell_type": "markdown",
   "metadata": {
    "application/vnd.databricks.v1+cell": {
     "cellMetadata": {},
     "inputWidgets": {},
     "nuid": "c1721b51-ab68-4165-b041-13b3de1051db",
     "showTitle": false,
     "tableResultSettingsMap": {},
     "title": ""
    }
   },
   "source": [
    "## Step 2: Provider creates the recipient using the receiver metastore id\n",
    "\n",
    "The data provider can now easily create a recipient using this metastore id:\n",
    "\n",
    "As a **Receiver**, send your metastore ID to the provider"
   ]
  },
  {
   "cell_type": "code",
   "execution_count": 0,
   "metadata": {
    "application/vnd.databricks.v1+cell": {
     "cellMetadata": {},
     "inputWidgets": {},
     "nuid": "b5c084da-95f2-4b3b-8bab-1c3756f1f5b3",
     "showTitle": true,
     "tableResultSettingsMap": {},
     "title": "Full steps to create a share & recipient using the metastore id"
    }
   },
   "outputs": [],
   "source": [
    "-- Start with the share creation\n",
    "CREATE SHARE IF NOT EXISTS dbdemos_my_d2d_share COMMENT 'My share containing data for other organization';\n",
    "-- For the demo we'll grant ownership to all users. Typical deployments would have admin groups or similar.\n",
    "-- ALTER SHARE dbdemos_my_d2d_share OWNER TO `account users`;\n",
    "-- Add our tables (as many as you want, see previous notebook for more details)\n",
    "-- Note that we can turn on Change Data Feed on the table and share (Note:  this not yet supported with serverless/managed storage)\n",
    "-- ALTER TABLE dbdemos_sharing_airlinedata.lookupcodes SET TBLPROPERTIES (delta.enableChangeDataFeed = true);\n",
    "ALTER SHARE dbdemos_my_d2d_share ADD TABLE main.dbdemos_sharing_airlinedata.lookupcodes ; --WITH CHANGE DATA FEED\n",
    "\n",
    "-- Create the recipient using the metastore id shared by the receiver (see previous cell)\n",
    "CREATE RECIPIENT IF NOT EXISTS dbdemos_databricks_to_databricks_demo USING ID 'aws:us-west-2:<the_receiver_recipient>' COMMENT 'Recipient for my external customer using Databricks';\n",
    "-- Grant select access to the share\n",
    "GRANT SELECT ON SHARE dbdemos_my_d2d_share TO RECIPIENT dbdemos_databricks_to_databricks_demo;"
   ]
  },
  {
   "cell_type": "markdown",
   "metadata": {
    "application/vnd.databricks.v1+cell": {
     "cellMetadata": {},
     "inputWidgets": {},
     "nuid": "d8db0261-7a4c-4a9f-84e4-aed08931a2c3",
     "showTitle": false,
     "tableResultSettingsMap": {},
     "title": ""
    }
   },
   "source": [
    "## Step 3: accept and mount the share as a receiver\n",
    "\n",
    "As a receiver, we can now see the data listed as a provider. It'll appear as `PROVIDER`."
   ]
  },
  {
   "cell_type": "code",
   "execution_count": 0,
   "metadata": {
    "application/vnd.databricks.v1+cell": {
     "cellMetadata": {},
     "inputWidgets": {},
     "nuid": "c190df16-8fac-4090-b0d9-0e4b3c6dd83f",
     "showTitle": true,
     "tableResultSettingsMap": {},
     "title": "List all your providers. The one created previously (databricks_to_databricks) will appear"
    }
   },
   "outputs": [],
   "source": [
    "SHOW PROVIDERS;"
   ]
  },
  {
   "cell_type": "code",
   "execution_count": 0,
   "metadata": {
    "application/vnd.databricks.v1+cell": {
     "cellMetadata": {},
     "inputWidgets": {},
     "nuid": "b7114ddc-f634-4fb4-8a71-2c61290b1030",
     "showTitle": true,
     "tableResultSettingsMap": {},
     "title": "List your provider details"
    }
   },
   "outputs": [],
   "source": [
    "DESC PROVIDER `dbdemos_databricks_to_databricks_demo`"
   ]
  },
  {
   "cell_type": "code",
   "execution_count": 0,
   "metadata": {
    "application/vnd.databricks.v1+cell": {
     "cellMetadata": {},
     "inputWidgets": {},
     "nuid": "e1a30309-0bfe-4b87-8f9e-edc2000bab61",
     "showTitle": true,
     "tableResultSettingsMap": {},
     "title": "List the shares details from this provider (what is being shared with me)"
    }
   },
   "outputs": [],
   "source": [
    "SHOW SHARES IN PROVIDER `dbdemos_databricks_to_databricks_demo`"
   ]
  },
  {
   "cell_type": "markdown",
   "metadata": {
    "application/vnd.databricks.v1+cell": {
     "cellMetadata": {},
     "inputWidgets": {},
     "nuid": "6d5b358d-10dd-49f1-b2ef-0882c39061b5",
     "showTitle": false,
     "tableResultSettingsMap": {},
     "title": ""
    }
   },
   "source": [
    "To make the data available to all your organization, all you now need to do as Metastore Admin is to add a new catalog using this share.\n",
    "\n",
    "You'll then be able to GRANT permission as you'd do with any other table, and start querying the data directly:"
   ]
  },
  {
   "cell_type": "code",
   "execution_count": 0,
   "metadata": {
    "application/vnd.databricks.v1+cell": {
     "cellMetadata": {},
     "inputWidgets": {},
     "nuid": "364b6d9c-b039-4be6-8209-cf08d03c855f",
     "showTitle": true,
     "tableResultSettingsMap": {},
     "title": "Create a catalog from the providers share"
    }
   },
   "outputs": [],
   "source": [
    "CREATE CATALOG IF NOT EXISTS USING SHARE `dbdemos_databricks_to_databricks_demo`.dbdemos_my_d2d_share;"
   ]
  },
  {
   "cell_type": "code",
   "execution_count": 0,
   "metadata": {
    "application/vnd.databricks.v1+cell": {
     "cellMetadata": {},
     "inputWidgets": {},
     "nuid": "b35dcb49-e30d-497e-ab66-2571f7e38564",
     "showTitle": true,
     "tableResultSettingsMap": {},
     "title": "That's it! Our data is now ready to be used:"
    }
   },
   "outputs": [],
   "source": [
    "SELECT * FROM  `dbdemos_databricks_to_databricks_demo`.dbdemos_my_d2d_share.lookupcodes"
   ]
  },
  {
   "cell_type": "markdown",
   "metadata": {
    "application/vnd.databricks.v1+cell": {
     "cellMetadata": {},
     "inputWidgets": {},
     "nuid": "83f25cf1-365d-4436-8c81-adde231d114f",
     "showTitle": false,
     "tableResultSettingsMap": {},
     "title": ""
    }
   },
   "source": [
    "## Subscribing to Change Data Feed\n",
    "If your data is being updated or deleted, you'll likely want to share the increments so that the external organization can access them.\n",
    "\n",
    "A typical use-case is GDPR deletion: you want to make sure other organizations also capture this information so that they can DELETE the data downstream.\n",
    "\n",
    "To do so, you can simply use Delta Lake `table_changes()` capability on top of your share (see [the documentation](https://docs.databricks.com/delta/delta-change-data-feed.html) for more details): \n",
    "\n",
    "Note that as a provider, you need to turn on CDF at the table level before:\n",
    "\n",
    "`ALTER TABLE dbdemos_sharing_airlinedata.lookupcodes SET TBLPROPERTIES (delta.enableChangeDataFeed = true);`<br/>\n",
    "`ALTER SHARE my_share ADD TABLE dbdemos_sharing_airlinedata.lookupcodes WITH CHANGE DATA FEED;`\n",
    "\n",
    "**Note: this isn't supported yet with Databricks managed storage - stay tuned as we'll update the content accordingly**"
   ]
  },
  {
   "cell_type": "code",
   "execution_count": 0,
   "metadata": {
    "application/vnd.databricks.v1+cell": {
     "cellMetadata": {},
     "inputWidgets": {},
     "nuid": "524b7766-f137-49a7-ad43-bbbf53b8e056",
     "showTitle": false,
     "tableResultSettingsMap": {},
     "title": ""
    }
   },
   "outputs": [],
   "source": [
    "SELECT * FROM table_changes('dbdemos_databricks_to_databricks_demo.dbdemos_my_d2d_share.lookupcodes', 2, 4)"
   ]
  },
  {
   "cell_type": "markdown",
   "metadata": {
    "application/vnd.databricks.v1+cell": {
     "cellMetadata": {},
     "inputWidgets": {},
     "nuid": "73572195-d620-4220-813a-6cd84b94f046",
     "showTitle": false,
     "tableResultSettingsMap": {},
     "title": ""
    }
   },
   "source": [
    "\n",
    "# Conclusion\n",
    "To recap, Delta Sharing is a cloud- and platform-agnostic solution to share your data with external consumers. \n",
    "\n",
    "It's simple (pure SQL), open (can be used on any system) and scalable.\n",
    "\n",
    "All recipients can access your data, using Databricks or any other system on any Cloud.\n",
    "\n",
    "Delta Sharing enables critical use cases around Data Sharing and Data Marketplace. \n",
    "\n",
    "When combined with Databricks' Unity Catalog, it's the perfect tool to accelerate your Datamesh deployment and improve your data governance.\n",
    "\n",
    "[Back to Overview]($./01-Delta-Sharing-presentation)"
   ]
  }
 ],
 "metadata": {
  "application/vnd.databricks.v1+notebook": {
   "computePreferences": null,
   "dashboards": [],
   "environmentMetadata": {
    "environment_version": "2"
   },
   "inputWidgetPreferences": null,
   "language": "sql",
   "notebookMetadata": {},
   "notebookName": "04-share-data-within-databricks",
   "widgets": {}
  },
  "language_info": {
   "name": "sql"
  }
 },
 "nbformat": 4,
 "nbformat_minor": 0
}
