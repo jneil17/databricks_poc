{
 "cells": [
  {
   "cell_type": "markdown",
   "metadata": {
    "application/vnd.databricks.v1+cell": {
     "cellMetadata": {},
     "inputWidgets": {},
     "nuid": "e64d5a44-7681-4cbf-9371-8ad1ff4dd80a",
     "showTitle": false,
     "tableResultSettingsMap": {},
     "title": ""
    }
   },
   "source": [
    "\n",
    "# Delta Sharing - consuming data using REST API\n",
    "\n",
    "Let's deep dive on how Delta Sharing can be used to consume data using the native REST API.\n",
    "\n",
    "<img src=\"https://github.com/QuentinAmbard/databricks-demo/raw/main/delta-sharing/resources/images/delta-sharing-flow.png\" width=\"900px\"/>\n",
    "<img width=\"1px\" src=\"https://ppxrzfxige.execute-api.us-west-2.amazonaws.com/v1/analytics?category=governance&org_id=3590757798436003&notebook=%2F05-extra-delta-sharing-rest-api&demo_name=delta-sharing-airlines&event=VIEW&path=%2F_dbdemos%2Fgovernance%2Fdelta-sharing-airlines%2F05-extra-delta-sharing-rest-api&version=1\">"
   ]
  },
  {
   "cell_type": "markdown",
   "metadata": {
    "application/vnd.databricks.v1+cell": {
     "cellMetadata": {},
     "inputWidgets": {},
     "nuid": "f7720c52-8623-47b4-9c14-3fde914a461f",
     "showTitle": false,
     "tableResultSettingsMap": {},
     "title": ""
    }
   },
   "source": [
    "## Exploring REST API Using Databricks' OSS Delta Sharing Server\n",
    "\n",
    "Databricks hosts a sharing server for test: https://sharing.delta.io/ \n",
    "\n",
    "*Note: it doesn't require authentication, real-world scenarios require a Bearer token in your calls*"
   ]
  },
  {
   "cell_type": "code",
   "execution_count": 0,
   "metadata": {
    "application/vnd.databricks.v1+cell": {
     "cellMetadata": {},
     "inputWidgets": {},
     "nuid": "8abffc4c-df85-4797-8310-957e987dde5d",
     "showTitle": true,
     "tableResultSettingsMap": {},
     "title": "List Shares, a share is a top-level container"
    }
   },
   "outputs": [],
   "source": [
    "import requests\n",
    "import json\n",
    "\n",
    "data = requests.get('https://sharing.delta.io/delta-sharing/shares').json()\n",
    "# Pretty-print the JSON data\n",
    "print(json.dumps(data, indent=4))"
   ]
  },
  {
   "cell_type": "code",
   "execution_count": 0,
   "metadata": {
    "application/vnd.databricks.v1+cell": {
     "cellMetadata": {},
     "inputWidgets": {},
     "nuid": "cfc65504-5599-4a6a-a1ea-26b08386bd3a",
     "showTitle": false,
     "tableResultSettingsMap": {},
     "title": ""
    }
   },
   "outputs": [],
   "source": [
    "data = requests.get('https://sharing.delta.io/delta-sharing/shares/delta_sharing/schemas').json()\n",
    "# Pretty-print the JSON data\n",
    "print(json.dumps(data, indent=4))"
   ]
  },
  {
   "cell_type": "code",
   "execution_count": 0,
   "metadata": {
    "application/vnd.databricks.v1+cell": {
     "cellMetadata": {},
     "inputWidgets": {},
     "nuid": "c1509f8a-a071-4cba-8af7-08146dc07528",
     "showTitle": true,
     "tableResultSettingsMap": {},
     "title": "List the tables within our share"
    }
   },
   "outputs": [],
   "source": [
    "data = requests.get('https://sharing.delta.io/delta-sharing/shares/delta_sharing/schemas/default/tables').json()\n",
    "# Pretty-print the JSON data\n",
    "print(json.dumps(data, indent=4))"
   ]
  },
  {
   "cell_type": "markdown",
   "metadata": {
    "application/vnd.databricks.v1+cell": {
     "cellMetadata": {},
     "inputWidgets": {},
     "nuid": "a6c91f95-ce42-4a78-8641-1f85656343f6",
     "showTitle": false,
     "tableResultSettingsMap": {},
     "title": ""
    }
   },
   "source": [
    "### Get metadata from our \"boston-housing\" table"
   ]
  },
  {
   "cell_type": "code",
   "execution_count": 0,
   "metadata": {
    "application/vnd.databricks.v1+cell": {
     "cellMetadata": {},
     "inputWidgets": {},
     "nuid": "f11824c0-ca28-42ce-bc39-f2befaa69b3c",
     "showTitle": false,
     "tableResultSettingsMap": {},
     "title": ""
    }
   },
   "outputs": [],
   "source": [
    "data = requests.get('https://sharing.delta.io/delta-sharing/shares/delta_sharing/schemas/default/tables/boston-housing/metadata')\n",
    "json_objects = data.text.strip().split('\\n')\n",
    "for obj in json_objects:\n",
    "    print(json.dumps(json.loads(obj), indent=4))"
   ]
  },
  {
   "cell_type": "markdown",
   "metadata": {
    "application/vnd.databricks.v1+cell": {
     "cellMetadata": {},
     "inputWidgets": {},
     "nuid": "74c90886-001f-435c-83be-0b22ad95ab06",
     "showTitle": false,
     "tableResultSettingsMap": {},
     "title": ""
    }
   },
   "source": [
    "### Getting the data\n",
    "Delta Share works by creating temporary self-signed links to download the underlying files. It leverages Delta Lake statistics to push down the query and only retrieve a subset of files. \n",
    "\n",
    "The REST API allows you to get those links and download the data:"
   ]
  },
  {
   "cell_type": "code",
   "execution_count": 0,
   "metadata": {
    "application/vnd.databricks.v1+cell": {
     "cellMetadata": {},
     "inputWidgets": {},
     "nuid": "83a378d8-73f0-4b37-919b-02645f21d6e8",
     "showTitle": true,
     "tableResultSettingsMap": {},
     "title": "Getting access to boston-housing data"
    }
   },
   "outputs": [],
   "source": [
    "import requests\n",
    "import json\n",
    "\n",
    "# Define the JSON payload\n",
    "payload = {\n",
    "    \"predicateHints\": [\n",
    "        \"date >= '2021-01-01'\",\n",
    "        \"date <= '2021-01-31'\"\n",
    "    ],\n",
    "    \"limitHint\": 1000\n",
    "}\n",
    "\n",
    "# Send the POST request\n",
    "response = requests.post(\"https://sharing.delta.io/delta-sharing/shares/delta_sharing/schemas/default/tables/boston-housing/query\", headers={\"Content-Type\": \"application/json\"}, json=payload)\n",
    "\n",
    "json_objects = response.text.strip().split('\\n')\n",
    "for obj in json_objects:\n",
    "    print(json.dumps(json.loads(obj), indent=4))"
   ]
  }
 ],
 "metadata": {
  "application/vnd.databricks.v1+notebook": {
   "computePreferences": null,
   "dashboards": [],
   "environmentMetadata": {
    "environment_version": "2"
   },
   "inputWidgetPreferences": null,
   "language": "python",
   "notebookMetadata": {},
   "notebookName": "05-extra-delta-sharing-rest-api",
   "widgets": {}
  },
  "language_info": {
   "name": "python"
  }
 },
 "nbformat": 4,
 "nbformat_minor": 0
}
