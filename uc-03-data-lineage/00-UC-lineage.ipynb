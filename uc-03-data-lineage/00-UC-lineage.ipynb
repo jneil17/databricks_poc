{
 "cells": [
  {
   "cell_type": "markdown",
   "metadata": {
    "application/vnd.databricks.v1+cell": {
     "cellMetadata": {},
     "inputWidgets": {},
     "isMarkdownSandbox": true,
     "nuid": "40f58caa-acb3-4049-badd-9fd26d0db2b9",
     "showTitle": false,
     "tableResultSettingsMap": {},
     "title": ""
    }
   },
   "source": [
    "# Show Lineage for Delta Tables in Unity Catalog\n",
    "\n",
    "<img src=\"https://github.com/databricks-demos/dbdemos-resources/blob/main/images/product/uc/lineage/uc-lineage-slide.png?raw=true\" style=\"float:right; margin-left:10px\" width=\"700\"/>\n",
    "\n",
    "Unity Catalog captures runtime data lineage for any table to table operation executed on a Databricks cluster or SQL endpoint. Lineage operates across all languages (SQL, Python, Scala and R) and it can be visualized in the Data Explorer in near-real-time, and also retrieved via REST API.\n",
    "\n",
    "Lineage is available at two granularity levels:\n",
    "- Tables\n",
    "- Columns: ideal to track GDPR dependencies\n",
    "\n",
    "Lineage takes into account the Table ACLs present in Unity Catalog. If a user is not allowed to see a table at a certain point of the graph, its information are redacted, but they can still see that a upstream or downstream table is present.\n",
    "\n",
    "Lineage can also include **external assets and workflows** that are run **outside** of Databricks. This external lineage metadata feature is in Public Preview. See [Bring your own data lineage](https://docs.databricks.com/aws/en/data-governance/unity-catalog/external-lineage).\n",
    "\n",
    "## Working with Lineage\n",
    "\n",
    "No modifications are needed to the existing code to generate lineage. As long as you operate with tables saved in Unity Catalog, Databricks will capture all lineage information for you.\n",
    "\n",
    "## Requirements:\n",
    "\n",
    "- Source and target tables must be registered in a Unity Catalog metastore.\n",
    "- External assets (not in the metastore) must be added as external metadata objects and linked to registered securable objects.\n",
    "- Queries must use Spark DataFrame APIs (e.g., Spark SQL functions returning a DataFrame) or Databricks SQL interfaces (notebooks, SQL query editor).\n",
    "- To view lineage, users must have at least the `BROWSE` privilege on the parent catalog, and the catalog must be accessible from the workspace.\n",
    "- Permissions are required on notebooks, jobs, or dashboards as per workspace access control settings.\n",
    "- For UC-enabled pipelines, users must have `CAN VIEW` permission on the pipeline.\n",
    "- Streaming lineage between Delta tables requires DBR `11.3 LTS+`.\n",
    "- Column lineage for Lakeflow Declarative Pipelines requires DBR `13.3 LTS+`.\n",
    "\n",
    "<!-- Collect usage data (view). Remove it to disable collection. View README for more details.  -->\n",
    "<img width=\"1px\" src=\"https://ppxrzfxige.execute-api.us-west-2.amazonaws.com/v1/analytics?category=governance&org_id=3590757798436003&notebook=%2F00-UC-lineage&demo_name=uc-03-data-lineage&event=VIEW&path=%2F_dbdemos%2Fgovernance%2Fuc-03-data-lineage%2F00-UC-lineage&version=1\">"
   ]
  },
  {
   "cell_type": "code",
   "execution_count": 0,
   "metadata": {
    "application/vnd.databricks.v1+cell": {
     "cellMetadata": {},
     "inputWidgets": {},
     "nuid": "9bba967e-03d6-429f-bf64-22d0909a11e7",
     "showTitle": false,
     "tableResultSettingsMap": {},
     "title": ""
    },
    "jupyter": {
     "outputs_hidden": true
    }
   },
   "outputs": [],
   "source": [
    "%run ./_resources/00-setup"
   ]
  },
  {
   "cell_type": "markdown",
   "metadata": {
    "application/vnd.databricks.v1+cell": {
     "cellMetadata": {},
     "inputWidgets": {},
     "nuid": "21ef41ac-5bc8-4358-a2ad-c1d416633cd7",
     "showTitle": false,
     "tableResultSettingsMap": {},
     "title": ""
    }
   },
   "source": [
    "## 1/ Create a Delta Table In Unity Catalog\n",
    "\n",
    "The first step is to create a Delta Table in Unity Catalog.\n",
    "\n",
    "We want to do that in SQL, to show multi-language support:\n",
    "\n",
    "1. Use the `CREATE TABLE` command and define a schema\n",
    "1. Use the `INSERT INTO` command to insert some rows in the table"
   ]
  },
  {
   "cell_type": "code",
   "execution_count": 0,
   "metadata": {
    "application/vnd.databricks.v1+cell": {
     "cellMetadata": {},
     "inputWidgets": {},
     "nuid": "527eb726-8ded-4afe-8670-3bf24580bd54",
     "showTitle": true,
     "tableResultSettingsMap": {},
     "title": "Display the active catalog you are working with"
    }
   },
   "outputs": [],
   "source": [
    "%sql\n",
    "SELECT CURRENT_CATALOG()"
   ]
  },
  {
   "cell_type": "code",
   "execution_count": 0,
   "metadata": {
    "application/vnd.databricks.v1+cell": {
     "cellMetadata": {},
     "inputWidgets": {},
     "nuid": "22145ec9-dbf3-4ba7-b237-4c394e759db2",
     "showTitle": true,
     "tableResultSettingsMap": {},
     "title": "I. Create the `MENU` table and Insert data"
    }
   },
   "outputs": [],
   "source": [
    "%sql\n",
    "CREATE TABLE IF NOT EXISTS menu (recipe_id INT, app string, main string, desert string);\n",
    "\n",
    "DELETE from menu;\n",
    "\n",
    "INSERT INTO menu (recipe_id, app, main, desert)\n",
    "  VALUES\n",
    "    (1, \"Ceviche\", \"Tacos\", \"Flan\"),\n",
    "    (2, \"Tomato Soup\", \"Souffle\", \"Creme Brulee\"),\n",
    "    (3, \"Chips\", \"Grilled Cheese\", \"Cheescake\");"
   ]
  },
  {
   "cell_type": "markdown",
   "metadata": {
    "application/vnd.databricks.v1+cell": {
     "cellMetadata": {},
     "inputWidgets": {},
     "isMarkdownSandbox": true,
     "nuid": "f9be75f6-2540-4fcb-90d1-f8938a298b1e",
     "showTitle": false,
     "tableResultSettingsMap": {},
     "title": ""
    }
   },
   "source": [
    "## 2/ Create a Delta Table from the Original table\n",
    "\n",
    "To show dependencies between tables, we create a new table using the `CREATE TABLE AS SELECT (CTAS)` statement from the previous table `menu`, concatenating three columns into a new one"
   ]
  },
  {
   "cell_type": "code",
   "execution_count": 0,
   "metadata": {
    "application/vnd.databricks.v1+cell": {
     "cellMetadata": {},
     "inputWidgets": {},
     "nuid": "65eca626-b905-473d-af97-7bf98e7616b1",
     "showTitle": true,
     "tableResultSettingsMap": {},
     "title": "II. Create the `dinner` table from the `menu` table"
    }
   },
   "outputs": [],
   "source": [
    "%sql\n",
    "CREATE TABLE IF NOT EXISTS dinner AS\n",
    "SELECT\n",
    "  recipe_id,\n",
    "  concat(app, \" + \", main, \" + \", desert) as full_menu\n",
    "FROM\n",
    "  menu;"
   ]
  },
  {
   "cell_type": "markdown",
   "metadata": {
    "application/vnd.databricks.v1+cell": {
     "cellMetadata": {},
     "inputWidgets": {},
     "isMarkdownSandbox": true,
     "nuid": "01caef60-900f-4914-ad69-20f2ab9156d2",
     "showTitle": false,
     "tableResultSettingsMap": {},
     "title": ""
    }
   },
   "source": [
    "## 3/ Create a Delta Table by joining Two Tables\n",
    "\n",
    "The last step is to create a third table as a join from the two previous ones. This time we will use Python instead of SQL.\n",
    "\n",
    "- We create a Dataframe with some random data formatted according to two columns, `id` and `recipe_id`\n",
    "- We save this Dataframe as a new table, `main.lineage.price`\n",
    "- We read as two Dataframes the previous two tables, `main.lineage.dinner` and `main.lineage.price`\n",
    "- We join them on `recipe_id` and save the result as a new Delta table `main.lineage.dinner_price`"
   ]
  },
  {
   "cell_type": "code",
   "execution_count": 0,
   "metadata": {
    "application/vnd.databricks.v1+cell": {
     "cellMetadata": {},
     "inputWidgets": {},
     "nuid": "5a0095d2-c196-4b89-8f3f-d6af6dbb63a8",
     "showTitle": true,
     "tableResultSettingsMap": {},
     "title": "III. Create the `dinner_price` table by joining `dinner` and `price` tables"
    }
   },
   "outputs": [],
   "source": [
    "df = (\n",
    "    spark.range(3)\n",
    "    .withColumn(\"price\", F.round(10 * F.rand(seed=42), 2))\n",
    "    .withColumnRenamed(\"id\", \"recipe_id\")\n",
    ")\n",
    "\n",
    "df.write.mode(\"overwrite\").saveAsTable(\"price\")\n",
    "\n",
    "dinner = spark.read.table(\"dinner\")\n",
    "price = spark.read.table(\"price\")\n",
    "\n",
    "dinner_price = dinner.join(price, on=\"recipe_id\")\n",
    "dinner_price.write.mode(\"overwrite\").saveAsTable(\"dinner_price\")"
   ]
  },
  {
   "cell_type": "markdown",
   "metadata": {
    "application/vnd.databricks.v1+cell": {
     "cellMetadata": {},
     "inputWidgets": {},
     "nuid": "83d790f7-5384-49b2-ba8f-3ba7b1772e93",
     "showTitle": false,
     "tableResultSettingsMap": {},
     "title": ""
    }
   },
   "source": [
    "## 4/ Visualize Table Lineage\n",
    "\n",
    "The Table lineage can be visualized by folowing the steps below:\n",
    "\n",
    "1. Select the `Catalog` explorer icon \n",
    "<img src=\"https://github.com/databricks-demos/dbdemos-resources/blob/main/icon/catalog-explorer-icon.png?raw=true\" width=\"25\"/> on the navigation bar to the left.\n",
    "2. Search for `uc_lineage` in the search tab.\n",
    "3. Expand the `dbdemos_uc_lineage` schema that is used for this demo.\n",
    "3. Click the kebab menu on any of these tables `dinner`, `menu` or `price` under the `dbdemos_uc_lineage` schema.\n",
    "4. Click the `Open in Catalog Explorer` option.\n",
    "5. Click the `Lineage` tab.\n",
    "6. Explore the page, feel free to click the `See Lineage Graph` option as well.\n",
    "\n",
    "<img src=\"https://github.com/databricks-demos/dbdemos-resources/blob/main/images/product/uc/lineage/lineage-table.gif?raw=true\"/>"
   ]
  },
  {
   "cell_type": "markdown",
   "metadata": {
    "application/vnd.databricks.v1+cell": {
     "cellMetadata": {},
     "inputWidgets": {},
     "nuid": "aed3047f-0a39-4b19-a561-457c0c272df7",
     "showTitle": false,
     "tableResultSettingsMap": {},
     "title": ""
    }
   },
   "source": [
    "## 5/ Visualize Column Lineage\n",
    "\n",
    "Lineage is also available at the column level, making it useful for tracking column dependencies and ensuring compliance with GDPR standards. Column-level lineage can also be accessed via the API.\n",
    "\n",
    "You can access the column lineage on the `Lineage graph` view by clicking the `+` icon at the end of the table box boundary, followed by clicking each column. In this case we see that the column `full_menu` in the `dinner` table is derived from the three columns `app`, `main`, and `desert` of the `menu` table:\n",
    "<br/><br/>\n",
    "\n",
    "\n",
    "<img src=\"https://github.com/databricks-demos/dbdemos-resources/blob/main/images/product/uc/lineage/lineage-column.gif?raw=true\"/>"
   ]
  },
  {
   "cell_type": "markdown",
   "metadata": {
    "application/vnd.databricks.v1+cell": {
     "cellMetadata": {},
     "inputWidgets": {},
     "nuid": "b719f2f1-6cf9-40f4-a83d-9afec7199b00",
     "showTitle": false,
     "tableResultSettingsMap": {},
     "title": ""
    }
   },
   "source": [
    "\n",
    "## 6/ Lineage Permission Model\n",
    "\n",
    "Lineage graphs share the same permission model as Unity Catalog. If a user does not have the `BROWSE` or `SELECT` privilege on a table, they cannot explore its lineage. \n",
    "\n",
    "Lineage graphs display Unity Catalog objects across all workspaces attached to the metastore, as long as the user has adequate object permissions."
   ]
  },
  {
   "cell_type": "markdown",
   "metadata": {
    "application/vnd.databricks.v1+cell": {
     "cellMetadata": {},
     "inputWidgets": {},
     "nuid": "220d4f9d-02ec-43b1-abc7-bee8cfd8542d",
     "showTitle": false,
     "tableResultSettingsMap": {},
     "title": ""
    }
   },
   "source": [
    "# Conclusion\n",
    "\n",
    "Databricks Unity Catalog let you track data lineage out of the box.\n",
    "\n",
    "No extra setup required, just read and write from your table and the engine will build the dependencies for you. Lineage can work at a table level but also at the column level, which provide a powerful tool to track dependencies on sensible data.\n",
    "\n",
    "Lineage can also show you the potential impact updating a table/column and find who will be impacted downstream."
   ]
  },
  {
   "cell_type": "markdown",
   "metadata": {
    "application/vnd.databricks.v1+cell": {
     "cellMetadata": {},
     "inputWidgets": {},
     "nuid": "02c6cff2-24d6-43ef-bb24-3a2148f53449",
     "showTitle": false,
     "tableResultSettingsMap": {},
     "title": ""
    }
   },
   "source": [
    "### Existing Limitations\n",
    "\n",
    "Review the data lineage documentation [[AWS](https://docs.databricks.com/aws/en/data-governance/unity-catalog/data-lineage#lineage-limitations), [GCP](https://docs.databricks.com/gcp/en/data-governance/unity-catalog/data-lineage), [Azure](https://learn.microsoft.com/en-us/azure/databricks/data-governance/unity-catalog/data-lineage)] for the latest limitations."
   ]
  }
 ],
 "metadata": {
  "application/vnd.databricks.v1+notebook": {
   "computePreferences": null,
   "dashboards": [],
   "environmentMetadata": {
    "environment_version": "2"
   },
   "inputWidgetPreferences": null,
   "language": "python",
   "notebookMetadata": {},
   "notebookName": "00-UC-lineage",
   "widgets": {}
  },
  "language_info": {
   "name": "python"
  }
 },
 "nbformat": 4,
 "nbformat_minor": 0
}
